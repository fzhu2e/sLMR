{
 "cells": [
  {
   "cell_type": "markdown",
   "metadata": {},
   "source": [
    "# Build Ye files"
   ]
  },
  {
   "cell_type": "markdown",
   "metadata": {},
   "source": [
    "In this notebook, we demonstrate how to build Ye files with given prior netcdf files, given proxy meta data, and given PSMs."
   ]
  },
  {
   "cell_type": "code",
   "execution_count": 1,
   "metadata": {},
   "outputs": [],
   "source": [
    "%load_ext autoreload\n",
    "%autoreload 2\n",
    "\n",
    "from slmr import LMRt\n",
    "from slmr import visual as vs\n",
    "\n",
    "from pprint import pprint\n",
    "import os\n",
    "import numpy as np\n",
    "import pandas as pd\n",
    "import pickle\n",
    "import time\n",
    "\n",
    "import prysm"
   ]
  },
  {
   "cell_type": "markdown",
   "metadata": {},
   "source": [
    "## Step 1: load proxies"
   ]
  },
  {
   "cell_type": "code",
   "execution_count": 2,
   "metadata": {},
   "outputs": [
    {
     "name": "stdout",
     "output_type": "stream",
     "text": [
      "pid=32746 >>> job.cfg created\n"
     ]
    }
   ],
   "source": [
    "job = LMRt.ReconJob()"
   ]
  },
  {
   "cell_type": "code",
   "execution_count": 3,
   "metadata": {},
   "outputs": [
    {
     "name": "stdout",
     "output_type": "stream",
     "text": [
      "Original settings:\n",
      "{'Bivalve_d18O': 'linear',\n",
      " 'Corals and Sclerosponges_Rates': 'linear',\n",
      " 'Corals and Sclerosponges_SrCa': 'linear',\n",
      " 'Corals and Sclerosponges_d18O': 'linear',\n",
      " 'Ice Cores_Accumulation': 'linear',\n",
      " 'Ice Cores_MeltFeature': 'linear',\n",
      " 'Ice Cores_d18O': 'linear',\n",
      " 'Ice Cores_dD': 'linear',\n",
      " 'Lake Cores_BioMarkers': 'linear',\n",
      " 'Lake Cores_GeoChem': 'linear',\n",
      " 'Lake Cores_Misc': 'linear',\n",
      " 'Lake Cores_Varve': 'linear',\n",
      " 'Marine Cores_d18O': 'linear',\n",
      " 'Speleothems_d18O': 'linear',\n",
      " 'Tree Rings_Isotopes': 'linear',\n",
      " 'Tree Rings_WidthBreit': 'bilinear',\n",
      " 'Tree Rings_WidthPages2': 'bilinear',\n",
      " 'Tree Rings_WoodDensity': 'linear'}\n",
      "\n",
      "Updated settings:\n",
      "{'Bivalve_d18O': 'linear',\n",
      " 'Corals and Sclerosponges_Rates': 'linear',\n",
      " 'Corals and Sclerosponges_SrCa': 'linear',\n",
      " 'Corals and Sclerosponges_d18O': 'prysm.coral.d18O',\n",
      " 'Ice Cores_Accumulation': 'linear',\n",
      " 'Ice Cores_MeltFeature': 'linear',\n",
      " 'Ice Cores_d18O': 'prysm.ice.d18O',\n",
      " 'Ice Cores_dD': 'linear',\n",
      " 'Lake Cores_BioMarkers': 'linear',\n",
      " 'Lake Cores_GeoChem': 'linear',\n",
      " 'Lake Cores_Misc': 'linear',\n",
      " 'Lake Cores_Varve': 'linear',\n",
      " 'Marine Cores_d18O': 'linear',\n",
      " 'Speleothems_d18O': 'linear',\n",
      " 'Tree Rings_Isotopes': 'linear',\n",
      " 'Tree Rings_WidthBreit': 'bilinear',\n",
      " 'Tree Rings_WidthPages2': 'prysm.vslite',\n",
      " 'Tree Rings_WoodDensity': 'linear'}\n"
     ]
    }
   ],
   "source": [
    "print('Original settings:')\n",
    "pprint(job.cfg.proxies.LMRdb.proxy_psm_type)\n",
    "\n",
    "# update\n",
    "job.cfg.proxies.LMRdb.proxy_psm_type['Tree Rings_WidthPages2'] = 'prysm.vslite'\n",
    "job.cfg.proxies.LMRdb.proxy_psm_type['Ice Cores_d18O'] = 'prysm.ice.d18O'\n",
    "job.cfg.proxies.LMRdb.proxy_psm_type['Corals and Sclerosponges_d18O'] = 'prysm.coral.d18O'\n",
    "\n",
    "print('\\nUpdated settings:')\n",
    "pprint(job.cfg.proxies.LMRdb.proxy_psm_type)"
   ]
  },
  {
   "cell_type": "code",
   "execution_count": 4,
   "metadata": {},
   "outputs": [
    {
     "name": "stdout",
     "output_type": "stream",
     "text": [
      "pid=32746 >>> job.proxy_manager created\n",
      "\n",
      "Proxy types\n",
      "--------------\n",
      "                                 Bivalve_d18O:    1\n",
      "               Corals and Sclerosponges_Rates:    8\n",
      "                Corals and Sclerosponges_SrCa:   25\n",
      "                Corals and Sclerosponges_d18O:   60\n",
      "                        Ice Cores_MeltFeature:    1\n",
      "                               Ice Cores_d18O:   31\n",
      "                                 Ice Cores_dD:    7\n",
      "                              Lake Cores_Misc:    3\n",
      "                             Lake Cores_Varve:    6\n",
      "                       Tree Rings_WidthPages2:  347\n",
      "                       Tree Rings_WoodDensity:   59\n",
      "                                        TOTAL:  548\n"
     ]
    }
   ],
   "source": [
    "# load proxies\n",
    "dirpath = '/home/fzhu/SynologyDrive/Dev/Github/sLMR/slmr/LMRt/data'\n",
    "\n",
    "db_proxies_filename = 'LMRdb_v0.4.0_Proxies.df.pckl'\n",
    "db_metadata_filename = 'LMRdb_v0.4.0_Metadata.df.pckl'\n",
    "\n",
    "job.load_proxies(\n",
    "    os.path.join(dirpath, db_proxies_filename),\n",
    "    os.path.join(dirpath, db_metadata_filename),\n",
    "    seed=0, verbose=False, print_proxy_type_list=True,\n",
    ")"
   ]
  },
  {
   "cell_type": "code",
   "execution_count": 5,
   "metadata": {},
   "outputs": [
    {
     "name": "stdout",
     "output_type": "stream",
     "text": [
      "['linear', 'prysm.vslite', 'prysm.ice.d18O', 'prysm.coral.d18O']\n"
     ]
    }
   ],
   "source": [
    "psm_keys = {                                                                                                                 \n",
    "    'assim': list(set([pobj.psm_obj.psm_key for pobj in job.proxy_manager.sites_assim_proxy_objs])),                             \n",
    "    'eval': list(set([pobj.psm_obj.psm_key for pobj in job.proxy_manager.sites_eval_proxy_objs])),                               \n",
    "}     \n",
    "\n",
    "print(psm_keys['assim'])"
   ]
  },
  {
   "cell_type": "markdown",
   "metadata": {},
   "source": [
    "## Step 2: build Ye files\n",
    "1. Specify paths for prior files\n",
    "2. run `job.build_ye_files()`, which has arguments as following:\n",
    "    + ptype (str): the target proxy type                                                                                   \n",
    "    + psm_name (str): the name of the PSM used to forward prior variables                                                  \n",
    "    + prior_filesdict (dict): e.g. {'tas': tas_filepath, 'pr': pr_filepath}                                                \n",
    "    + ye_savepath (str): the filepath to save precalculated Ye                                                             \n",
    "    + psm_params (kwargs): the specific parameters for certain PSMs "
   ]
  },
  {
   "cell_type": "code",
   "execution_count": 6,
   "metadata": {},
   "outputs": [],
   "source": [
    "dirpath = '/home/fzhu/SynologyDrive/Dev/Github/LMRv2/input/data/model/icesm_last_millennium'\n",
    "\n",
    "# atmosphere\n",
    "tas_filename = 'tas_sfc_Amon_iCESM_past1000_085001-184912.nc'\n",
    "pr_filename = 'pr_sfc_Amon_iCESM_past1000_085001-184912.nc'\n",
    "psl_filename = 'psl_sfc_Amon_iCESM_past1000_085001-184912.nc'\n",
    "d18O_filename = 'd18O_sfc_Amon_iCESM_past1000_085001-184912.nc'\n",
    "\n",
    "# ocean\n",
    "d18Ocoral_filename = 'd18Ocoral_sfc_Omon_iCESM_past1000_085001-184912.nc'\n",
    "d18Osw_filename = 'd18Osw_sfc_Omon_iCESM_past1000_085001-184912.nc'\n",
    "tos_filename = 'tos_sfc_Omon_iCESM_past1000_085001-184912.nc'  # sst\n",
    "sos_filename = 'sos_sfc_Omon_iCESM_past1000_085001-184912.nc'  # sss"
   ]
  },
  {
   "cell_type": "markdown",
   "metadata": {},
   "source": [
    "### Build Ye for tree-ring width with VS-Lite"
   ]
  },
  {
   "cell_type": "code",
   "execution_count": 7,
   "metadata": {},
   "outputs": [
    {
     "name": "stdout",
     "output_type": "stream",
     "text": [
      "Loading [tas] from /home/fzhu/SynologyDrive/Dev/Github/LMRv2/input/data/model/icesm_last_millennium/tas_sfc_Amon_iCESM_past1000_085001-184912.nc ...\n",
      "Loading [pr] from /home/fzhu/SynologyDrive/Dev/Github/LMRv2/input/data/model/icesm_last_millennium/pr_sfc_Amon_iCESM_past1000_085001-184912.nc ...\n"
     ]
    },
    {
     "name": "stderr",
     "output_type": "stream",
     "text": [
      "100%|██████████| 1/1 [00:00<00:00, 16.74it/s]"
     ]
    },
    {
     "name": "stdout",
     "output_type": "stream",
     "text": [
      "\n",
      "Processing #1 - PAGES2kv2_NAm-nv512_NAm_049:trsgi ...\n",
      "PRYSM >>> forward with prysm.vslite ...\n",
      "PRYSM >>> Using R libs from: /home/fzhu/R/x86_64-pc-linux-gnu-library/3.4\n",
      "PRYSM >>> T1=5.466, T2=10.828, M1=0.001, M2=0.275\n",
      "PRYSM >>> Target: (40.2, 244.5); Found: (40.74, 245.00)\n"
     ]
    },
    {
     "name": "stderr",
     "output_type": "stream",
     "text": [
      "\n",
      "100%|██████████| 1/1 [00:00<00:00,  9.80it/s]"
     ]
    },
    {
     "name": "stdout",
     "output_type": "stream",
     "text": [
      "\n",
      "Processing #2 - PAGES2kv2_Asia-QAMDJT_Asi_221:trsgi ...\n",
      "PRYSM >>> forward with prysm.vslite ...\n",
      "PRYSM >>> Using R libs from: /home/fzhu/R/x86_64-pc-linux-gnu-library/3.4\n",
      "PRYSM >>> T1=6.922, T2=19.149, M1=0.046, M2=0.293\n",
      "PRYSM >>> Target: (31.12, 97.03); Found: (31.26, 97.50)\n"
     ]
    },
    {
     "name": "stderr",
     "output_type": "stream",
     "text": [
      "\n",
      "100%|██████████| 1/1 [00:00<00:00, 17.13it/s]"
     ]
    },
    {
     "name": "stdout",
     "output_type": "stream",
     "text": [
      "\n",
      "Processing #3 - PAGES2kv2_Asia-ONONLS_Asi_153:trsgi ...\n",
      "PRYSM >>> forward with prysm.vslite ...\n",
      "PRYSM >>> Using R libs from: /home/fzhu/R/x86_64-pc-linux-gnu-library/3.4\n",
      "PRYSM >>> T1=4.032, T2=12.431, M1=0.087, M2=0.251\n",
      "PRYSM >>> Target: (48.83, 111.68); Found: (48.32, 112.50)\n"
     ]
    },
    {
     "name": "stderr",
     "output_type": "stream",
     "text": [
      "\n",
      "100%|██████████| 1/1 [00:00<00:00, 16.51it/s]"
     ]
    },
    {
     "name": "stdout",
     "output_type": "stream",
     "text": [
      "\n",
      "Processing #4 - PAGES2kv2_Asia-GOUQIN_Asi_044:trsgi ...\n",
      "PRYSM >>> forward with prysm.vslite ...\n",
      "PRYSM >>> Using R libs from: /home/fzhu/R/x86_64-pc-linux-gnu-library/3.4\n",
      "PRYSM >>> T1=2.530, T2=12.431, M1=0.076, M2=0.422\n",
      "PRYSM >>> Target: (34.73, 100.8); Found: (35.05, 100.00)\n"
     ]
    },
    {
     "name": "stderr",
     "output_type": "stream",
     "text": [
      "\n",
      "100%|██████████| 1/1 [00:00<00:00, 16.09it/s]"
     ]
    },
    {
     "name": "stdout",
     "output_type": "stream",
     "text": [
      "\n",
      "Processing #5 - PAGES2kv2_Asia-SHIYAT_Asi_130:trsgi ...\n",
      "PRYSM >>> forward with prysm.vslite ...\n",
      "PRYSM >>> Using R libs from: /home/fzhu/R/x86_64-pc-linux-gnu-library/3.4\n",
      "PRYSM >>> T1=8.275, T2=16.081, M1=0.083, M2=0.409\n",
      "PRYSM >>> Target: (39.83, 71.5); Found: (40.74, 72.50)\n"
     ]
    },
    {
     "name": "stderr",
     "output_type": "stream",
     "text": [
      "\n",
      "100%|██████████| 1/1 [00:00<00:00, 16.54it/s]"
     ]
    },
    {
     "name": "stdout",
     "output_type": "stream",
     "text": [
      "\n",
      "Processing #6 - PAGES2kv2_NAm-cana352_NAm_030:trsgi ...\n",
      "PRYSM >>> forward with prysm.vslite ...\n",
      "PRYSM >>> Using R libs from: /home/fzhu/R/x86_64-pc-linux-gnu-library/3.4\n",
      "PRYSM >>> T1=2.588, T2=21.358, M1=0.058, M2=0.328\n",
      "PRYSM >>> Target: (50.8, 244.7); Found: (50.21, 245.00)\n"
     ]
    },
    {
     "name": "stderr",
     "output_type": "stream",
     "text": [
      "\n",
      "100%|██████████| 1/1 [00:00<00:00, 16.67it/s]"
     ]
    },
    {
     "name": "stdout",
     "output_type": "stream",
     "text": [
      "\n",
      "Processing #7 - PAGES2kv2_NAm-mt119_NAm_046:trsgi ...\n",
      "PRYSM >>> forward with prysm.vslite ...\n",
      "PRYSM >>> Using R libs from: /home/fzhu/R/x86_64-pc-linux-gnu-library/3.4\n",
      "PRYSM >>> T1=8.278, T2=19.626, M1=0.061, M2=0.115\n",
      "PRYSM >>> Target: (46.0, 246.6); Found: (46.42, 247.50)\n"
     ]
    },
    {
     "name": "stderr",
     "output_type": "stream",
     "text": [
      "\n",
      "100%|██████████| 1/1 [00:00<00:00, 17.02it/s]"
     ]
    },
    {
     "name": "stdout",
     "output_type": "stream",
     "text": [
      "\n",
      "Processing #8 - PAGES2kv2_NAm-mt108_NAm_178:trsgi ...\n",
      "PRYSM >>> forward with prysm.vslite ...\n",
      "PRYSM >>> Using R libs from: /home/fzhu/R/x86_64-pc-linux-gnu-library/3.4\n",
      "PRYSM >>> T1=8.426, T2=21.045, M1=0.033, M2=0.153\n",
      "PRYSM >>> Target: (45.8, 247.5); Found: (46.42, 247.50)\n"
     ]
    },
    {
     "name": "stderr",
     "output_type": "stream",
     "text": [
      "\n",
      "100%|██████████| 1/1 [00:00<00:00, 16.72it/s]"
     ]
    },
    {
     "name": "stdout",
     "output_type": "stream",
     "text": [
      "\n",
      "Processing #9 - PAGES2kv2_Asia-BIARLS_Asi_142:trsgi ...\n",
      "PRYSM >>> forward with prysm.vslite ...\n",
      "PRYSM >>> Using R libs from: /home/fzhu/R/x86_64-pc-linux-gnu-library/3.4\n",
      "PRYSM >>> T1=8.041, T2=12.085, M1=0.023, M2=0.117\n",
      "PRYSM >>> Target: (49.97, 90.98); Found: (50.21, 90.00)\n"
     ]
    },
    {
     "name": "stderr",
     "output_type": "stream",
     "text": [
      "\n",
      "100%|██████████| 1/1 [00:00<00:00, 17.01it/s]"
     ]
    },
    {
     "name": "stdout",
     "output_type": "stream",
     "text": [
      "\n",
      "Processing #10 - PAGES2kv2_Asia-HORBLS_Asi_146:trsgi ...\n",
      "PRYSM >>> forward with prysm.vslite ...\n",
      "PRYSM >>> Using R libs from: /home/fzhu/R/x86_64-pc-linux-gnu-library/3.4\n",
      "PRYSM >>> T1=6.803, T2=10.881, M1=0.030, M2=0.356\n",
      "PRYSM >>> Target: (49.37, 94.88); Found: (50.21, 95.00)\n"
     ]
    },
    {
     "name": "stderr",
     "output_type": "stream",
     "text": [
      "\n",
      "100%|██████████| 1/1 [00:00<00:00, 16.20it/s]"
     ]
    },
    {
     "name": "stdout",
     "output_type": "stream",
     "text": [
      "\n",
      "Processing #11 - PAGES2kv2_SAm-CAN11.Neukom.2011_SAm_006:trsgi ...\n",
      "PRYSM >>> forward with prysm.vslite ...\n",
      "PRYSM >>> Using R libs from: /home/fzhu/R/x86_64-pc-linux-gnu-library/3.4\n",
      "PRYSM >>> T1=4.733, T2=11.691, M1=0.062, M2=0.444\n",
      "PRYSM >>> Target: (-40.1, 287.95); Found: (-40.74, 287.50)\n"
     ]
    },
    {
     "name": "stderr",
     "output_type": "stream",
     "text": [
      "\n",
      "100%|██████████| 1/1 [00:00<00:00, 16.37it/s]"
     ]
    },
    {
     "name": "stdout",
     "output_type": "stream",
     "text": [
      "\n",
      "Processing #12 - PAGES2kv2_Asia-BULGLS_Asi_143:trsgi ...\n",
      "PRYSM >>> forward with prysm.vslite ...\n",
      "PRYSM >>> Using R libs from: /home/fzhu/R/x86_64-pc-linux-gnu-library/3.4\n",
      "PRYSM >>> T1=2.219, T2=12.372, M1=0.045, M2=0.448\n",
      "PRYSM >>> Target: (47.1, 90.97); Found: (46.42, 90.00)\n"
     ]
    },
    {
     "name": "stderr",
     "output_type": "stream",
     "text": [
      "\n",
      "100%|██████████| 1/1 [00:00<00:00, 16.84it/s]"
     ]
    },
    {
     "name": "stdout",
     "output_type": "stream",
     "text": [
      "\n",
      "Processing #13 - PAGES2kv2_Aus-StewartIslan.DArrigo.1995_Aus_030:trsgi ...\n",
      "PRYSM >>> forward with prysm.vslite ...\n",
      "PRYSM >>> Using R libs from: /home/fzhu/R/x86_64-pc-linux-gnu-library/3.4\n",
      "PRYSM >>> T1=3.976, T2=13.005, M1=0.055, M2=0.216\n",
      "PRYSM >>> Target: (-47.0, 167.8); Found: (-46.42, 167.50)\n"
     ]
    },
    {
     "name": "stderr",
     "output_type": "stream",
     "text": [
      "\n",
      "100%|██████████| 1/1 [00:00<00:00, 16.94it/s]"
     ]
    },
    {
     "name": "stdout",
     "output_type": "stream",
     "text": [
      "\n",
      "Processing #14 - PAGES2kv2_NAm-cana437_NAm_156:trsgi ...\n",
      "PRYSM >>> forward with prysm.vslite ...\n",
      "PRYSM >>> Using R libs from: /home/fzhu/R/x86_64-pc-linux-gnu-library/3.4\n",
      "PRYSM >>> T1=4.733, T2=11.691, M1=0.062, M2=0.444\n",
      "PRYSM >>> Target: (52.6, 242.1); Found: (52.11, 242.50)\n"
     ]
    },
    {
     "name": "stderr",
     "output_type": "stream",
     "text": [
      "\n",
      "100%|██████████| 1/1 [00:00<00:00, 16.80it/s]"
     ]
    },
    {
     "name": "stdout",
     "output_type": "stream",
     "text": [
      "\n",
      "Processing #15 - PAGES2kv2_Asia-KOKKIY_Asi_137:trsgi ...\n",
      "PRYSM >>> forward with prysm.vslite ...\n",
      "PRYSM >>> Using R libs from: /home/fzhu/R/x86_64-pc-linux-gnu-library/3.4\n",
      "PRYSM >>> T1=6.775, T2=13.946, M1=0.063, M2=0.351\n",
      "PRYSM >>> Target: (42.42, 78.97); Found: (42.63, 80.00)\n"
     ]
    },
    {
     "name": "stderr",
     "output_type": "stream",
     "text": [
      "\n",
      "100%|██████████| 1/1 [00:00<00:00, 17.21it/s]"
     ]
    },
    {
     "name": "stdout",
     "output_type": "stream",
     "text": [
      "\n",
      "Processing #16 - PAGES2kv2_NAm-ca534_NAm_011:trsgi ...\n",
      "PRYSM >>> forward with prysm.vslite ...\n",
      "PRYSM >>> Using R libs from: /home/fzhu/R/x86_64-pc-linux-gnu-library/3.4\n",
      "PRYSM >>> T1=8.219, T2=21.025, M1=0.055, M2=0.147\n",
      "PRYSM >>> Target: (37.2, 241.9); Found: (36.95, 242.50)\n"
     ]
    },
    {
     "name": "stderr",
     "output_type": "stream",
     "text": [
      "\n",
      "100%|██████████| 1/1 [00:00<00:00, 17.15it/s]"
     ]
    },
    {
     "name": "stdout",
     "output_type": "stream",
     "text": [
      "\n",
      "Processing #17 - PAGES2kv2_NAm-mt116_NAm_045:trsgi ...\n",
      "PRYSM >>> forward with prysm.vslite ...\n",
      "PRYSM >>> Using R libs from: /home/fzhu/R/x86_64-pc-linux-gnu-library/3.4\n",
      "PRYSM >>> T1=8.261, T2=19.579, M1=0.085, M2=0.132\n",
      "PRYSM >>> Target: (46.3, 246.8); Found: (46.42, 247.50)\n"
     ]
    },
    {
     "name": "stderr",
     "output_type": "stream",
     "text": [
      "\n",
      "100%|██████████| 1/1 [00:00<00:00, 16.76it/s]"
     ]
    },
    {
     "name": "stdout",
     "output_type": "stream",
     "text": [
      "\n",
      "Processing #18 - PAGES2kv2_Asia-YKC_Asi_119:trsgi ...\n",
      "PRYSM >>> forward with prysm.vslite ...\n",
      "PRYSM >>> Using R libs from: /home/fzhu/R/x86_64-pc-linux-gnu-library/3.4\n",
      "PRYSM >>> T1=4.516, T2=11.088, M1=0.024, M2=0.297\n",
      "PRYSM >>> Target: (30.33, 130.45); Found: (31.26, 130.00)\n"
     ]
    },
    {
     "name": "stderr",
     "output_type": "stream",
     "text": [
      "\n",
      "100%|██████████| 1/1 [00:00<00:00, 16.64it/s]"
     ]
    },
    {
     "name": "stdout",
     "output_type": "stream",
     "text": [
      "\n",
      "Processing #19 - PAGES2kv2_Asia-NOGSAK_Asi_216:trsgi ...\n",
      "PRYSM >>> forward with prysm.vslite ...\n",
      "PRYSM >>> Using R libs from: /home/fzhu/R/x86_64-pc-linux-gnu-library/3.4\n",
      "PRYSM >>> T1=6.667, T2=11.088, M1=0.022, M2=0.273\n",
      "PRYSM >>> Target: (51.83, 143.13); Found: (52.11, 142.50)\n"
     ]
    },
    {
     "name": "stderr",
     "output_type": "stream",
     "text": [
      "\n",
      "100%|██████████| 1/1 [00:00<00:00, 17.23it/s]"
     ]
    },
    {
     "name": "stdout",
     "output_type": "stream",
     "text": [
      "\n",
      "Processing #20 - PAGES2kv2_NAm-cana384_NAm_149:trsgi ...\n",
      "PRYSM >>> forward with prysm.vslite ...\n",
      "PRYSM >>> Using R libs from: /home/fzhu/R/x86_64-pc-linux-gnu-library/3.4\n",
      "PRYSM >>> T1=6.498, T2=11.808, M1=0.060, M2=0.113\n",
      "PRYSM >>> Target: (60.1, 225.6); Found: (59.68, 225.00)\n"
     ]
    },
    {
     "name": "stderr",
     "output_type": "stream",
     "text": [
      "\n",
      "100%|██████████| 1/1 [00:00<00:00, 15.84it/s]"
     ]
    },
    {
     "name": "stdout",
     "output_type": "stream",
     "text": [
      "\n",
      "Processing #21 - PAGES2kv2_NAm-cana354_NAm_032:trsgi ...\n",
      "PRYSM >>> forward with prysm.vslite ...\n",
      "PRYSM >>> Using R libs from: /home/fzhu/R/x86_64-pc-linux-gnu-library/3.4\n",
      "PRYSM >>> T1=7.000, T2=16.356, M1=0.019, M2=0.210\n",
      "PRYSM >>> Target: (60.2, 221.5); Found: (59.68, 222.50)\n"
     ]
    },
    {
     "name": "stderr",
     "output_type": "stream",
     "text": [
      "\n",
      "100%|██████████| 1/1 [00:00<00:00, 16.53it/s]"
     ]
    },
    {
     "name": "stdout",
     "output_type": "stream",
     "text": [
      "\n",
      "Processing #22 - PAGES2kv2_NAm-ca603_NAm_109:trsgi ...\n",
      "PRYSM >>> forward with prysm.vslite ...\n",
      "PRYSM >>> Using R libs from: /home/fzhu/R/x86_64-pc-linux-gnu-library/3.4\n",
      "PRYSM >>> T1=6.269, T2=18.416, M1=0.089, M2=0.381\n",
      "PRYSM >>> Target: (37.9, 240.8); Found: (38.84, 240.00)\n"
     ]
    },
    {
     "name": "stderr",
     "output_type": "stream",
     "text": [
      "\n",
      "100%|██████████| 1/1 [00:00<00:00, 16.34it/s]"
     ]
    },
    {
     "name": "stdout",
     "output_type": "stream",
     "text": [
      "\n",
      "Processing #23 - PAGES2kv2_Asia-10GKP_Asi_079:trsgi ...\n",
      "PRYSM >>> forward with prysm.vslite ...\n",
      "PRYSM >>> Using R libs from: /home/fzhu/R/x86_64-pc-linux-gnu-library/3.4\n",
      "PRYSM >>> T1=3.043, T2=11.668, M1=0.080, M2=0.422\n",
      "PRYSM >>> Target: (27.58, 99.35); Found: (27.47, 100.00)\n"
     ]
    },
    {
     "name": "stderr",
     "output_type": "stream",
     "text": [
      "\n",
      "100%|██████████| 1/1 [00:00<00:00, 16.72it/s]"
     ]
    },
    {
     "name": "stdout",
     "output_type": "stream",
     "text": [
      "\n",
      "Processing #24 - PAGES2kv2_Asia-UKHEWD_Asi_021:trsgi ...\n",
      "PRYSM >>> forward with prysm.vslite ...\n",
      "PRYSM >>> Using R libs from: /home/fzhu/R/x86_64-pc-linux-gnu-library/3.4\n",
      "PRYSM >>> T1=7.580, T2=17.333, M1=0.064, M2=0.237\n",
      "PRYSM >>> Target: (50.15, 85.37); Found: (50.21, 85.00)\n"
     ]
    },
    {
     "name": "stderr",
     "output_type": "stream",
     "text": [
      "\n",
      "100%|██████████| 1/1 [00:00<00:00, 17.09it/s]"
     ]
    },
    {
     "name": "stdout",
     "output_type": "stream",
     "text": [
      "\n",
      "Processing #25 - PAGES2kv2_Asia-ZHD_Asi_100:trsgi ...\n",
      "PRYSM >>> forward with prysm.vslite ...\n",
      "PRYSM >>> Using R libs from: /home/fzhu/R/x86_64-pc-linux-gnu-library/3.4\n",
      "PRYSM >>> T1=6.421, T2=16.382, M1=0.022, M2=0.128\n",
      "PRYSM >>> Target: (33.72, 96.28); Found: (33.16, 97.50)\n"
     ]
    },
    {
     "name": "stderr",
     "output_type": "stream",
     "text": [
      "\n",
      "100%|██████████| 1/1 [00:00<00:00, 16.40it/s]"
     ]
    },
    {
     "name": "stdout",
     "output_type": "stream",
     "text": [
      "\n",
      "Processing #26 - PAGES2kv2_NAm-cana378_NAm_147:trsgi ...\n",
      "PRYSM >>> forward with prysm.vslite ...\n",
      "PRYSM >>> Using R libs from: /home/fzhu/R/x86_64-pc-linux-gnu-library/3.4\n",
      "PRYSM >>> T1=6.159, T2=10.982, M1=0.047, M2=0.136\n",
      "PRYSM >>> Target: (61.4, 231.6); Found: (61.58, 232.50)\n"
     ]
    },
    {
     "name": "stderr",
     "output_type": "stream",
     "text": [
      "\n",
      "100%|██████████| 1/1 [00:00<00:00, 16.89it/s]"
     ]
    },
    {
     "name": "stdout",
     "output_type": "stream",
     "text": [
      "\n",
      "Processing #27 - PAGES2kv2_Asia-Ulagan.Magda.2011_Asi_010:trsgi ...\n",
      "PRYSM >>> forward with prysm.vslite ...\n",
      "PRYSM >>> Using R libs from: /home/fzhu/R/x86_64-pc-linux-gnu-library/3.4\n",
      "PRYSM >>> T1=8.069, T2=12.938, M1=0.079, M2=0.463\n",
      "PRYSM >>> Target: (50.68, 87.97); Found: (50.21, 87.50)\n"
     ]
    },
    {
     "name": "stderr",
     "output_type": "stream",
     "text": [
      "\n",
      "100%|██████████| 1/1 [00:00<00:00, 16.69it/s]"
     ]
    },
    {
     "name": "stdout",
     "output_type": "stream",
     "text": [
      "\n",
      "Processing #28 - PAGES2kv2_Asia-GHEGAN_Asi_047:trsgi ...\n",
      "PRYSM >>> forward with prysm.vslite ...\n",
      "PRYSM >>> Using R libs from: /home/fzhu/R/x86_64-pc-linux-gnu-library/3.4\n",
      "PRYSM >>> T1=8.378, T2=13.382, M1=0.036, M2=0.319\n",
      "PRYSM >>> Target: (37.93, 101.53); Found: (38.84, 102.50)\n"
     ]
    },
    {
     "name": "stderr",
     "output_type": "stream",
     "text": [
      "\n",
      "100%|██████████| 1/1 [00:00<00:00, 16.71it/s]"
     ]
    },
    {
     "name": "stdout",
     "output_type": "stream",
     "text": [
      "\n",
      "Processing #29 - PAGES2kv2_Asia-QML_Asi_093:trsgi ...\n",
      "PRYSM >>> forward with prysm.vslite ...\n",
      "PRYSM >>> Using R libs from: /home/fzhu/R/x86_64-pc-linux-gnu-library/3.4\n",
      "PRYSM >>> T1=7.221, T2=18.243, M1=0.048, M2=0.153\n",
      "PRYSM >>> Target: (33.8, 96.13); Found: (33.16, 95.00)\n"
     ]
    },
    {
     "name": "stderr",
     "output_type": "stream",
     "text": [
      "\n",
      "100%|██████████| 1/1 [00:00<00:00, 16.82it/s]"
     ]
    },
    {
     "name": "stdout",
     "output_type": "stream",
     "text": [
      "\n",
      "Processing #30 - PAGES2kv2_NAm-ca637_NAm_019:trsgi ...\n",
      "PRYSM >>> forward with prysm.vslite ...\n",
      "PRYSM >>> Using R libs from: /home/fzhu/R/x86_64-pc-linux-gnu-library/3.4\n",
      "PRYSM >>> T1=8.213, T2=15.985, M1=0.033, M2=0.470\n",
      "PRYSM >>> Target: (36.4, 241.8); Found: (36.95, 242.50)\n"
     ]
    },
    {
     "name": "stderr",
     "output_type": "stream",
     "text": [
      "\n",
      "100%|██████████| 1/1 [00:00<00:00, 17.16it/s]"
     ]
    },
    {
     "name": "stdout",
     "output_type": "stream",
     "text": [
      "\n",
      "Processing #31 - PAGES2kv2_Asia-MQFXJP_Asi_054:trsgi ...\n",
      "PRYSM >>> forward with prysm.vslite ...\n",
      "PRYSM >>> Using R libs from: /home/fzhu/R/x86_64-pc-linux-gnu-library/3.4\n",
      "PRYSM >>> T1=8.378, T2=13.382, M1=0.036, M2=0.319\n",
      "PRYSM >>> Target: (34.75, 99.68); Found: (35.05, 100.00)\n"
     ]
    },
    {
     "name": "stderr",
     "output_type": "stream",
     "text": [
      "\n",
      "100%|██████████| 1/1 [00:00<00:00, 16.77it/s]"
     ]
    },
    {
     "name": "stdout",
     "output_type": "stream",
     "text": [
      "\n",
      "Processing #32 - PAGES2kv2_Asia-MSFCDD_Asi_206:trsgi ...\n",
      "PRYSM >>> forward with prysm.vslite ...\n",
      "PRYSM >>> Using R libs from: /home/fzhu/R/x86_64-pc-linux-gnu-library/3.4\n",
      "PRYSM >>> T1=1.838, T2=12.431, M1=0.058, M2=0.452\n",
      "PRYSM >>> Target: (35.5, 74.08); Found: (35.05, 75.00)\n"
     ]
    },
    {
     "name": "stderr",
     "output_type": "stream",
     "text": [
      "\n",
      "100%|██████████| 1/1 [00:00<00:00, 16.41it/s]"
     ]
    },
    {
     "name": "stdout",
     "output_type": "stream",
     "text": [
      "\n",
      "Processing #33 - PAGES2kv2_Asia-TIANMU_Asi_065:trsgi ...\n",
      "PRYSM >>> forward with prysm.vslite ...\n",
      "PRYSM >>> Using R libs from: /home/fzhu/R/x86_64-pc-linux-gnu-library/3.4\n",
      "PRYSM >>> T1=5.317, T2=15.488, M1=0.053, M2=0.330\n",
      "PRYSM >>> Target: (30.33, 119.43); Found: (31.26, 120.00)\n"
     ]
    },
    {
     "name": "stderr",
     "output_type": "stream",
     "text": [
      "\n",
      "100%|██████████| 1/1 [00:00<00:00, 16.50it/s]"
     ]
    },
    {
     "name": "stdout",
     "output_type": "stream",
     "text": [
      "\n",
      "Processing #34 - PAGES2kv2_NAm-ak078_NAm_096:trsgi ...\n",
      "PRYSM >>> forward with prysm.vslite ...\n",
      "PRYSM >>> Using R libs from: /home/fzhu/R/x86_64-pc-linux-gnu-library/3.4\n",
      "PRYSM >>> T1=3.225, T2=14.400, M1=0.051, M2=0.487\n",
      "PRYSM >>> Target: (61.3, 217.3); Found: (61.58, 217.50)\n"
     ]
    },
    {
     "name": "stderr",
     "output_type": "stream",
     "text": [
      "\n",
      "100%|██████████| 1/1 [00:00<00:00, 16.69it/s]"
     ]
    },
    {
     "name": "stdout",
     "output_type": "stream",
     "text": [
      "\n",
      "Processing #35 - PAGES2kv2_Asia-Korumdu.Panyushkina.2005_Asi_007:trsgi ...\n",
      "PRYSM >>> forward with prysm.vslite ...\n",
      "PRYSM >>> Using R libs from: /home/fzhu/R/x86_64-pc-linux-gnu-library/3.4\n",
      "PRYSM >>> T1=5.817, T2=11.938, M1=0.024, M2=0.208\n",
      "PRYSM >>> Target: (50.14, 87.72); Found: (50.21, 87.50)\n"
     ]
    },
    {
     "name": "stderr",
     "output_type": "stream",
     "text": [
      "\n",
      "100%|██████████| 1/1 [00:00<00:00, 17.10it/s]"
     ]
    },
    {
     "name": "stdout",
     "output_type": "stream",
     "text": [
      "\n",
      "Processing #36 - PAGES2kv2_Asia-ULKEPS_Asi_134:trsgi ...\n",
      "PRYSM >>> forward with prysm.vslite ...\n",
      "PRYSM >>> Using R libs from: /home/fzhu/R/x86_64-pc-linux-gnu-library/3.4\n",
      "PRYSM >>> T1=8.069, T2=19.752, M1=0.079, M2=0.202\n",
      "PRYSM >>> Target: (43.35, 77.35); Found: (42.63, 77.50)\n"
     ]
    },
    {
     "name": "stderr",
     "output_type": "stream",
     "text": [
      "\n",
      "100%|██████████| 1/1 [00:00<00:00, 16.96it/s]"
     ]
    },
    {
     "name": "stdout",
     "output_type": "stream",
     "text": [
      "\n",
      "Processing #37 - PAGES2kv2_Asia-GHURCH_Asi_172:trsgi ...\n",
      "PRYSM >>> forward with prysm.vslite ...\n",
      "PRYSM >>> Using R libs from: /home/fzhu/R/x86_64-pc-linux-gnu-library/3.4\n",
      "PRYSM >>> T1=3.870, T2=19.160, M1=0.052, M2=0.354\n",
      "PRYSM >>> Target: (29.47, 82.12); Found: (29.37, 82.50)\n"
     ]
    },
    {
     "name": "stderr",
     "output_type": "stream",
     "text": [
      "\n",
      "100%|██████████| 1/1 [00:00<00:00, 17.24it/s]"
     ]
    },
    {
     "name": "stdout",
     "output_type": "stream",
     "text": [
      "\n",
      "Processing #38 - PAGES2kv2_NAm-cana153_NAm_126:trsgi ...\n",
      "PRYSM >>> forward with prysm.vslite ...\n",
      "PRYSM >>> Using R libs from: /home/fzhu/R/x86_64-pc-linux-gnu-library/3.4\n",
      "PRYSM >>> T1=2.999, T2=20.323, M1=0.010, M2=0.121\n",
      "PRYSM >>> Target: (67.2, 244.1); Found: (67.26, 245.00)\n"
     ]
    },
    {
     "name": "stderr",
     "output_type": "stream",
     "text": [
      "\n",
      "100%|██████████| 1/1 [00:00<00:00, 17.00it/s]"
     ]
    },
    {
     "name": "stdout",
     "output_type": "stream",
     "text": [
      "\n",
      "Processing #39 - PAGES2kv2_Asia-ASTABP_Asi_184:trsgi ...\n",
      "PRYSM >>> forward with prysm.vslite ...\n",
      "PRYSM >>> Using R libs from: /home/fzhu/R/x86_64-pc-linux-gnu-library/3.4\n",
      "PRYSM >>> T1=3.259, T2=10.982, M1=0.050, M2=0.464\n",
      "PRYSM >>> Target: (35.33, 74.8); Found: (35.05, 75.00)\n"
     ]
    },
    {
     "name": "stderr",
     "output_type": "stream",
     "text": [
      "\n",
      "100%|██████████| 1/1 [00:00<00:00, 17.22it/s]"
     ]
    },
    {
     "name": "stdout",
     "output_type": "stream",
     "text": [
      "\n",
      "Processing #40 - PAGES2kv2_NAm-mt115_NAm_180:trsgi ...\n",
      "PRYSM >>> forward with prysm.vslite ...\n",
      "PRYSM >>> Using R libs from: /home/fzhu/R/x86_64-pc-linux-gnu-library/3.4\n",
      "PRYSM >>> T1=8.069, T2=19.027, M1=0.068, M2=0.119\n",
      "PRYSM >>> Target: (45.9, 245.7); Found: (46.42, 245.00)\n"
     ]
    },
    {
     "name": "stderr",
     "output_type": "stream",
     "text": [
      "\n",
      "100%|██████████| 1/1 [00:00<00:00, 17.04it/s]"
     ]
    },
    {
     "name": "stdout",
     "output_type": "stream",
     "text": [
      "\n",
      "Processing #41 - PAGES2kv2_NAm-co553_NAm_166:trsgi ...\n",
      "PRYSM >>> forward with prysm.vslite ...\n",
      "PRYSM >>> Using R libs from: /home/fzhu/R/x86_64-pc-linux-gnu-library/3.4\n",
      "PRYSM >>> T1=7.938, T2=21.528, M1=0.072, M2=0.292\n",
      "PRYSM >>> Target: (39.3, 255.0); Found: (38.84, 255.00)\n"
     ]
    },
    {
     "name": "stderr",
     "output_type": "stream",
     "text": [
      "\n",
      "100%|██████████| 1/1 [00:00<00:00, 16.99it/s]"
     ]
    },
    {
     "name": "stdout",
     "output_type": "stream",
     "text": [
      "\n",
      "Processing #42 - PAGES2kv2_Eur-ECarpathians.Popa.2009_Eur_005:trsgi ...\n",
      "PRYSM >>> forward with prysm.vslite ...\n",
      "PRYSM >>> Using R libs from: /home/fzhu/R/x86_64-pc-linux-gnu-library/3.4\n",
      "PRYSM >>> T1=8.321, T2=18.335, M1=0.026, M2=0.352\n",
      "PRYSM >>> Target: (47.0, 25.3); Found: (46.42, 25.00)\n"
     ]
    },
    {
     "name": "stderr",
     "output_type": "stream",
     "text": [
      "\n",
      "100%|██████████| 1/1 [00:00<00:00, 17.21it/s]"
     ]
    },
    {
     "name": "stdout",
     "output_type": "stream",
     "text": [
      "\n",
      "Processing #43 - PAGES2kv2_NAm-cana446_NAm_160:trsgi ...\n",
      "PRYSM >>> forward with prysm.vslite ...\n",
      "PRYSM >>> Using R libs from: /home/fzhu/R/x86_64-pc-linux-gnu-library/3.4\n",
      "PRYSM >>> T1=3.958, T2=10.828, M1=0.055, M2=0.164\n",
      "PRYSM >>> Target: (53.0, 241.8); Found: (52.11, 242.50)\n"
     ]
    },
    {
     "name": "stderr",
     "output_type": "stream",
     "text": [
      "\n",
      "100%|██████████| 1/1 [00:00<00:00, 16.84it/s]"
     ]
    },
    {
     "name": "stdout",
     "output_type": "stream",
     "text": [
      "\n",
      "Processing #44 - PAGES2kv2_NAm-cana002_NAm_111:trsgi ...\n",
      "PRYSM >>> forward with prysm.vslite ...\n",
      "PRYSM >>> Using R libs from: /home/fzhu/R/x86_64-pc-linux-gnu-library/3.4\n",
      "PRYSM >>> T1=6.796, T2=15.507, M1=0.025, M2=0.267\n",
      "PRYSM >>> Target: (58.4, 291.6); Found: (57.79, 292.50)\n"
     ]
    },
    {
     "name": "stderr",
     "output_type": "stream",
     "text": [
      "\n",
      "100%|██████████| 1/1 [00:00<00:00, 16.59it/s]"
     ]
    },
    {
     "name": "stdout",
     "output_type": "stream",
     "text": [
      "\n",
      "Processing #45 - PAGES2kv2_NAm-ca636_NAm_018:trsgi ...\n",
      "PRYSM >>> forward with prysm.vslite ...\n",
      "PRYSM >>> Using R libs from: /home/fzhu/R/x86_64-pc-linux-gnu-library/3.4\n",
      "PRYSM >>> T1=7.813, T2=15.649, M1=0.083, M2=0.425\n",
      "PRYSM >>> Target: (36.3, 241.7); Found: (36.95, 242.50)\n"
     ]
    },
    {
     "name": "stderr",
     "output_type": "stream",
     "text": [
      "\n",
      "100%|██████████| 1/1 [00:00<00:00, 16.89it/s]"
     ]
    },
    {
     "name": "stdout",
     "output_type": "stream",
     "text": [
      "\n",
      "Processing #46 - PAGES2kv2_NAm-ca609_NAm_110:trsgi ...\n",
      "PRYSM >>> forward with prysm.vslite ...\n",
      "PRYSM >>> Using R libs from: /home/fzhu/R/x86_64-pc-linux-gnu-library/3.4\n",
      "PRYSM >>> T1=2.555, T2=20.538, M1=0.005, M2=0.204\n",
      "PRYSM >>> Target: (34.1, 243.2); Found: (33.16, 242.50)\n"
     ]
    },
    {
     "name": "stderr",
     "output_type": "stream",
     "text": [
      "\n",
      "100%|██████████| 1/1 [00:00<00:00, 16.23it/s]"
     ]
    },
    {
     "name": "stdout",
     "output_type": "stream",
     "text": [
      "\n",
      "Processing #47 - PAGES2kv2_Asia-SANGTS_Asi_063:trsgi ...\n",
      "PRYSM >>> forward with prysm.vslite ...\n",
      "PRYSM >>> Using R libs from: /home/fzhu/R/x86_64-pc-linux-gnu-library/3.4\n",
      "PRYSM >>> T1=4.419, T2=13.823, M1=0.054, M2=0.366\n",
      "PRYSM >>> Target: (33.65, 107.8); Found: (33.16, 107.50)\n"
     ]
    },
    {
     "name": "stderr",
     "output_type": "stream",
     "text": [
      "\n",
      "100%|██████████| 1/1 [00:00<00:00, 16.59it/s]"
     ]
    },
    {
     "name": "stdout",
     "output_type": "stream",
     "text": [
      "\n",
      "Processing #48 - PAGES2kv2_Asia-ESPERG_Asi_131:trsgi ...\n",
      "PRYSM >>> forward with prysm.vslite ...\n",
      "PRYSM >>> Using R libs from: /home/fzhu/R/x86_64-pc-linux-gnu-library/3.4\n",
      "PRYSM >>> T1=2.552, T2=22.326, M1=0.003, M2=0.174\n",
      "PRYSM >>> Target: (40.17, 72.58); Found: (40.74, 72.50)\n"
     ]
    },
    {
     "name": "stderr",
     "output_type": "stream",
     "text": [
      "\n",
      "100%|██████████| 1/1 [00:00<00:00, 16.77it/s]"
     ]
    },
    {
     "name": "stdout",
     "output_type": "stream",
     "text": [
      "\n",
      "Processing #49 - PAGES2kv2_Asia-DULAJP_Asi_048:trsgi ...\n",
      "PRYSM >>> forward with prysm.vslite ...\n",
      "PRYSM >>> Using R libs from: /home/fzhu/R/x86_64-pc-linux-gnu-library/3.4\n",
      "PRYSM >>> T1=4.405, T2=19.342, M1=0.077, M2=0.289\n",
      "PRYSM >>> Target: (36.3, 98.08); Found: (36.95, 97.50)\n"
     ]
    },
    {
     "name": "stderr",
     "output_type": "stream",
     "text": [
      "\n",
      "100%|██████████| 1/1 [00:00<00:00, 16.34it/s]"
     ]
    },
    {
     "name": "stdout",
     "output_type": "stream",
     "text": [
      "\n",
      "Processing #50 - PAGES2kv2_Asia-MQBXJP_Asi_052:trsgi ...\n",
      "PRYSM >>> forward with prysm.vslite ...\n",
      "PRYSM >>> Using R libs from: /home/fzhu/R/x86_64-pc-linux-gnu-library/3.4\n",
      "PRYSM >>> T1=3.043, T2=11.668, M1=0.080, M2=0.422\n",
      "PRYSM >>> Target: (34.78, 99.78); Found: (35.05, 100.00)\n"
     ]
    },
    {
     "name": "stderr",
     "output_type": "stream",
     "text": [
      "\n",
      "100%|██████████| 1/1 [00:00<00:00, 16.66it/s]"
     ]
    },
    {
     "name": "stdout",
     "output_type": "stream",
     "text": [
      "\n",
      "Processing #51 - PAGES2kv2_Asia-ZHIDJP_Asi_068:trsgi ...\n",
      "PRYSM >>> forward with prysm.vslite ...\n",
      "PRYSM >>> Using R libs from: /home/fzhu/R/x86_64-pc-linux-gnu-library/3.4\n",
      "PRYSM >>> T1=6.415, T2=15.840, M1=0.009, M2=0.217\n",
      "PRYSM >>> Target: (33.72, 96.28); Found: (33.16, 97.50)\n"
     ]
    },
    {
     "name": "stderr",
     "output_type": "stream",
     "text": [
      "\n",
      "100%|██████████| 1/1 [00:00<00:00, 16.57it/s]"
     ]
    },
    {
     "name": "stdout",
     "output_type": "stream",
     "text": [
      "\n",
      "Processing #52 - PAGES2kv2_Eur-SPyrenees.Linan.2012_Eur_009:trsgi ...\n",
      "PRYSM >>> forward with prysm.vslite ...\n",
      "PRYSM >>> Using R libs from: /home/fzhu/R/x86_64-pc-linux-gnu-library/3.4\n",
      "PRYSM >>> T1=8.126, T2=18.300, M1=0.032, M2=0.176\n",
      "PRYSM >>> Target: (42.5, 1.0); Found: (42.63, 0.00)\n"
     ]
    },
    {
     "name": "stderr",
     "output_type": "stream",
     "text": [
      "\n",
      "100%|██████████| 1/1 [00:00<00:00, 16.83it/s]"
     ]
    },
    {
     "name": "stdout",
     "output_type": "stream",
     "text": [
      "\n",
      "Processing #53 - PAGES2kv2_Asia-UKHMND_Asi_023:trsgi ...\n",
      "PRYSM >>> forward with prysm.vslite ...\n",
      "PRYSM >>> Using R libs from: /home/fzhu/R/x86_64-pc-linux-gnu-library/3.4\n",
      "PRYSM >>> T1=7.663, T2=16.341, M1=0.089, M2=0.230\n",
      "PRYSM >>> Target: (50.15, 85.37); Found: (50.21, 85.00)\n"
     ]
    },
    {
     "name": "stderr",
     "output_type": "stream",
     "text": [
      "\n",
      "100%|██████████| 1/1 [00:00<00:00, 16.88it/s]"
     ]
    },
    {
     "name": "stdout",
     "output_type": "stream",
     "text": [
      "\n",
      "Processing #54 - PAGES2kv2_Aus-PinkPineNZ.Duncan.2010_Aus_005:trsgi ...\n",
      "PRYSM >>> forward with prysm.vslite ...\n",
      "PRYSM >>> Using R libs from: /home/fzhu/R/x86_64-pc-linux-gnu-library/3.4\n",
      "PRYSM >>> T1=1.838, T2=17.716, M1=0.058, M2=0.452\n",
      "PRYSM >>> Target: (-43.0, 171.0); Found: (-42.63, 170.00)\n"
     ]
    },
    {
     "name": "stderr",
     "output_type": "stream",
     "text": [
      "\n",
      "100%|██████████| 1/1 [00:00<00:00, 17.06it/s]"
     ]
    },
    {
     "name": "stdout",
     "output_type": "stream",
     "text": [
      "\n",
      "Processing #55 - PAGES2kv2_Asia-DLH4_Asi_087:trsgi ...\n",
      "PRYSM >>> forward with prysm.vslite ...\n",
      "PRYSM >>> Using R libs from: /home/fzhu/R/x86_64-pc-linux-gnu-library/3.4\n",
      "PRYSM >>> T1=4.041, T2=11.652, M1=0.068, M2=0.413\n",
      "PRYSM >>> Target: (37.43, 98.05); Found: (36.95, 97.50)\n"
     ]
    },
    {
     "name": "stderr",
     "output_type": "stream",
     "text": [
      "\n",
      "100%|██████████| 1/1 [00:00<00:00, 16.14it/s]"
     ]
    },
    {
     "name": "stdout",
     "output_type": "stream",
     "text": [
      "\n",
      "Processing #56 - PAGES2kv2_Asia-MUMBAS_Asi_176:trsgi ...\n",
      "PRYSM >>> forward with prysm.vslite ...\n",
      "PRYSM >>> Using R libs from: /home/fzhu/R/x86_64-pc-linux-gnu-library/3.4\n",
      "PRYSM >>> T1=3.894, T2=14.245, M1=0.031, M2=0.147\n",
      "PRYSM >>> Target: (27.67, 87.2); Found: (27.47, 87.50)\n"
     ]
    },
    {
     "name": "stderr",
     "output_type": "stream",
     "text": [
      "\n",
      "100%|██████████| 1/1 [00:00<00:00, 15.85it/s]"
     ]
    },
    {
     "name": "stdout",
     "output_type": "stream",
     "text": [
      "\n",
      "Processing #57 - PAGES2kv2_NAm-ak114_NAm_099:trsgi ...\n",
      "PRYSM >>> forward with prysm.vslite ...\n",
      "PRYSM >>> Using R libs from: /home/fzhu/R/x86_64-pc-linux-gnu-library/3.4\n",
      "PRYSM >>> T1=7.866, T2=12.857, M1=0.006, M2=0.230\n",
      "PRYSM >>> Target: (56.0, 228.0); Found: (55.89, 227.50)\n"
     ]
    },
    {
     "name": "stderr",
     "output_type": "stream",
     "text": [
      "\n",
      "100%|██████████| 1/1 [00:00<00:00, 16.33it/s]"
     ]
    },
    {
     "name": "stdout",
     "output_type": "stream",
     "text": [
      "\n",
      "Processing #58 - PAGES2kv2_Asia-ZNMDLS_Asi_162:trsgi ...\n",
      "PRYSM >>> forward with prysm.vslite ...\n",
      "PRYSM >>> Using R libs from: /home/fzhu/R/x86_64-pc-linux-gnu-library/3.4\n",
      "PRYSM >>> T1=3.316, T2=16.674, M1=0.090, M2=0.399\n",
      "PRYSM >>> Target: (47.78, 107.5); Found: (48.32, 107.50)\n"
     ]
    },
    {
     "name": "stderr",
     "output_type": "stream",
     "text": [
      "\n",
      "100%|██████████| 1/1 [00:00<00:00, 16.16it/s]"
     ]
    },
    {
     "name": "stdout",
     "output_type": "stream",
     "text": [
      "\n",
      "Processing #59 - PAGES2kv2_Asia-UULEWD_Asi_014:trsgi ...\n",
      "PRYSM >>> forward with prysm.vslite ...\n",
      "PRYSM >>> Using R libs from: /home/fzhu/R/x86_64-pc-linux-gnu-library/3.4\n",
      "PRYSM >>> T1=8.275, T2=19.740, M1=0.083, M2=0.409\n",
      "PRYSM >>> Target: (50.48, 87.65); Found: (50.21, 87.50)\n"
     ]
    },
    {
     "name": "stderr",
     "output_type": "stream",
     "text": [
      "\n",
      "100%|██████████| 1/1 [00:00<00:00, 15.99it/s]"
     ]
    },
    {
     "name": "stdout",
     "output_type": "stream",
     "text": [
      "\n",
      "Processing #60 - PAGES2kv2_NAm-mt120_NAm_182:trsgi ...\n",
      "PRYSM >>> forward with prysm.vslite ...\n",
      "PRYSM >>> Using R libs from: /home/fzhu/R/x86_64-pc-linux-gnu-library/3.4\n",
      "PRYSM >>> T1=8.275, T2=19.740, M1=0.083, M2=0.117\n",
      "PRYSM >>> Target: (46.0, 246.6); Found: (46.42, 247.50)\n"
     ]
    },
    {
     "name": "stderr",
     "output_type": "stream",
     "text": [
      "\n",
      "100%|██████████| 1/1 [00:00<00:00, 16.43it/s]"
     ]
    },
    {
     "name": "stdout",
     "output_type": "stream",
     "text": [
      "\n",
      "Processing #61 - PAGES2kv2_Asia-BAWSIC_Asi_071:trsgi ...\n",
      "PRYSM >>> forward with prysm.vslite ...\n",
      "PRYSM >>> Using R libs from: /home/fzhu/R/x86_64-pc-linux-gnu-library/3.4\n",
      "PRYSM >>> T1=3.337, T2=12.923, M1=0.079, M2=0.456\n",
      "PRYSM >>> Target: (31.78, 101.92); Found: (31.26, 102.50)\n"
     ]
    },
    {
     "name": "stderr",
     "output_type": "stream",
     "text": [
      "\n",
      "100%|██████████| 1/1 [00:00<00:00, 16.47it/s]"
     ]
    },
    {
     "name": "stdout",
     "output_type": "stream",
     "text": [
      "\n",
      "Processing #62 - PAGES2kv2_Asia-MQDXJP_Asi_053:trsgi ...\n",
      "PRYSM >>> forward with prysm.vslite ...\n",
      "PRYSM >>> Using R libs from: /home/fzhu/R/x86_64-pc-linux-gnu-library/3.4\n",
      "PRYSM >>> T1=8.278, T2=17.916, M1=0.036, M2=0.160\n",
      "PRYSM >>> Target: (34.72, 99.67); Found: (35.05, 100.00)\n"
     ]
    },
    {
     "name": "stderr",
     "output_type": "stream",
     "text": [
      "\n",
      "100%|██████████| 1/1 [00:00<00:00, 15.75it/s]"
     ]
    },
    {
     "name": "stdout",
     "output_type": "stream",
     "text": [
      "\n",
      "Processing #63 - PAGES2kv2_Asia-RIWOPB_Asi_219:trsgi ...\n",
      "PRYSM >>> forward with prysm.vslite ...\n",
      "PRYSM >>> Using R libs from: /home/fzhu/R/x86_64-pc-linux-gnu-library/3.4\n",
      "PRYSM >>> T1=2.786, T2=22.084, M1=0.036, M2=0.357\n",
      "PRYSM >>> Target: (31.23, 96.48); Found: (31.26, 97.50)\n"
     ]
    },
    {
     "name": "stderr",
     "output_type": "stream",
     "text": [
      "\n",
      "100%|██████████| 1/1 [00:00<00:00, 16.37it/s]"
     ]
    },
    {
     "name": "stdout",
     "output_type": "stream",
     "text": [
      "\n",
      "Processing #64 - PAGES2kv2_Asia-BAG5JU_Asi_189:trsgi ...\n",
      "PRYSM >>> forward with prysm.vslite ...\n",
      "PRYSM >>> Using R libs from: /home/fzhu/R/x86_64-pc-linux-gnu-library/3.4\n",
      "PRYSM >>> T1=8.126, T2=17.746, M1=0.062, M2=0.109\n",
      "PRYSM >>> Target: (36.03, 74.58); Found: (36.95, 75.00)\n"
     ]
    },
    {
     "name": "stderr",
     "output_type": "stream",
     "text": [
      "\n",
      "100%|██████████| 1/1 [00:00<00:00, 15.47it/s]"
     ]
    },
    {
     "name": "stdout",
     "output_type": "stream",
     "text": [
      "\n",
      "Processing #65 - PAGES2kv2_NAm-mexi020_NAm_176:trsgi ...\n",
      "PRYSM >>> forward with prysm.vslite ...\n",
      "PRYSM >>> Using R libs from: /home/fzhu/R/x86_64-pc-linux-gnu-library/3.4\n",
      "PRYSM >>> T1=3.651, T2=13.145, M1=0.033, M2=0.103\n",
      "PRYSM >>> Target: (31.0, 244.5); Found: (31.26, 245.00)\n"
     ]
    },
    {
     "name": "stderr",
     "output_type": "stream",
     "text": [
      "\n",
      "100%|██████████| 1/1 [00:00<00:00, 16.52it/s]"
     ]
    },
    {
     "name": "stdout",
     "output_type": "stream",
     "text": [
      "\n",
      "Processing #66 - PAGES2kv2_Asia-BHUTTD_Asi_029:trsgi ...\n",
      "PRYSM >>> forward with prysm.vslite ...\n",
      "PRYSM >>> Using R libs from: /home/fzhu/R/x86_64-pc-linux-gnu-library/3.4\n",
      "PRYSM >>> T1=7.835, T2=17.265, M1=0.083, M2=0.246\n",
      "PRYSM >>> Target: (27.67, 90.72); Found: (27.47, 90.00)\n"
     ]
    },
    {
     "name": "stderr",
     "output_type": "stream",
     "text": [
      "\n",
      "100%|██████████| 1/1 [00:00<00:00, 16.24it/s]"
     ]
    },
    {
     "name": "stdout",
     "output_type": "stream",
     "text": [
      "\n",
      "Processing #67 - PAGES2kv2_Asia-TSHEPS_Asi_036:trsgi ...\n",
      "PRYSM >>> forward with prysm.vslite ...\n",
      "PRYSM >>> Using R libs from: /home/fzhu/R/x86_64-pc-linux-gnu-library/3.4\n",
      "PRYSM >>> T1=6.724, T2=17.493, M1=0.033, M2=0.276\n",
      "PRYSM >>> Target: (27.45, 90.15); Found: (27.47, 90.00)\n"
     ]
    },
    {
     "name": "stderr",
     "output_type": "stream",
     "text": [
      "\n",
      "100%|██████████| 1/1 [00:00<00:00, 17.36it/s]"
     ]
    },
    {
     "name": "stdout",
     "output_type": "stream",
     "text": [
      "\n",
      "Processing #68 - PAGES2kv2_Asia-CGPCDD_Asi_192:trsgi ...\n",
      "PRYSM >>> forward with prysm.vslite ...\n",
      "PRYSM >>> Using R libs from: /home/fzhu/R/x86_64-pc-linux-gnu-library/3.4\n",
      "PRYSM >>> T1=2.814, T2=10.828, M1=0.083, M2=0.425\n",
      "PRYSM >>> Target: (35.9, 71.73); Found: (35.05, 72.50)\n"
     ]
    },
    {
     "name": "stderr",
     "output_type": "stream",
     "text": [
      "\n",
      "100%|██████████| 1/1 [00:00<00:00, 15.94it/s]"
     ]
    },
    {
     "name": "stdout",
     "output_type": "stream",
     "text": [
      "\n",
      "Processing #69 - PAGES2kv2_NAm-ak6_NAm_105:trsgi ...\n",
      "PRYSM >>> forward with prysm.vslite ...\n",
      "PRYSM >>> Using R libs from: /home/fzhu/R/x86_64-pc-linux-gnu-library/3.4\n",
      "PRYSM >>> T1=1.944, T2=15.893, M1=0.044, M2=0.362\n",
      "PRYSM >>> Target: (57.1, 224.6); Found: (57.79, 225.00)\n"
     ]
    },
    {
     "name": "stderr",
     "output_type": "stream",
     "text": [
      "\n",
      "100%|██████████| 1/1 [00:00<00:00, 17.33it/s]"
     ]
    },
    {
     "name": "stdout",
     "output_type": "stream",
     "text": [
      "\n",
      "Processing #70 - PAGES2kv2_Asia-DLH3_Asi_086:trsgi ...\n",
      "PRYSM >>> forward with prysm.vslite ...\n",
      "PRYSM >>> Using R libs from: /home/fzhu/R/x86_64-pc-linux-gnu-library/3.4\n",
      "PRYSM >>> T1=7.738, T2=13.072, M1=0.026, M2=0.423\n",
      "PRYSM >>> Target: (37.45, 97.53); Found: (36.95, 97.50)\n"
     ]
    },
    {
     "name": "stderr",
     "output_type": "stream",
     "text": [
      "\n",
      "100%|██████████| 1/1 [00:00<00:00, 15.94it/s]"
     ]
    },
    {
     "name": "stdout",
     "output_type": "stream",
     "text": [
      "\n",
      "Processing #71 - PAGES2kv2_Asia-Tut2.Magda.2011_Asi_008:trsgi ...\n",
      "PRYSM >>> forward with prysm.vslite ...\n",
      "PRYSM >>> Using R libs from: /home/fzhu/R/x86_64-pc-linux-gnu-library/3.4\n",
      "PRYSM >>> T1=3.225, T2=13.380, M1=0.051, M2=0.487\n",
      "PRYSM >>> Target: (50.12, 87.92); Found: (50.21, 87.50)\n"
     ]
    },
    {
     "name": "stderr",
     "output_type": "stream",
     "text": [
      "\n",
      "100%|██████████| 1/1 [00:00<00:00, 17.83it/s]"
     ]
    },
    {
     "name": "stdout",
     "output_type": "stream",
     "text": [
      "\n",
      "Processing #72 - PAGES2kv2_Asia-LAMIAB_Asi_180:trsgi ...\n",
      "PRYSM >>> forward with prysm.vslite ...\n",
      "PRYSM >>> Using R libs from: /home/fzhu/R/x86_64-pc-linux-gnu-library/3.4\n",
      "PRYSM >>> T1=4.380, T2=12.757, M1=0.004, M2=0.198\n",
      "PRYSM >>> Target: (27.5, 87.98); Found: (27.47, 87.50)\n"
     ]
    },
    {
     "name": "stderr",
     "output_type": "stream",
     "text": [
      "\n",
      "100%|██████████| 1/1 [00:00<00:00, 17.20it/s]"
     ]
    },
    {
     "name": "stdout",
     "output_type": "stream",
     "text": [
      "\n",
      "Processing #73 - PAGES2kv2_NAm-vic_NAm_188:trsgi ...\n",
      "PRYSM >>> forward with prysm.vslite ...\n",
      "PRYSM >>> Using R libs from: /home/fzhu/R/x86_64-pc-linux-gnu-library/3.4\n",
      "PRYSM >>> T1=3.316, T2=17.119, M1=0.090, M2=0.399\n",
      "PRYSM >>> Target: (49.8, 245.5); Found: (50.21, 245.00)\n"
     ]
    },
    {
     "name": "stderr",
     "output_type": "stream",
     "text": [
      "\n",
      "100%|██████████| 1/1 [00:00<00:00, 17.52it/s]"
     ]
    },
    {
     "name": "stdout",
     "output_type": "stream",
     "text": [
      "\n",
      "Processing #74 - PAGES2kv2_NAm-co586_NAm_170:trsgi ...\n",
      "PRYSM >>> forward with prysm.vslite ...\n",
      "PRYSM >>> Using R libs from: /home/fzhu/R/x86_64-pc-linux-gnu-library/3.4\n",
      "PRYSM >>> T1=7.285, T2=11.981, M1=0.044, M2=0.180\n",
      "PRYSM >>> Target: (39.9, 254.1); Found: (40.74, 255.00)\n"
     ]
    },
    {
     "name": "stderr",
     "output_type": "stream",
     "text": [
      "\n",
      "100%|██████████| 1/1 [00:00<00:00, 17.67it/s]"
     ]
    },
    {
     "name": "stdout",
     "output_type": "stream",
     "text": [
      "\n",
      "Processing #75 - PAGES2kv2_Aus-BuckleysChan.Buckley.1997_Aus_007:trsgi ...\n",
      "PRYSM >>> forward with prysm.vslite ...\n",
      "PRYSM >>> Using R libs from: /home/fzhu/R/x86_64-pc-linux-gnu-library/3.4\n",
      "PRYSM >>> T1=7.121, T2=13.821, M1=0.069, M2=0.157\n",
      "PRYSM >>> Target: (-42.27, 145.87); Found: (-42.63, 145.00)\n"
     ]
    },
    {
     "name": "stderr",
     "output_type": "stream",
     "text": [
      "\n",
      "100%|██████████| 1/1 [00:00<00:00, 17.69it/s]"
     ]
    },
    {
     "name": "stdout",
     "output_type": "stream",
     "text": [
      "\n",
      "Processing #76 - PAGES2kv2_Asia-UULTRW_Asi_011:trsgi ...\n",
      "PRYSM >>> forward with prysm.vslite ...\n",
      "PRYSM >>> Using R libs from: /home/fzhu/R/x86_64-pc-linux-gnu-library/3.4\n",
      "PRYSM >>> T1=5.826, T2=18.092, M1=0.042, M2=0.424\n",
      "PRYSM >>> Target: (50.48, 87.65); Found: (50.21, 87.50)\n"
     ]
    },
    {
     "name": "stderr",
     "output_type": "stream",
     "text": [
      "\n",
      "100%|██████████| 1/1 [00:00<00:00, 17.75it/s]"
     ]
    },
    {
     "name": "stdout",
     "output_type": "stream",
     "text": [
      "\n",
      "Processing #77 - PAGES2kv2_NAm-cana430_NAm_151:trsgi ...\n",
      "PRYSM >>> forward with prysm.vslite ...\n",
      "PRYSM >>> Using R libs from: /home/fzhu/R/x86_64-pc-linux-gnu-library/3.4\n",
      "PRYSM >>> T1=1.944, T2=17.587, M1=0.035, M2=0.288\n",
      "PRYSM >>> Target: (52.2, 242.8); Found: (52.11, 242.50)\n"
     ]
    },
    {
     "name": "stderr",
     "output_type": "stream",
     "text": [
      "\n",
      "100%|██████████| 1/1 [00:00<00:00, 17.07it/s]"
     ]
    },
    {
     "name": "stdout",
     "output_type": "stream",
     "text": [
      "\n",
      "Processing #78 - PAGES2kv2_Asia-DENSJT_Asi_220:trsgi ...\n",
      "PRYSM >>> forward with prysm.vslite ...\n",
      "PRYSM >>> Using R libs from: /home/fzhu/R/x86_64-pc-linux-gnu-library/3.4\n",
      "PRYSM >>> T1=3.043, T2=11.668, M1=0.080, M2=0.422\n",
      "PRYSM >>> Target: (29.3, 91.97); Found: (29.37, 92.50)\n"
     ]
    },
    {
     "name": "stderr",
     "output_type": "stream",
     "text": [
      "\n",
      "100%|██████████| 1/1 [00:00<00:00, 16.90it/s]"
     ]
    },
    {
     "name": "stdout",
     "output_type": "stream",
     "text": [
      "\n",
      "Processing #79 - PAGES2kv2_Arc-Avam-Taimyr.Briffa.2008_Arc_002:trsgi ...\n",
      "PRYSM >>> forward with prysm.vslite ...\n",
      "PRYSM >>> Using R libs from: /home/fzhu/R/x86_64-pc-linux-gnu-library/3.4\n",
      "PRYSM >>> T1=5.888, T2=21.185, M1=0.003, M2=0.102\n",
      "PRYSM >>> Target: (72.0, 101.0); Found: (71.05, 100.00)\n"
     ]
    },
    {
     "name": "stderr",
     "output_type": "stream",
     "text": [
      "\n",
      "100%|██████████| 1/1 [00:00<00:00, 17.14it/s]"
     ]
    },
    {
     "name": "stdout",
     "output_type": "stream",
     "text": [
      "\n",
      "Processing #80 - PAGES2kv2_Asia-UULLWW_Asi_013:trsgi ...\n",
      "PRYSM >>> forward with prysm.vslite ...\n",
      "PRYSM >>> Using R libs from: /home/fzhu/R/x86_64-pc-linux-gnu-library/3.4\n",
      "PRYSM >>> T1=5.684, T2=15.792, M1=0.079, M2=0.301\n",
      "PRYSM >>> Target: (50.48, 87.65); Found: (50.21, 87.50)\n"
     ]
    },
    {
     "name": "stderr",
     "output_type": "stream",
     "text": [
      "\n",
      "100%|██████████| 1/1 [00:00<00:00, 17.27it/s]"
     ]
    },
    {
     "name": "stdout",
     "output_type": "stream",
     "text": [
      "\n",
      "Processing #81 - PAGES2kv2_NAm-id013_NAm_173:trsgi ...\n",
      "PRYSM >>> forward with prysm.vslite ...\n",
      "PRYSM >>> Using R libs from: /home/fzhu/R/x86_64-pc-linux-gnu-library/3.4\n",
      "PRYSM >>> T1=8.248, T2=15.352, M1=0.008, M2=0.113\n",
      "PRYSM >>> Target: (44.6, 245.5); Found: (44.53, 245.00)\n"
     ]
    },
    {
     "name": "stderr",
     "output_type": "stream",
     "text": [
      "\n",
      "100%|██████████| 1/1 [00:00<00:00, 17.38it/s]"
     ]
    },
    {
     "name": "stdout",
     "output_type": "stream",
     "text": [
      "\n",
      "Processing #82 - PAGES2kv2_Asia-SPKRLS_Asi_156:trsgi ...\n",
      "PRYSM >>> forward with prysm.vslite ...\n",
      "PRYSM >>> Using R libs from: /home/fzhu/R/x86_64-pc-linux-gnu-library/3.4\n",
      "PRYSM >>> T1=5.891, T2=11.481, M1=0.018, M2=0.464\n",
      "PRYSM >>> Target: (49.38, 94.88); Found: (50.21, 95.00)\n"
     ]
    },
    {
     "name": "stderr",
     "output_type": "stream",
     "text": [
      "\n",
      "100%|██████████| 1/1 [00:00<00:00, 17.70it/s]"
     ]
    },
    {
     "name": "stdout",
     "output_type": "stream",
     "text": [
      "\n",
      "Processing #83 - PAGES2kv2_Asia-BHULJR_Asi_168:trsgi ...\n",
      "PRYSM >>> forward with prysm.vslite ...\n",
      "PRYSM >>> Using R libs from: /home/fzhu/R/x86_64-pc-linux-gnu-library/3.4\n",
      "PRYSM >>> T1=2.219, T2=11.512, M1=0.056, M2=0.257\n",
      "PRYSM >>> Target: (27.7, 86.45); Found: (27.47, 87.50)\n"
     ]
    },
    {
     "name": "stderr",
     "output_type": "stream",
     "text": [
      "\n",
      "100%|██████████| 1/1 [00:00<00:00, 16.38it/s]"
     ]
    },
    {
     "name": "stdout",
     "output_type": "stream",
     "text": [
      "\n",
      "Processing #84 - PAGES2kv2_NAm-ak046_NAm_002:trsgi ...\n",
      "PRYSM >>> forward with prysm.vslite ...\n",
      "PRYSM >>> Using R libs from: /home/fzhu/R/x86_64-pc-linux-gnu-library/3.4\n",
      "PRYSM >>> T1=4.244, T2=16.630, M1=0.000, M2=0.373\n",
      "PRYSM >>> Target: (67.1, 200.4); Found: (67.26, 200.00)\n"
     ]
    },
    {
     "name": "stderr",
     "output_type": "stream",
     "text": [
      "\n",
      "100%|██████████| 1/1 [00:00<00:00, 16.73it/s]"
     ]
    },
    {
     "name": "stdout",
     "output_type": "stream",
     "text": [
      "\n",
      "Processing #85 - PAGES2kv2_Asia-UULLWD_Asi_015:trsgi ...\n",
      "PRYSM >>> forward with prysm.vslite ...\n",
      "PRYSM >>> Using R libs from: /home/fzhu/R/x86_64-pc-linux-gnu-library/3.4\n",
      "PRYSM >>> T1=5.268, T2=18.265, M1=0.070, M2=0.272\n",
      "PRYSM >>> Target: (50.48, 87.65); Found: (50.21, 87.50)\n"
     ]
    },
    {
     "name": "stderr",
     "output_type": "stream",
     "text": [
      "\n",
      "100%|██████████| 1/1 [00:00<00:00, 17.09it/s]"
     ]
    },
    {
     "name": "stdout",
     "output_type": "stream",
     "text": [
      "\n",
      "Processing #86 - PAGES2kv2_Asia-ZACHTD_Asi_028:trsgi ...\n",
      "PRYSM >>> forward with prysm.vslite ...\n",
      "PRYSM >>> Using R libs from: /home/fzhu/R/x86_64-pc-linux-gnu-library/3.4\n",
      "PRYSM >>> T1=2.219, T2=17.899, M1=0.001, M2=0.234\n",
      "PRYSM >>> Target: (27.7, 90.68); Found: (27.47, 90.00)\n"
     ]
    },
    {
     "name": "stderr",
     "output_type": "stream",
     "text": [
      "\n",
      "100%|██████████| 1/1 [00:00<00:00, 16.61it/s]"
     ]
    },
    {
     "name": "stdout",
     "output_type": "stream",
     "text": [
      "\n",
      "Processing #87 - PAGES2kv2_Asia-CHP2JU_Asi_195:trsgi ...\n",
      "PRYSM >>> forward with prysm.vslite ...\n",
      "PRYSM >>> Using R libs from: /home/fzhu/R/x86_64-pc-linux-gnu-library/3.4\n",
      "PRYSM >>> T1=2.990, T2=13.072, M1=0.080, M2=0.175\n",
      "PRYSM >>> Target: (36.33, 74.03); Found: (36.95, 75.00)\n"
     ]
    },
    {
     "name": "stderr",
     "output_type": "stream",
     "text": [
      "\n",
      "100%|██████████| 1/1 [00:00<00:00, 17.02it/s]"
     ]
    },
    {
     "name": "stdout",
     "output_type": "stream",
     "text": [
      "\n",
      "Processing #88 - PAGES2kv2_Asia-KARPCS_Asi_201:trsgi ...\n",
      "PRYSM >>> forward with prysm.vslite ...\n",
      "PRYSM >>> Using R libs from: /home/fzhu/R/x86_64-pc-linux-gnu-library/3.4\n",
      "PRYSM >>> T1=5.475, T2=20.190, M1=0.087, M2=0.190\n",
      "PRYSM >>> Target: (35.88, 74.18); Found: (35.05, 75.00)\n"
     ]
    },
    {
     "name": "stderr",
     "output_type": "stream",
     "text": [
      "\n",
      "100%|██████████| 1/1 [00:00<00:00, 17.18it/s]"
     ]
    },
    {
     "name": "stdout",
     "output_type": "stream",
     "text": [
      "\n",
      "Processing #89 - PAGES2kv2_Asia-ENGILC_Asi_136:trsgi ...\n",
      "PRYSM >>> forward with prysm.vslite ...\n",
      "PRYSM >>> Using R libs from: /home/fzhu/R/x86_64-pc-linux-gnu-library/3.4\n",
      "PRYSM >>> T1=6.352, T2=11.482, M1=0.085, M2=0.424\n",
      "PRYSM >>> Target: (42.15, 79.47); Found: (42.63, 80.00)\n"
     ]
    },
    {
     "name": "stderr",
     "output_type": "stream",
     "text": [
      "\n",
      "100%|██████████| 1/1 [00:00<00:00, 16.97it/s]"
     ]
    },
    {
     "name": "stdout",
     "output_type": "stream",
     "text": [
      "\n",
      "Processing #90 - PAGES2kv2_Asia-WL2_Asi_096:trsgi ...\n",
      "PRYSM >>> forward with prysm.vslite ...\n",
      "PRYSM >>> Using R libs from: /home/fzhu/R/x86_64-pc-linux-gnu-library/3.4\n",
      "PRYSM >>> T1=3.709, T2=12.592, M1=0.092, M2=0.393\n",
      "PRYSM >>> Target: (37.03, 98.67); Found: (36.95, 97.50)\n"
     ]
    },
    {
     "name": "stderr",
     "output_type": "stream",
     "text": [
      "\n",
      "100%|██████████| 1/1 [00:00<00:00, 17.13it/s]"
     ]
    },
    {
     "name": "stdout",
     "output_type": "stream",
     "text": [
      "\n",
      "Processing #91 - PAGES2kv2_Eur-FrenchAlps.Buentgen.2012_Eur_008:trsgi ...\n",
      "PRYSM >>> forward with prysm.vslite ...\n",
      "PRYSM >>> Using R libs from: /home/fzhu/R/x86_64-pc-linux-gnu-library/3.4\n",
      "PRYSM >>> T1=3.575, T2=23.139, M1=0.070, M2=0.212\n",
      "PRYSM >>> Target: (44.0, 7.5); Found: (44.53, 7.50)\n"
     ]
    },
    {
     "name": "stderr",
     "output_type": "stream",
     "text": [
      "\n",
      "100%|██████████| 1/1 [00:00<00:00, 17.28it/s]"
     ]
    },
    {
     "name": "stdout",
     "output_type": "stream",
     "text": [
      "\n",
      "Processing #92 - PAGES2kv2_NAm-cana313_NAm_142:trsgi ...\n",
      "PRYSM >>> forward with prysm.vslite ...\n",
      "PRYSM >>> Using R libs from: /home/fzhu/R/x86_64-pc-linux-gnu-library/3.4\n",
      "PRYSM >>> T1=5.447, T2=18.253, M1=0.025, M2=0.213\n",
      "PRYSM >>> Target: (56.0, 299.0); Found: (55.89, 300.00)\n"
     ]
    },
    {
     "name": "stderr",
     "output_type": "stream",
     "text": [
      "\n",
      "100%|██████████| 1/1 [00:00<00:00, 17.14it/s]"
     ]
    },
    {
     "name": "stdout",
     "output_type": "stream",
     "text": [
      "\n",
      "Processing #93 - PAGES2kv2_NAm-mexi043_NAm_177:trsgi ...\n",
      "PRYSM >>> forward with prysm.vslite ...\n",
      "PRYSM >>> Using R libs from: /home/fzhu/R/x86_64-pc-linux-gnu-library/3.4\n",
      "PRYSM >>> T1=2.814, T2=10.828, M1=0.083, M2=0.425\n",
      "PRYSM >>> Target: (25.1, 253.7); Found: (25.58, 252.50)\n"
     ]
    },
    {
     "name": "stderr",
     "output_type": "stream",
     "text": [
      "\n",
      "100%|██████████| 1/1 [00:00<00:00, 16.89it/s]"
     ]
    },
    {
     "name": "stdout",
     "output_type": "stream",
     "text": [
      "\n",
      "Processing #94 - PAGES2kv2_Asia-YKA_Asi_118:trsgi ...\n",
      "PRYSM >>> forward with prysm.vslite ...\n",
      "PRYSM >>> Using R libs from: /home/fzhu/R/x86_64-pc-linux-gnu-library/3.4\n",
      "PRYSM >>> T1=3.617, T2=11.414, M1=0.034, M2=0.214\n",
      "PRYSM >>> Target: (30.37, 130.53); Found: (31.26, 130.00)\n"
     ]
    },
    {
     "name": "stderr",
     "output_type": "stream",
     "text": [
      "\n",
      "100%|██████████| 1/1 [00:00<00:00, 16.93it/s]"
     ]
    },
    {
     "name": "stdout",
     "output_type": "stream",
     "text": [
      "\n",
      "Processing #95 - PAGES2kv2_Asia-CENTIB_Asi_225:trsgi ...\n",
      "PRYSM >>> forward with prysm.vslite ...\n",
      "PRYSM >>> Using R libs from: /home/fzhu/R/x86_64-pc-linux-gnu-library/3.4\n",
      "PRYSM >>> T1=8.101, T2=11.550, M1=0.080, M2=0.449\n",
      "PRYSM >>> Target: (29.35, 92.0); Found: (29.37, 92.50)\n"
     ]
    },
    {
     "name": "stderr",
     "output_type": "stream",
     "text": [
      "\n",
      "100%|██████████| 1/1 [00:00<00:00, 17.03it/s]"
     ]
    },
    {
     "name": "stdout",
     "output_type": "stream",
     "text": [
      "\n",
      "Processing #96 - PAGES2kv2_NAm-ca530_NAm_009:trsgi ...\n",
      "PRYSM >>> forward with prysm.vslite ...\n",
      "PRYSM >>> Using R libs from: /home/fzhu/R/x86_64-pc-linux-gnu-library/3.4\n",
      "PRYSM >>> T1=7.703, T2=19.724, M1=0.081, M2=0.172\n",
      "PRYSM >>> Target: (36.3, 241.8); Found: (36.95, 242.50)\n"
     ]
    },
    {
     "name": "stderr",
     "output_type": "stream",
     "text": [
      "\n",
      "100%|██████████| 1/1 [00:00<00:00, 16.96it/s]"
     ]
    },
    {
     "name": "stdout",
     "output_type": "stream",
     "text": [
      "\n",
      "Processing #97 - PAGES2kv2_SAm-CAN6.Neukom.2014_SAm_024:trsgi ...\n",
      "PRYSM >>> forward with prysm.vslite ...\n",
      "PRYSM >>> Using R libs from: /home/fzhu/R/x86_64-pc-linux-gnu-library/3.4\n",
      "PRYSM >>> T1=3.134, T2=11.611, M1=0.085, M2=0.323\n",
      "PRYSM >>> Target: (-38.5, 288.5); Found: (-38.84, 287.50)\n"
     ]
    },
    {
     "name": "stderr",
     "output_type": "stream",
     "text": [
      "\n",
      "100%|██████████| 1/1 [00:00<00:00, 17.13it/s]"
     ]
    },
    {
     "name": "stdout",
     "output_type": "stream",
     "text": [
      "\n",
      "Processing #98 - PAGES2kv2_Asia-Hushre_Asi_165:trsgi ...\n",
      "PRYSM >>> forward with prysm.vslite ...\n",
      "PRYSM >>> Using R libs from: /home/fzhu/R/x86_64-pc-linux-gnu-library/3.4\n",
      "PRYSM >>> T1=4.506, T2=13.198, M1=0.088, M2=0.444\n",
      "PRYSM >>> Target: (46.78, 101.95); Found: (46.42, 102.50)\n"
     ]
    },
    {
     "name": "stderr",
     "output_type": "stream",
     "text": [
      "\n",
      "100%|██████████| 1/1 [00:00<00:00, 16.81it/s]"
     ]
    },
    {
     "name": "stdout",
     "output_type": "stream",
     "text": [
      "\n",
      "Processing #99 - PAGES2kv2_Asia-KHOGLS_Asi_148:trsgi ...\n",
      "PRYSM >>> forward with prysm.vslite ...\n",
      "PRYSM >>> Using R libs from: /home/fzhu/R/x86_64-pc-linux-gnu-library/3.4\n",
      "PRYSM >>> T1=2.219, T2=11.512, M1=0.076, M2=0.448\n",
      "PRYSM >>> Target: (48.17, 99.87); Found: (48.32, 100.00)\n"
     ]
    },
    {
     "name": "stderr",
     "output_type": "stream",
     "text": [
      "\n",
      "100%|██████████| 1/1 [00:00<00:00, 16.56it/s]"
     ]
    },
    {
     "name": "stdout",
     "output_type": "stream",
     "text": [
      "\n",
      "Processing #100 - PAGES2kv2_Asia-BUKCDD_Asi_190:trsgi ...\n",
      "PRYSM >>> forward with prysm.vslite ...\n",
      "PRYSM >>> Using R libs from: /home/fzhu/R/x86_64-pc-linux-gnu-library/3.4\n",
      "PRYSM >>> T1=2.705, T2=15.489, M1=0.088, M2=0.338\n",
      "PRYSM >>> Target: (35.68, 71.63); Found: (35.05, 72.50)\n"
     ]
    },
    {
     "name": "stderr",
     "output_type": "stream",
     "text": [
      "\n",
      "100%|██████████| 1/1 [00:00<00:00, 16.43it/s]"
     ]
    },
    {
     "name": "stdout",
     "output_type": "stream",
     "text": [
      "\n",
      "Processing #101 - PAGES2kv2_Asia-NARKAB_Asi_104:trsgi ...\n",
      "PRYSM >>> forward with prysm.vslite ...\n",
      "PRYSM >>> Using R libs from: /home/fzhu/R/x86_64-pc-linux-gnu-library/3.4\n",
      "PRYSM >>> T1=6.143, T2=20.993, M1=0.048, M2=0.440\n",
      "PRYSM >>> Target: (31.2, 77.23); Found: (31.26, 77.50)\n"
     ]
    },
    {
     "name": "stderr",
     "output_type": "stream",
     "text": [
      "\n",
      "100%|██████████| 1/1 [00:00<00:00, 16.82it/s]"
     ]
    },
    {
     "name": "stdout",
     "output_type": "stream",
     "text": [
      "\n",
      "Processing #102 - PAGES2kv2_NAm-cana382_NAm_148:trsgi ...\n",
      "PRYSM >>> forward with prysm.vslite ...\n",
      "PRYSM >>> Using R libs from: /home/fzhu/R/x86_64-pc-linux-gnu-library/3.4\n",
      "PRYSM >>> T1=4.259, T2=17.345, M1=0.035, M2=0.234\n",
      "PRYSM >>> Target: (59.6, 226.6); Found: (59.68, 227.50)\n"
     ]
    },
    {
     "name": "stderr",
     "output_type": "stream",
     "text": [
      "\n",
      "100%|██████████| 1/1 [00:00<00:00, 16.64it/s]"
     ]
    },
    {
     "name": "stdout",
     "output_type": "stream",
     "text": [
      "\n",
      "Processing #103 - PAGES2kv2_Asia-BAYHLS_Asi_140:trsgi ...\n",
      "PRYSM >>> forward with prysm.vslite ...\n",
      "PRYSM >>> Using R libs from: /home/fzhu/R/x86_64-pc-linux-gnu-library/3.4\n",
      "PRYSM >>> T1=4.448, T2=11.377, M1=0.006, M2=0.406\n",
      "PRYSM >>> Target: (46.32, 101.32); Found: (46.42, 102.50)\n"
     ]
    },
    {
     "name": "stderr",
     "output_type": "stream",
     "text": [
      "\n",
      "100%|██████████| 1/1 [00:00<00:00, 16.53it/s]"
     ]
    },
    {
     "name": "stdout",
     "output_type": "stream",
     "text": [
      "\n",
      "Processing #104 - PAGES2kv2_Asia-CGPPIG_Asi_193:trsgi ...\n",
      "PRYSM >>> forward with prysm.vslite ...\n",
      "PRYSM >>> Using R libs from: /home/fzhu/R/x86_64-pc-linux-gnu-library/3.4\n",
      "PRYSM >>> T1=2.219, T2=11.574, M1=0.075, M2=0.397\n",
      "PRYSM >>> Target: (35.9, 71.73); Found: (35.05, 72.50)\n"
     ]
    },
    {
     "name": "stderr",
     "output_type": "stream",
     "text": [
      "\n",
      "100%|██████████| 1/1 [00:00<00:00, 17.05it/s]"
     ]
    },
    {
     "name": "stdout",
     "output_type": "stream",
     "text": [
      "\n",
      "Processing #105 - PAGES2kv2_Asia-RANGCD_Asi_103:trsgi ...\n",
      "PRYSM >>> forward with prysm.vslite ...\n",
      "PRYSM >>> Using R libs from: /home/fzhu/R/x86_64-pc-linux-gnu-library/3.4\n",
      "PRYSM >>> T1=2.219, T2=11.574, M1=0.069, M2=0.397\n",
      "PRYSM >>> Target: (33.08, 76.43); Found: (33.16, 77.50)\n"
     ]
    },
    {
     "name": "stderr",
     "output_type": "stream",
     "text": [
      "\n",
      "100%|██████████| 1/1 [00:00<00:00, 16.87it/s]"
     ]
    },
    {
     "name": "stdout",
     "output_type": "stream",
     "text": [
      "\n",
      "Processing #106 - PAGES2kv2_Asia-HRPCSM_Asi_215:trsgi ...\n",
      "PRYSM >>> forward with prysm.vslite ...\n",
      "PRYSM >>> Using R libs from: /home/fzhu/R/x86_64-pc-linux-gnu-library/3.4\n",
      "PRYSM >>> T1=7.713, T2=13.476, M1=0.078, M2=0.463\n",
      "PRYSM >>> Target: (35.88, 74.88); Found: (35.05, 75.00)\n"
     ]
    },
    {
     "name": "stderr",
     "output_type": "stream",
     "text": [
      "\n",
      "100%|██████████| 1/1 [00:00<00:00, 17.39it/s]"
     ]
    },
    {
     "name": "stdout",
     "output_type": "stream",
     "text": [
      "\n",
      "Processing #107 - PAGES2kv2_Asia-GHUNAB_Asi_179:trsgi ...\n",
      "PRYSM >>> forward with prysm.vslite ...\n",
      "PRYSM >>> Using R libs from: /home/fzhu/R/x86_64-pc-linux-gnu-library/3.4\n",
      "PRYSM >>> T1=6.053, T2=17.621, M1=0.009, M2=0.449\n",
      "PRYSM >>> Target: (27.5, 88.02); Found: (27.47, 87.50)\n"
     ]
    },
    {
     "name": "stderr",
     "output_type": "stream",
     "text": [
      "\n",
      "100%|██████████| 1/1 [00:00<00:00, 17.27it/s]"
     ]
    },
    {
     "name": "stdout",
     "output_type": "stream",
     "text": [
      "\n",
      "Processing #108 - PAGES2kv2_Asia-KOELIU_Asi_135:trsgi ...\n",
      "PRYSM >>> forward with prysm.vslite ...\n",
      "PRYSM >>> Using R libs from: /home/fzhu/R/x86_64-pc-linux-gnu-library/3.4\n",
      "PRYSM >>> T1=1.944, T2=12.360, M1=0.091, M2=0.392\n",
      "PRYSM >>> Target: (42.2, 79.05); Found: (42.63, 80.00)\n"
     ]
    },
    {
     "name": "stderr",
     "output_type": "stream",
     "text": [
      "\n",
      "100%|██████████| 1/1 [00:00<00:00, 16.88it/s]"
     ]
    },
    {
     "name": "stdout",
     "output_type": "stream",
     "text": [
      "\n",
      "Processing #109 - PAGES2kv2_Asia-KJTRJT_Asi_127:trsgi ...\n",
      "PRYSM >>> forward with prysm.vslite ...\n",
      "PRYSM >>> Using R libs from: /home/fzhu/R/x86_64-pc-linux-gnu-library/3.4\n",
      "PRYSM >>> T1=3.317, T2=13.476, M1=0.078, M2=0.463\n",
      "PRYSM >>> Target: (39.92, 71.47); Found: (40.74, 72.50)\n"
     ]
    },
    {
     "name": "stderr",
     "output_type": "stream",
     "text": [
      "\n",
      "100%|██████████| 1/1 [00:00<00:00, 16.50it/s]"
     ]
    },
    {
     "name": "stdout",
     "output_type": "stream",
     "text": [
      "\n",
      "Processing #110 - PAGES2kv2_Asia-Kur3.Magda.2011_Asi_005:trsgi ...\n",
      "PRYSM >>> forward with prysm.vslite ...\n",
      "PRYSM >>> Using R libs from: /home/fzhu/R/x86_64-pc-linux-gnu-library/3.4\n",
      "PRYSM >>> T1=3.225, T2=13.380, M1=0.051, M2=0.487\n",
      "PRYSM >>> Target: (50.27, 87.83); Found: (50.21, 87.50)\n"
     ]
    },
    {
     "name": "stderr",
     "output_type": "stream",
     "text": [
      "\n",
      "100%|██████████| 1/1 [00:00<00:00, 16.56it/s]"
     ]
    },
    {
     "name": "stdout",
     "output_type": "stream",
     "text": [
      "\n",
      "Processing #111 - PAGES2kv2_NAm-cana231_NAm_136:trsgi ...\n",
      "PRYSM >>> forward with prysm.vslite ...\n",
      "PRYSM >>> Using R libs from: /home/fzhu/R/x86_64-pc-linux-gnu-library/3.4\n",
      "PRYSM >>> T1=8.552, T2=17.623, M1=0.029, M2=0.261\n",
      "PRYSM >>> Target: (50.6, 241.4); Found: (50.21, 242.50)\n"
     ]
    },
    {
     "name": "stderr",
     "output_type": "stream",
     "text": [
      "\n",
      "100%|██████████| 1/1 [00:00<00:00, 17.14it/s]"
     ]
    },
    {
     "name": "stdout",
     "output_type": "stream",
     "text": [
      "\n",
      "Processing #112 - PAGES2kv2_Asia-MOR1JU_Asi_202:trsgi ...\n",
      "PRYSM >>> forward with prysm.vslite ...\n",
      "PRYSM >>> Using R libs from: /home/fzhu/R/x86_64-pc-linux-gnu-library/3.4\n",
      "PRYSM >>> T1=5.345, T2=16.622, M1=0.093, M2=0.121\n",
      "PRYSM >>> Target: (36.58, 75.08); Found: (36.95, 75.00)\n"
     ]
    },
    {
     "name": "stderr",
     "output_type": "stream",
     "text": [
      "\n",
      "100%|██████████| 1/1 [00:00<00:00, 16.79it/s]"
     ]
    },
    {
     "name": "stdout",
     "output_type": "stream",
     "text": [
      "\n",
      "Processing #113 - PAGES2kv2_NAm-SOV_NAm_081:trsgi ...\n",
      "PRYSM >>> forward with prysm.vslite ...\n",
      "PRYSM >>> Using R libs from: /home/fzhu/R/x86_64-pc-linux-gnu-library/3.4\n",
      "PRYSM >>> T1=8.308, T2=18.077, M1=0.042, M2=0.436\n",
      "PRYSM >>> Target: (36.5, 241.7); Found: (36.95, 242.50)\n"
     ]
    },
    {
     "name": "stderr",
     "output_type": "stream",
     "text": [
      "\n",
      "100%|██████████| 1/1 [00:00<00:00, 16.87it/s]"
     ]
    },
    {
     "name": "stdout",
     "output_type": "stream",
     "text": [
      "\n",
      "Processing #114 - PAGES2kv2_Asia-GANGCD_Asi_102:trsgi ...\n",
      "PRYSM >>> forward with prysm.vslite ...\n",
      "PRYSM >>> Using R libs from: /home/fzhu/R/x86_64-pc-linux-gnu-library/3.4\n",
      "PRYSM >>> T1=6.510, T2=12.088, M1=0.015, M2=0.439\n",
      "PRYSM >>> Target: (30.98, 78.93); Found: (31.26, 80.00)\n"
     ]
    },
    {
     "name": "stderr",
     "output_type": "stream",
     "text": [
      "\n",
      "100%|██████████| 1/1 [00:00<00:00, 16.68it/s]"
     ]
    },
    {
     "name": "stdout",
     "output_type": "stream",
     "text": [
      "\n",
      "Processing #115 - PAGES2kv2_NAm-cana439_NAm_158:trsgi ...\n",
      "PRYSM >>> forward with prysm.vslite ...\n",
      "PRYSM >>> Using R libs from: /home/fzhu/R/x86_64-pc-linux-gnu-library/3.4\n",
      "PRYSM >>> T1=1.944, T2=20.673, M1=0.032, M2=0.229\n",
      "PRYSM >>> Target: (52.2, 242.8); Found: (52.11, 242.50)\n"
     ]
    },
    {
     "name": "stderr",
     "output_type": "stream",
     "text": [
      "\n",
      "100%|██████████| 1/1 [00:00<00:00, 17.22it/s]"
     ]
    },
    {
     "name": "stdout",
     "output_type": "stream",
     "text": [
      "\n",
      "Processing #116 - PAGES2kv2_Asia-UKHMXD_Asi_024:trsgi ...\n",
      "PRYSM >>> forward with prysm.vslite ...\n",
      "PRYSM >>> Using R libs from: /home/fzhu/R/x86_64-pc-linux-gnu-library/3.4\n",
      "PRYSM >>> T1=5.895, T2=17.606, M1=0.064, M2=0.201\n",
      "PRYSM >>> Target: (50.15, 85.37); Found: (50.21, 85.00)\n"
     ]
    },
    {
     "name": "stderr",
     "output_type": "stream",
     "text": [
      "\n",
      "100%|██████████| 1/1 [00:00<00:00, 16.57it/s]"
     ]
    },
    {
     "name": "stdout",
     "output_type": "stream",
     "text": [
      "\n",
      "Processing #117 - PAGES2kv2_Asia-AJTMJT_Asi_126:trsgi ...\n",
      "PRYSM >>> forward with prysm.vslite ...\n",
      "PRYSM >>> Using R libs from: /home/fzhu/R/x86_64-pc-linux-gnu-library/3.4\n",
      "PRYSM >>> T1=6.955, T2=23.137, M1=0.046, M2=0.103\n",
      "PRYSM >>> Target: (40.2, 72.58); Found: (40.74, 72.50)\n"
     ]
    },
    {
     "name": "stderr",
     "output_type": "stream",
     "text": [
      "\n",
      "100%|██████████| 1/1 [00:00<00:00, 17.15it/s]"
     ]
    },
    {
     "name": "stdout",
     "output_type": "stream",
     "text": [
      "\n",
      "Processing #118 - PAGES2kv2_NAm-cana151_NAm_125:trsgi ...\n",
      "PRYSM >>> forward with prysm.vslite ...\n",
      "PRYSM >>> Using R libs from: /home/fzhu/R/x86_64-pc-linux-gnu-library/3.4\n",
      "PRYSM >>> T1=6.953, T2=15.730, M1=0.066, M2=0.433\n",
      "PRYSM >>> Target: (49.9, 241.1); Found: (50.21, 240.00)\n"
     ]
    },
    {
     "name": "stderr",
     "output_type": "stream",
     "text": [
      "\n",
      "100%|██████████| 1/1 [00:00<00:00, 16.98it/s]"
     ]
    },
    {
     "name": "stdout",
     "output_type": "stream",
     "text": [
      "\n",
      "Processing #119 - PAGES2kv2_Asia-MHGSTG_Asi_226:trsgi ...\n",
      "PRYSM >>> forward with prysm.vslite ...\n",
      "PRYSM >>> Using R libs from: /home/fzhu/R/x86_64-pc-linux-gnu-library/3.4\n",
      "PRYSM >>> T1=6.169, T2=23.021, M1=0.032, M2=0.115\n",
      "PRYSM >>> Target: (19.28, 98.93); Found: (19.89, 100.00)\n"
     ]
    },
    {
     "name": "stderr",
     "output_type": "stream",
     "text": [
      "\n",
      "100%|██████████| 1/1 [00:00<00:00, 17.08it/s]"
     ]
    },
    {
     "name": "stdout",
     "output_type": "stream",
     "text": [
      "\n",
      "Processing #120 - PAGES2kv2_SAm-CAN15.Neukom2014_SAm_029:trsgi ...\n",
      "PRYSM >>> forward with prysm.vslite ...\n",
      "PRYSM >>> Using R libs from: /home/fzhu/R/x86_64-pc-linux-gnu-library/3.4\n",
      "PRYSM >>> T1=5.203, T2=11.188, M1=0.058, M2=0.236\n",
      "PRYSM >>> Target: (-41.17, 288.08); Found: (-40.74, 287.50)\n"
     ]
    },
    {
     "name": "stderr",
     "output_type": "stream",
     "text": [
      "\n",
      "100%|██████████| 1/1 [00:00<00:00, 17.30it/s]"
     ]
    },
    {
     "name": "stdout",
     "output_type": "stream",
     "text": [
      "\n",
      "Processing #121 - PAGES2kv2_Asia-ESPPAK_Asi_183:trsgi ...\n",
      "PRYSM >>> forward with prysm.vslite ...\n",
      "PRYSM >>> Using R libs from: /home/fzhu/R/x86_64-pc-linux-gnu-library/3.4\n",
      "PRYSM >>> T1=3.087, T2=19.564, M1=0.086, M2=0.309\n",
      "PRYSM >>> Target: (35.17, 75.5); Found: (35.05, 75.00)\n"
     ]
    },
    {
     "name": "stderr",
     "output_type": "stream",
     "text": [
      "\n",
      "100%|██████████| 1/1 [00:00<00:00, 16.80it/s]"
     ]
    },
    {
     "name": "stdout",
     "output_type": "stream",
     "text": [
      "\n",
      "Processing #122 - PAGES2kv2_Asia-JOTPIG_Asi_199:trsgi ...\n",
      "PRYSM >>> forward with prysm.vslite ...\n",
      "PRYSM >>> Using R libs from: /home/fzhu/R/x86_64-pc-linux-gnu-library/3.4\n",
      "PRYSM >>> T1=2.552, T2=13.584, M1=0.089, M2=0.377\n",
      "PRYSM >>> Target: (35.4, 74.12); Found: (35.05, 75.00)\n"
     ]
    },
    {
     "name": "stderr",
     "output_type": "stream",
     "text": [
      "\n",
      "100%|██████████| 1/1 [00:00<00:00, 17.15it/s]"
     ]
    },
    {
     "name": "stdout",
     "output_type": "stream",
     "text": [
      "\n",
      "Processing #123 - PAGES2kv2_Asia-HBMXJP_Asi_059:trsgi ...\n",
      "PRYSM >>> forward with prysm.vslite ...\n",
      "PRYSM >>> Using R libs from: /home/fzhu/R/x86_64-pc-linux-gnu-library/3.4\n",
      "PRYSM >>> T1=1.838, T2=15.148, M1=0.089, M2=0.433\n",
      "PRYSM >>> Target: (34.78, 100.82); Found: (35.05, 100.00)\n"
     ]
    },
    {
     "name": "stderr",
     "output_type": "stream",
     "text": [
      "\n",
      "100%|██████████| 1/1 [00:00<00:00, 17.01it/s]"
     ]
    },
    {
     "name": "stdout",
     "output_type": "stream",
     "text": [
      "\n",
      "Processing #124 - PAGES2kv2_Asia-HXBURU_Asi_074:trsgi ...\n",
      "PRYSM >>> forward with prysm.vslite ...\n",
      "PRYSM >>> Using R libs from: /home/fzhu/R/x86_64-pc-linux-gnu-library/3.4\n",
      "PRYSM >>> T1=2.705, T2=13.503, M1=0.088, M2=0.401\n",
      "PRYSM >>> Target: (43.18, 87.18); Found: (42.63, 87.50)\n"
     ]
    },
    {
     "name": "stderr",
     "output_type": "stream",
     "text": [
      "\n",
      "100%|██████████| 1/1 [00:00<00:00, 16.80it/s]"
     ]
    },
    {
     "name": "stdout",
     "output_type": "stream",
     "text": [
      "\n",
      "Processing #125 - PAGES2kv2_Asia-TDAXJP_Asi_056:trsgi ...\n",
      "PRYSM >>> forward with prysm.vslite ...\n",
      "PRYSM >>> Using R libs from: /home/fzhu/R/x86_64-pc-linux-gnu-library/3.4\n",
      "PRYSM >>> T1=1.838, T2=15.148, M1=0.089, M2=0.452\n",
      "PRYSM >>> Target: (34.78, 100.8); Found: (35.05, 100.00)\n"
     ]
    },
    {
     "name": "stderr",
     "output_type": "stream",
     "text": [
      "\n",
      "100%|██████████| 1/1 [00:00<00:00, 17.19it/s]"
     ]
    },
    {
     "name": "stdout",
     "output_type": "stream",
     "text": [
      "\n",
      "Processing #126 - PAGES2kv2_NAm-wa104_NAm_196:trsgi ...\n",
      "PRYSM >>> forward with prysm.vslite ...\n",
      "PRYSM >>> Using R libs from: /home/fzhu/R/x86_64-pc-linux-gnu-library/3.4\n",
      "PRYSM >>> T1=5.014, T2=18.644, M1=0.085, M2=0.323\n",
      "PRYSM >>> Target: (46.2, 238.5); Found: (46.42, 237.50)\n"
     ]
    },
    {
     "name": "stderr",
     "output_type": "stream",
     "text": [
      "\n",
      "100%|██████████| 1/1 [00:00<00:00, 17.11it/s]"
     ]
    },
    {
     "name": "stdout",
     "output_type": "stream",
     "text": [
      "\n",
      "Processing #127 - PAGES2kv2_Asia-MUSPIG_Asi_207:trsgi ...\n",
      "PRYSM >>> forward with prysm.vslite ...\n",
      "PRYSM >>> Using R libs from: /home/fzhu/R/x86_64-pc-linux-gnu-library/3.4\n",
      "PRYSM >>> T1=2.705, T2=11.367, M1=0.090, M2=0.487\n",
      "PRYSM >>> Target: (35.5, 74.75); Found: (35.05, 75.00)\n"
     ]
    },
    {
     "name": "stderr",
     "output_type": "stream",
     "text": [
      "\n",
      "100%|██████████| 1/1 [00:00<00:00, 16.57it/s]"
     ]
    },
    {
     "name": "stdout",
     "output_type": "stream",
     "text": [
      "\n",
      "Processing #128 - PAGES2kv2_Asia-KATKUW_Asi_173:trsgi ...\n",
      "PRYSM >>> forward with prysm.vslite ...\n",
      "PRYSM >>> Using R libs from: /home/fzhu/R/x86_64-pc-linux-gnu-library/3.4\n",
      "PRYSM >>> T1=7.861, T2=12.941, M1=0.024, M2=0.162\n",
      "PRYSM >>> Target: (29.52, 82.03); Found: (29.37, 82.50)\n"
     ]
    },
    {
     "name": "stderr",
     "output_type": "stream",
     "text": [
      "\n",
      "100%|██████████| 1/1 [00:00<00:00, 16.33it/s]"
     ]
    },
    {
     "name": "stdout",
     "output_type": "stream",
     "text": [
      "\n",
      "Processing #129 - PAGES2kv2_Asia-HSE_Asi_090:trsgi ...\n",
      "PRYSM >>> forward with prysm.vslite ...\n",
      "PRYSM >>> Using R libs from: /home/fzhu/R/x86_64-pc-linux-gnu-library/3.4\n",
      "PRYSM >>> T1=7.813, T2=14.028, M1=0.061, M2=0.318\n",
      "PRYSM >>> Target: (34.47, 110.08); Found: (35.05, 110.00)\n"
     ]
    },
    {
     "name": "stderr",
     "output_type": "stream",
     "text": [
      "\n",
      "100%|██████████| 1/1 [00:00<00:00, 16.78it/s]"
     ]
    },
    {
     "name": "stdout",
     "output_type": "stream",
     "text": [
      "\n",
      "Processing #130 - PAGES2kv2_Asia-BONKJT_Asi_121:trsgi ...\n",
      "PRYSM >>> forward with prysm.vslite ...\n",
      "PRYSM >>> Using R libs from: /home/fzhu/R/x86_64-pc-linux-gnu-library/3.4\n",
      "PRYSM >>> T1=3.737, T2=21.619, M1=0.051, M2=0.172\n",
      "PRYSM >>> Target: (40.17, 72.58); Found: (40.74, 72.50)\n"
     ]
    },
    {
     "name": "stderr",
     "output_type": "stream",
     "text": [
      "\n",
      "100%|██████████| 1/1 [00:00<00:00, 16.69it/s]"
     ]
    },
    {
     "name": "stdout",
     "output_type": "stream",
     "text": [
      "\n",
      "Processing #131 - PAGES2kv2_Asia-WL4_Asi_098:trsgi ...\n",
      "PRYSM >>> forward with prysm.vslite ...\n",
      "PRYSM >>> Using R libs from: /home/fzhu/R/x86_64-pc-linux-gnu-library/3.4\n",
      "PRYSM >>> T1=8.069, T2=12.938, M1=0.078, M2=0.358\n",
      "PRYSM >>> Target: (36.68, 98.42); Found: (36.95, 97.50)\n"
     ]
    },
    {
     "name": "stderr",
     "output_type": "stream",
     "text": [
      "\n",
      "100%|██████████| 1/1 [00:00<00:00, 17.16it/s]"
     ]
    },
    {
     "name": "stdout",
     "output_type": "stream",
     "text": [
      "\n",
      "Processing #132 - PAGES2kv2_NAm-cana157_NAm_128:trsgi ...\n",
      "PRYSM >>> forward with prysm.vslite ...\n",
      "PRYSM >>> Using R libs from: /home/fzhu/R/x86_64-pc-linux-gnu-library/3.4\n",
      "PRYSM >>> T1=3.365, T2=20.509, M1=0.023, M2=0.130\n",
      "PRYSM >>> Target: (65.0, 221.7); Found: (65.37, 222.50)\n"
     ]
    },
    {
     "name": "stderr",
     "output_type": "stream",
     "text": [
      "\n",
      "100%|██████████| 1/1 [00:00<00:00, 16.75it/s]"
     ]
    },
    {
     "name": "stdout",
     "output_type": "stream",
     "text": [
      "\n",
      "Processing #133 - PAGES2kv2_Asia-ZSMDLS_Asi_163:trsgi ...\n",
      "PRYSM >>> forward with prysm.vslite ...\n",
      "PRYSM >>> Using R libs from: /home/fzhu/R/x86_64-pc-linux-gnu-library/3.4\n",
      "PRYSM >>> T1=1.944, T2=13.585, M1=0.044, M2=0.362\n",
      "PRYSM >>> Target: (48.13, 100.27); Found: (48.32, 100.00)\n"
     ]
    },
    {
     "name": "stderr",
     "output_type": "stream",
     "text": [
      "\n",
      "100%|██████████| 1/1 [00:00<00:00, 17.46it/s]"
     ]
    },
    {
     "name": "stdout",
     "output_type": "stream",
     "text": [
      "\n",
      "Processing #134 - PAGES2kv2_NAm-ak115_NAm_100:trsgi ...\n",
      "PRYSM >>> forward with prysm.vslite ...\n",
      "PRYSM >>> Using R libs from: /home/fzhu/R/x86_64-pc-linux-gnu-library/3.4\n",
      "PRYSM >>> T1=3.841, T2=12.445, M1=0.083, M2=0.110\n",
      "PRYSM >>> Target: (65.2, 197.7); Found: (65.37, 197.50)\n"
     ]
    },
    {
     "name": "stderr",
     "output_type": "stream",
     "text": [
      "\n",
      "100%|██████████| 1/1 [00:00<00:00, 16.64it/s]"
     ]
    },
    {
     "name": "stdout",
     "output_type": "stream",
     "text": [
      "\n",
      "Processing #135 - PAGES2kv2_Asia-DAOSIC_Asi_040:trsgi ...\n",
      "PRYSM >>> forward with prysm.vslite ...\n",
      "PRYSM >>> Using R libs from: /home/fzhu/R/x86_64-pc-linux-gnu-library/3.4\n",
      "PRYSM >>> T1=2.565, T2=14.186, M1=0.071, M2=0.174\n",
      "PRYSM >>> Target: (29.28, 100.08); Found: (29.37, 100.00)\n"
     ]
    },
    {
     "name": "stderr",
     "output_type": "stream",
     "text": [
      "\n",
      "100%|██████████| 1/1 [00:00<00:00, 17.05it/s]"
     ]
    },
    {
     "name": "stdout",
     "output_type": "stream",
     "text": [
      "\n",
      "Processing #136 - PAGES2kv2_Asia-MOR2JU_Asi_203:trsgi ...\n",
      "PRYSM >>> forward with prysm.vslite ...\n",
      "PRYSM >>> Using R libs from: /home/fzhu/R/x86_64-pc-linux-gnu-library/3.4\n",
      "PRYSM >>> T1=4.614, T2=21.268, M1=0.095, M2=0.126\n",
      "PRYSM >>> Target: (36.58, 75.08); Found: (36.95, 75.00)\n"
     ]
    },
    {
     "name": "stderr",
     "output_type": "stream",
     "text": [
      "\n",
      "100%|██████████| 1/1 [00:00<00:00, 16.33it/s]"
     ]
    },
    {
     "name": "stdout",
     "output_type": "stream",
     "text": [
      "\n",
      "Processing #137 - PAGES2kv2_Asia-CHDAND_Asi_169:trsgi ...\n",
      "PRYSM >>> forward with prysm.vslite ...\n",
      "PRYSM >>> Using R libs from: /home/fzhu/R/x86_64-pc-linux-gnu-library/3.4\n",
      "PRYSM >>> T1=5.891, T2=11.481, M1=0.018, M2=0.464\n",
      "PRYSM >>> Target: (27.7, 86.28); Found: (27.47, 87.50)\n"
     ]
    },
    {
     "name": "stderr",
     "output_type": "stream",
     "text": [
      "\n",
      "100%|██████████| 1/1 [00:00<00:00, 17.23it/s]"
     ]
    },
    {
     "name": "stdout",
     "output_type": "stream",
     "text": [
      "\n",
      "Processing #138 - PAGES2kv2_Asia-MQACJP_Asi_078:trsgi ...\n",
      "PRYSM >>> forward with prysm.vslite ...\n",
      "PRYSM >>> Using R libs from: /home/fzhu/R/x86_64-pc-linux-gnu-library/3.4\n",
      "PRYSM >>> T1=3.043, T2=11.668, M1=0.080, M2=0.422\n",
      "PRYSM >>> Target: (35.07, 100.35); Found: (35.05, 100.00)\n"
     ]
    },
    {
     "name": "stderr",
     "output_type": "stream",
     "text": [
      "\n",
      "100%|██████████| 1/1 [00:00<00:00, 17.61it/s]"
     ]
    },
    {
     "name": "stdout",
     "output_type": "stream",
     "text": [
      "\n",
      "Processing #139 - PAGES2kv2_NAm-ak098_NAm_097:trsgi ...\n",
      "PRYSM >>> forward with prysm.vslite ...\n",
      "PRYSM >>> Using R libs from: /home/fzhu/R/x86_64-pc-linux-gnu-library/3.4\n",
      "PRYSM >>> T1=7.938, T2=13.777, M1=0.004, M2=0.292\n",
      "PRYSM >>> Target: (55.3, 228.4); Found: (55.89, 227.50)\n"
     ]
    },
    {
     "name": "stderr",
     "output_type": "stream",
     "text": [
      "\n",
      "100%|██████████| 1/1 [00:00<00:00, 17.37it/s]"
     ]
    },
    {
     "name": "stdout",
     "output_type": "stream",
     "text": [
      "\n",
      "Processing #140 - PAGES2kv2_Asia-TERELJ_Asi_166:trsgi ...\n",
      "PRYSM >>> forward with prysm.vslite ...\n",
      "PRYSM >>> Using R libs from: /home/fzhu/R/x86_64-pc-linux-gnu-library/3.4\n",
      "PRYSM >>> T1=3.216, T2=16.231, M1=0.074, M2=0.207\n",
      "PRYSM >>> Target: (47.95, 107.45); Found: (48.32, 107.50)\n"
     ]
    },
    {
     "name": "stderr",
     "output_type": "stream",
     "text": [
      "\n",
      "100%|██████████| 1/1 [00:00<00:00, 17.59it/s]"
     ]
    },
    {
     "name": "stdout",
     "output_type": "stream",
     "text": [
      "\n",
      "Processing #141 - PAGES2kv2_NAm-cana449_NAm_161:trsgi ...\n",
      "PRYSM >>> forward with prysm.vslite ...\n",
      "PRYSM >>> Using R libs from: /home/fzhu/R/x86_64-pc-linux-gnu-library/3.4\n",
      "PRYSM >>> T1=5.145, T2=11.165, M1=0.038, M2=0.390\n",
      "PRYSM >>> Target: (52.9, 242.0); Found: (52.11, 242.50)\n"
     ]
    },
    {
     "name": "stderr",
     "output_type": "stream",
     "text": [
      "\n",
      "100%|██████████| 1/1 [00:00<00:00, 17.75it/s]"
     ]
    },
    {
     "name": "stdout",
     "output_type": "stream",
     "text": [
      "\n",
      "Processing #142 - PAGES2kv2_NAm-ak014_NAm_087:trsgi ...\n",
      "PRYSM >>> forward with prysm.vslite ...\n",
      "PRYSM >>> Using R libs from: /home/fzhu/R/x86_64-pc-linux-gnu-library/3.4\n",
      "PRYSM >>> T1=7.286, T2=11.561, M1=0.062, M2=0.172\n",
      "PRYSM >>> Target: (58.1, 207.3); Found: (57.79, 207.50)\n"
     ]
    },
    {
     "name": "stderr",
     "output_type": "stream",
     "text": [
      "\n",
      "100%|██████████| 1/1 [00:00<00:00, 17.85it/s]"
     ]
    },
    {
     "name": "stdout",
     "output_type": "stream",
     "text": [
      "\n",
      "Processing #143 - PAGES2kv2_Asia-SODAPS_Asi_155:trsgi ...\n",
      "PRYSM >>> forward with prysm.vslite ...\n",
      "PRYSM >>> Using R libs from: /home/fzhu/R/x86_64-pc-linux-gnu-library/3.4\n",
      "PRYSM >>> T1=3.912, T2=12.559, M1=0.052, M2=0.398\n",
      "PRYSM >>> Target: (48.3, 98.93); Found: (48.32, 100.00)\n"
     ]
    },
    {
     "name": "stderr",
     "output_type": "stream",
     "text": [
      "\n",
      "100%|██████████| 1/1 [00:00<00:00, 17.68it/s]"
     ]
    },
    {
     "name": "stdout",
     "output_type": "stream",
     "text": [
      "\n",
      "Processing #144 - PAGES2kv2_Arc-LenaRiver.MacDonald.1998_Arc_024:trsgi ...\n",
      "PRYSM >>> forward with prysm.vslite ...\n",
      "PRYSM >>> Using R libs from: /home/fzhu/R/x86_64-pc-linux-gnu-library/3.4\n",
      "PRYSM >>> T1=6.955, T2=13.574, M1=0.010, M2=0.103\n",
      "PRYSM >>> Target: (70.67, 125.87); Found: (71.05, 125.00)\n"
     ]
    },
    {
     "name": "stderr",
     "output_type": "stream",
     "text": [
      "\n",
      "100%|██████████| 1/1 [00:00<00:00, 17.31it/s]"
     ]
    },
    {
     "name": "stdout",
     "output_type": "stream",
     "text": [
      "\n",
      "Processing #145 - PAGES2kv2_Asia-TUCHLS_Asi_159:trsgi ...\n",
      "PRYSM >>> forward with prysm.vslite ...\n",
      "PRYSM >>> Using R libs from: /home/fzhu/R/x86_64-pc-linux-gnu-library/3.4\n",
      "PRYSM >>> T1=3.337, T2=16.347, M1=0.079, M2=0.235\n",
      "PRYSM >>> Target: (49.7, 91.55); Found: (50.21, 92.50)\n"
     ]
    },
    {
     "name": "stderr",
     "output_type": "stream",
     "text": [
      "\n",
      "100%|██████████| 1/1 [00:00<00:00, 16.92it/s]"
     ]
    },
    {
     "name": "stdout",
     "output_type": "stream",
     "text": [
      "\n",
      "Processing #146 - PAGES2kv2_Asia-HUASPI_Asi_062:trsgi ...\n",
      "PRYSM >>> forward with prysm.vslite ...\n",
      "PRYSM >>> Using R libs from: /home/fzhu/R/x86_64-pc-linux-gnu-library/3.4\n",
      "PRYSM >>> T1=8.378, T2=12.289, M1=0.036, M2=0.319\n",
      "PRYSM >>> Target: (34.48, 110.08); Found: (35.05, 110.00)\n"
     ]
    },
    {
     "name": "stderr",
     "output_type": "stream",
     "text": [
      "\n",
      "100%|██████████| 1/1 [00:00<00:00, 17.60it/s]"
     ]
    },
    {
     "name": "stdout",
     "output_type": "stream",
     "text": [
      "\n",
      "Processing #147 - PAGES2kv2_NAm-cana228_NAm_135:trsgi ...\n",
      "PRYSM >>> forward with prysm.vslite ...\n",
      "PRYSM >>> Using R libs from: /home/fzhu/R/x86_64-pc-linux-gnu-library/3.4\n",
      "PRYSM >>> T1=8.197, T2=15.192, M1=0.041, M2=0.363\n",
      "PRYSM >>> Target: (49.4, 242.8); Found: (50.21, 242.50)\n"
     ]
    },
    {
     "name": "stderr",
     "output_type": "stream",
     "text": [
      "\n",
      "100%|██████████| 1/1 [00:00<00:00, 17.52it/s]"
     ]
    },
    {
     "name": "stdout",
     "output_type": "stream",
     "text": [
      "\n",
      "Processing #148 - PAGES2kv2_NAm-wa069_NAm_189:trsgi ...\n",
      "PRYSM >>> forward with prysm.vslite ...\n",
      "PRYSM >>> Using R libs from: /home/fzhu/R/x86_64-pc-linux-gnu-library/3.4\n",
      "PRYSM >>> T1=6.915, T2=11.482, M1=0.085, M2=0.220\n",
      "PRYSM >>> Target: (48.7, 239.3); Found: (48.32, 240.00)\n"
     ]
    },
    {
     "name": "stderr",
     "output_type": "stream",
     "text": [
      "\n",
      "100%|██████████| 1/1 [00:00<00:00, 17.76it/s]"
     ]
    },
    {
     "name": "stdout",
     "output_type": "stream",
     "text": [
      "\n",
      "Processing #149 - PAGES2kv2_Asia-BIGELS_Asi_141:trsgi ...\n",
      "PRYSM >>> forward with prysm.vslite ...\n",
      "PRYSM >>> Using R libs from: /home/fzhu/R/x86_64-pc-linux-gnu-library/3.4\n",
      "PRYSM >>> T1=5.083, T2=11.767, M1=0.008, M2=0.162\n",
      "PRYSM >>> Target: (49.97, 91.0); Found: (50.21, 90.00)\n"
     ]
    },
    {
     "name": "stderr",
     "output_type": "stream",
     "text": [
      "\n",
      "100%|██████████| 1/1 [00:00<00:00, 17.14it/s]"
     ]
    },
    {
     "name": "stdout",
     "output_type": "stream",
     "text": [
      "\n",
      "Processing #150 - PAGES2kv2_Asia-ZMGLPS_Asi_161:trsgi ...\n",
      "PRYSM >>> forward with prysm.vslite ...\n",
      "PRYSM >>> Using R libs from: /home/fzhu/R/x86_64-pc-linux-gnu-library/3.4\n",
      "PRYSM >>> T1=6.510, T2=12.088, M1=0.015, M2=0.439\n",
      "PRYSM >>> Target: (48.25, 97.4); Found: (48.32, 97.50)\n"
     ]
    },
    {
     "name": "stderr",
     "output_type": "stream",
     "text": [
      "\n",
      "100%|██████████| 1/1 [00:00<00:00, 16.90it/s]"
     ]
    },
    {
     "name": "stdout",
     "output_type": "stream",
     "text": [
      "\n",
      "Processing #151 - PAGES2kv2_Asia-HEBQIN_Asi_045:trsgi ...\n",
      "PRYSM >>> forward with prysm.vslite ...\n",
      "PRYSM >>> Using R libs from: /home/fzhu/R/x86_64-pc-linux-gnu-library/3.4\n",
      "PRYSM >>> T1=3.043, T2=11.668, M1=0.080, M2=0.422\n",
      "PRYSM >>> Target: (34.73, 100.78); Found: (35.05, 100.00)\n"
     ]
    },
    {
     "name": "stderr",
     "output_type": "stream",
     "text": [
      "\n",
      "100%|██████████| 1/1 [00:00<00:00, 17.22it/s]"
     ]
    },
    {
     "name": "stdout",
     "output_type": "stream",
     "text": [
      "\n",
      "Processing #152 - PAGES2kv2_Asia-GRAKJT_Asi_123:trsgi ...\n",
      "PRYSM >>> forward with prysm.vslite ...\n",
      "PRYSM >>> Using R libs from: /home/fzhu/R/x86_64-pc-linux-gnu-library/3.4\n",
      "PRYSM >>> T1=7.511, T2=22.955, M1=0.021, M2=0.180\n",
      "PRYSM >>> Target: (40.17, 72.58); Found: (40.74, 72.50)\n"
     ]
    },
    {
     "name": "stderr",
     "output_type": "stream",
     "text": [
      "\n",
      "100%|██████████| 1/1 [00:00<00:00, 16.95it/s]"
     ]
    },
    {
     "name": "stdout",
     "output_type": "stream",
     "text": [
      "\n",
      "Processing #153 - PAGES2kv2_Asia-XJTCJT_Asi_129:trsgi ...\n",
      "PRYSM >>> forward with prysm.vslite ...\n",
      "PRYSM >>> Using R libs from: /home/fzhu/R/x86_64-pc-linux-gnu-library/3.4\n",
      "PRYSM >>> T1=8.219, T2=15.282, M1=0.086, M2=0.147\n",
      "PRYSM >>> Target: (39.83, 71.5); Found: (40.74, 72.50)\n"
     ]
    },
    {
     "name": "stderr",
     "output_type": "stream",
     "text": [
      "\n",
      "100%|██████████| 1/1 [00:00<00:00, 16.91it/s]"
     ]
    },
    {
     "name": "stdout",
     "output_type": "stream",
     "text": [
      "\n",
      "Processing #154 - PAGES2kv2_NAm-ca606_NAm_013:trsgi ...\n",
      "PRYSM >>> forward with prysm.vslite ...\n",
      "PRYSM >>> Using R libs from: /home/fzhu/R/x86_64-pc-linux-gnu-library/3.4\n",
      "PRYSM >>> T1=5.921, T2=12.453, M1=0.017, M2=0.278\n",
      "PRYSM >>> Target: (37.8, 240.8); Found: (36.95, 240.00)\n"
     ]
    },
    {
     "name": "stderr",
     "output_type": "stream",
     "text": [
      "\n",
      "100%|██████████| 1/1 [00:00<00:00, 17.22it/s]"
     ]
    },
    {
     "name": "stdout",
     "output_type": "stream",
     "text": [
      "\n",
      "Processing #155 - PAGES2kv2_NAm-cana225_NAm_133:trsgi ...\n",
      "PRYSM >>> forward with prysm.vslite ...\n",
      "PRYSM >>> Using R libs from: /home/fzhu/R/x86_64-pc-linux-gnu-library/3.4\n",
      "PRYSM >>> T1=8.552, T2=15.701, M1=0.029, M2=0.261\n",
      "PRYSM >>> Target: (50.2, 242.9); Found: (50.21, 242.50)\n"
     ]
    },
    {
     "name": "stderr",
     "output_type": "stream",
     "text": [
      "\n",
      "100%|██████████| 1/1 [00:00<00:00, 16.87it/s]"
     ]
    },
    {
     "name": "stdout",
     "output_type": "stream",
     "text": [
      "\n",
      "Processing #156 - PAGES2kv2_Asia-NLTPCS_Asi_209:trsgi ...\n",
      "PRYSM >>> forward with prysm.vslite ...\n",
      "PRYSM >>> Using R libs from: /home/fzhu/R/x86_64-pc-linux-gnu-library/3.4\n",
      "PRYSM >>> T1=8.197, T2=19.720, M1=0.041, M2=0.253\n",
      "PRYSM >>> Target: (36.15, 74.18); Found: (36.95, 75.00)\n"
     ]
    },
    {
     "name": "stderr",
     "output_type": "stream",
     "text": [
      "\n",
      "100%|██████████| 1/1 [00:00<00:00, 16.44it/s]"
     ]
    },
    {
     "name": "stdout",
     "output_type": "stream",
     "text": [
      "\n",
      "Processing #157 - PAGES2kv2_Asia-KHOVLS_Asi_150:trsgi ...\n",
      "PRYSM >>> forward with prysm.vslite ...\n",
      "PRYSM >>> Using R libs from: /home/fzhu/R/x86_64-pc-linux-gnu-library/3.4\n",
      "PRYSM >>> T1=6.981, T2=10.828, M1=0.088, M2=0.382\n",
      "PRYSM >>> Target: (48.7, 88.8); Found: (48.32, 90.00)\n"
     ]
    },
    {
     "name": "stderr",
     "output_type": "stream",
     "text": [
      "\n",
      "100%|██████████| 1/1 [00:00<00:00, 16.12it/s]"
     ]
    },
    {
     "name": "stdout",
     "output_type": "stream",
     "text": [
      "\n",
      "Processing #158 - PAGES2kv2_Asia-MSR_Asi_112:trsgi ...\n",
      "PRYSM >>> forward with prysm.vslite ...\n",
      "PRYSM >>> Using R libs from: /home/fzhu/R/x86_64-pc-linux-gnu-library/3.4\n",
      "PRYSM >>> T1=3.562, T2=14.369, M1=0.041, M2=0.484\n",
      "PRYSM >>> Target: (44.35, 142.18); Found: (44.53, 142.50)\n"
     ]
    },
    {
     "name": "stderr",
     "output_type": "stream",
     "text": [
      "\n",
      "100%|██████████| 1/1 [00:00<00:00, 16.57it/s]"
     ]
    },
    {
     "name": "stdout",
     "output_type": "stream",
     "text": [
      "\n",
      "Processing #159 - PAGES2kv2_Asia-CHP3JU_Asi_196:trsgi ...\n",
      "PRYSM >>> forward with prysm.vslite ...\n",
      "PRYSM >>> Using R libs from: /home/fzhu/R/x86_64-pc-linux-gnu-library/3.4\n",
      "PRYSM >>> T1=7.918, T2=14.585, M1=0.085, M2=0.180\n",
      "PRYSM >>> Target: (36.33, 74.03); Found: (36.95, 75.00)\n"
     ]
    },
    {
     "name": "stderr",
     "output_type": "stream",
     "text": [
      "\n",
      "100%|██████████| 1/1 [00:00<00:00, 16.84it/s]"
     ]
    },
    {
     "name": "stdout",
     "output_type": "stream",
     "text": [
      "\n",
      "Processing #160 - PAGES2kv2_Asia-HBHXJP_Asi_060:trsgi ...\n",
      "PRYSM >>> forward with prysm.vslite ...\n",
      "PRYSM >>> Using R libs from: /home/fzhu/R/x86_64-pc-linux-gnu-library/3.4\n",
      "PRYSM >>> T1=1.838, T2=12.431, M1=0.058, M2=0.452\n",
      "PRYSM >>> Target: (34.78, 100.82); Found: (35.05, 100.00)\n"
     ]
    },
    {
     "name": "stderr",
     "output_type": "stream",
     "text": [
      "\n",
      "100%|██████████| 1/1 [00:00<00:00, 16.79it/s]"
     ]
    },
    {
     "name": "stdout",
     "output_type": "stream",
     "text": [
      "\n",
      "Processing #161 - PAGES2kv2_NAm-ak001_NAm_083:trsgi ...\n",
      "PRYSM >>> forward with prysm.vslite ...\n",
      "PRYSM >>> Using R libs from: /home/fzhu/R/x86_64-pc-linux-gnu-library/3.4\n",
      "PRYSM >>> T1=6.112, T2=12.679, M1=0.015, M2=0.138\n",
      "PRYSM >>> Target: (60.4, 212.2); Found: (59.68, 212.50)\n"
     ]
    },
    {
     "name": "stderr",
     "output_type": "stream",
     "text": [
      "\n",
      "100%|██████████| 1/1 [00:00<00:00, 17.17it/s]"
     ]
    },
    {
     "name": "stdout",
     "output_type": "stream",
     "text": [
      "\n",
      "Processing #162 - PAGES2kv2_Asia-22DLT_Asi_083:trsgi ...\n",
      "PRYSM >>> forward with prysm.vslite ...\n",
      "PRYSM >>> Using R libs from: /home/fzhu/R/x86_64-pc-linux-gnu-library/3.4\n",
      "PRYSM >>> T1=6.510, T2=12.088, M1=0.015, M2=0.439\n",
      "PRYSM >>> Target: (27.88, 98.4); Found: (27.47, 97.50)\n"
     ]
    },
    {
     "name": "stderr",
     "output_type": "stream",
     "text": [
      "\n",
      "100%|██████████| 1/1 [00:00<00:00, 17.10it/s]"
     ]
    },
    {
     "name": "stdout",
     "output_type": "stream",
     "text": [
      "\n",
      "Processing #163 - PAGES2kv2_Asia-HOCKJT_Asi_124:trsgi ...\n",
      "PRYSM >>> forward with prysm.vslite ...\n",
      "PRYSM >>> Using R libs from: /home/fzhu/R/x86_64-pc-linux-gnu-library/3.4\n",
      "PRYSM >>> T1=4.556, T2=22.604, M1=0.052, M2=0.107\n",
      "PRYSM >>> Target: (40.17, 72.58); Found: (40.74, 72.50)\n"
     ]
    },
    {
     "name": "stderr",
     "output_type": "stream",
     "text": [
      "\n",
      "100%|██████████| 1/1 [00:00<00:00, 17.26it/s]"
     ]
    },
    {
     "name": "stdout",
     "output_type": "stream",
     "text": [
      "\n",
      "Processing #164 - PAGES2kv2_Asia-HSS_Asi_091:trsgi ...\n",
      "PRYSM >>> forward with prysm.vslite ...\n",
      "PRYSM >>> Using R libs from: /home/fzhu/R/x86_64-pc-linux-gnu-library/3.4\n",
      "PRYSM >>> T1=7.309, T2=12.301, M1=0.055, M2=0.312\n",
      "PRYSM >>> Target: (34.47, 110.08); Found: (35.05, 110.00)\n"
     ]
    },
    {
     "name": "stderr",
     "output_type": "stream",
     "text": [
      "\n",
      "100%|██████████| 1/1 [00:00<00:00, 16.77it/s]"
     ]
    },
    {
     "name": "stdout",
     "output_type": "stream",
     "text": [
      "\n",
      "Processing #165 - PAGES2kv2_NAm-wa061_NAm_060:trsgi ...\n",
      "PRYSM >>> forward with prysm.vslite ...\n",
      "PRYSM >>> Using R libs from: /home/fzhu/R/x86_64-pc-linux-gnu-library/3.4\n",
      "PRYSM >>> T1=8.278, T2=13.380, M1=0.067, M2=0.205\n",
      "PRYSM >>> Target: (48.3, 239.7); Found: (48.32, 240.00)\n"
     ]
    },
    {
     "name": "stderr",
     "output_type": "stream",
     "text": [
      "\n",
      "100%|██████████| 1/1 [00:00<00:00, 17.03it/s]"
     ]
    },
    {
     "name": "stdout",
     "output_type": "stream",
     "text": [
      "\n",
      "Processing #166 - PAGES2kv2_Asia-NYINJT_Asi_223:trsgi ...\n",
      "PRYSM >>> forward with prysm.vslite ...\n",
      "PRYSM >>> Using R libs from: /home/fzhu/R/x86_64-pc-linux-gnu-library/3.4\n",
      "PRYSM >>> T1=8.378, T2=13.382, M1=0.036, M2=0.319\n",
      "PRYSM >>> Target: (29.62, 94.67); Found: (29.37, 95.00)\n"
     ]
    },
    {
     "name": "stderr",
     "output_type": "stream",
     "text": [
      "\n",
      "100%|██████████| 1/1 [00:00<00:00, 16.71it/s]"
     ]
    },
    {
     "name": "stdout",
     "output_type": "stream",
     "text": [
      "\n",
      "Processing #167 - PAGES2kv2_Asia-MQAXJP_Asi_051:trsgi ...\n",
      "PRYSM >>> forward with prysm.vslite ...\n",
      "PRYSM >>> Using R libs from: /home/fzhu/R/x86_64-pc-linux-gnu-library/3.4\n",
      "PRYSM >>> T1=4.808, T2=11.792, M1=0.081, M2=0.445\n",
      "PRYSM >>> Target: (35.07, 100.35); Found: (35.05, 100.00)\n"
     ]
    },
    {
     "name": "stderr",
     "output_type": "stream",
     "text": [
      "\n",
      "100%|██████████| 1/1 [00:00<00:00, 16.84it/s]"
     ]
    },
    {
     "name": "stdout",
     "output_type": "stream",
     "text": [
      "\n",
      "Processing #168 - PAGES2kv2_Asia-GEFKJT_Asi_122:trsgi ...\n",
      "PRYSM >>> forward with prysm.vslite ...\n",
      "PRYSM >>> Using R libs from: /home/fzhu/R/x86_64-pc-linux-gnu-library/3.4\n",
      "PRYSM >>> T1=2.950, T2=14.678, M1=0.051, M2=0.136\n",
      "PRYSM >>> Target: (40.17, 72.58); Found: (40.74, 72.50)\n"
     ]
    },
    {
     "name": "stderr",
     "output_type": "stream",
     "text": [
      "\n",
      "100%|██████████| 1/1 [00:00<00:00, 17.29it/s]"
     ]
    },
    {
     "name": "stdout",
     "output_type": "stream",
     "text": [
      "\n",
      "Processing #169 - PAGES2kv2_Asia-UKHTRW_Asi_018:trsgi ...\n",
      "PRYSM >>> forward with prysm.vslite ...\n",
      "PRYSM >>> Using R libs from: /home/fzhu/R/x86_64-pc-linux-gnu-library/3.4\n",
      "PRYSM >>> T1=6.814, T2=12.441, M1=0.029, M2=0.198\n",
      "PRYSM >>> Target: (50.15, 85.37); Found: (50.21, 85.00)\n"
     ]
    },
    {
     "name": "stderr",
     "output_type": "stream",
     "text": [
      "\n",
      "100%|██████████| 1/1 [00:00<00:00, 17.36it/s]"
     ]
    },
    {
     "name": "stdout",
     "output_type": "stream",
     "text": [
      "\n",
      "Processing #170 - PAGES2kv2_Asia-JUTPCS_Asi_200:trsgi ...\n",
      "PRYSM >>> forward with prysm.vslite ...\n",
      "PRYSM >>> Using R libs from: /home/fzhu/R/x86_64-pc-linux-gnu-library/3.4\n",
      "PRYSM >>> T1=6.539, T2=15.807, M1=0.089, M2=0.244\n",
      "PRYSM >>> Target: (35.83, 74.33); Found: (35.05, 75.00)\n"
     ]
    },
    {
     "name": "stderr",
     "output_type": "stream",
     "text": [
      "\n",
      "100%|██████████| 1/1 [00:00<00:00, 17.49it/s]"
     ]
    },
    {
     "name": "stdout",
     "output_type": "stream",
     "text": [
      "\n",
      "Processing #171 - PAGES2kv2_Asia-DLH6_Asi_089:trsgi ...\n",
      "PRYSM >>> forward with prysm.vslite ...\n",
      "PRYSM >>> Using R libs from: /home/fzhu/R/x86_64-pc-linux-gnu-library/3.4\n",
      "PRYSM >>> T1=2.588, T2=11.978, M1=0.046, M2=0.463\n",
      "PRYSM >>> Target: (37.52, 97.05); Found: (36.95, 97.50)\n"
     ]
    },
    {
     "name": "stderr",
     "output_type": "stream",
     "text": [
      "\n",
      "100%|██████████| 1/1 [00:00<00:00, 17.94it/s]"
     ]
    },
    {
     "name": "stdout",
     "output_type": "stream",
     "text": [
      "\n",
      "Processing #172 - PAGES2kv2_Asia-NANENG_Asi_138:trsgi ...\n",
      "PRYSM >>> forward with prysm.vslite ...\n",
      "PRYSM >>> Using R libs from: /home/fzhu/R/x86_64-pc-linux-gnu-library/3.4\n",
      "PRYSM >>> T1=6.288, T2=11.367, M1=0.060, M2=0.385\n",
      "PRYSM >>> Target: (42.15, 79.45); Found: (42.63, 80.00)\n"
     ]
    },
    {
     "name": "stderr",
     "output_type": "stream",
     "text": [
      "\n",
      "100%|██████████| 1/1 [00:00<00:00, 16.43it/s]"
     ]
    },
    {
     "name": "stdout",
     "output_type": "stream",
     "text": [
      "\n",
      "Processing #173 - PAGES2kv2_Asia-YKS_Asi_111:trsgi ...\n",
      "PRYSM >>> forward with prysm.vslite ...\n",
      "PRYSM >>> Using R libs from: /home/fzhu/R/x86_64-pc-linux-gnu-library/3.4\n",
      "PRYSM >>> T1=5.295, T2=11.088, M1=0.032, M2=0.233\n",
      "PRYSM >>> Target: (30.33, 130.5); Found: (31.26, 130.00)\n"
     ]
    },
    {
     "name": "stderr",
     "output_type": "stream",
     "text": [
      "\n",
      "100%|██████████| 1/1 [00:00<00:00, 17.44it/s]"
     ]
    },
    {
     "name": "stdout",
     "output_type": "stream",
     "text": [
      "\n",
      "Processing #174 - PAGES2kv2_Asia-NARANG_Asi_105:trsgi ...\n",
      "PRYSM >>> forward with prysm.vslite ...\n",
      "PRYSM >>> Using R libs from: /home/fzhu/R/x86_64-pc-linux-gnu-library/3.4\n",
      "PRYSM >>> T1=7.305, T2=19.117, M1=0.016, M2=0.293\n",
      "PRYSM >>> Target: (10.18, 76.87); Found: (10.42, 77.50)\n"
     ]
    },
    {
     "name": "stderr",
     "output_type": "stream",
     "text": [
      "\n",
      "100%|██████████| 1/1 [00:00<00:00, 17.13it/s]"
     ]
    },
    {
     "name": "stdout",
     "output_type": "stream",
     "text": [
      "\n",
      "Processing #175 - PAGES2kv2_NAm-FRE_NAm_070:trsgi ...\n",
      "PRYSM >>> forward with prysm.vslite ...\n",
      "PRYSM >>> Using R libs from: /home/fzhu/R/x86_64-pc-linux-gnu-library/3.4\n",
      "PRYSM >>> T1=6.975, T2=18.239, M1=0.031, M2=0.105\n",
      "PRYSM >>> Target: (43.0, 250.4); Found: (42.63, 250.00)\n"
     ]
    },
    {
     "name": "stderr",
     "output_type": "stream",
     "text": [
      "\n",
      "100%|██████████| 1/1 [00:00<00:00, 16.67it/s]"
     ]
    },
    {
     "name": "stdout",
     "output_type": "stream",
     "text": [
      "\n",
      "Processing #176 - PAGES2kv2_Asia-13YET_Asi_082:trsgi ...\n",
      "PRYSM >>> forward with prysm.vslite ...\n",
      "PRYSM >>> Using R libs from: /home/fzhu/R/x86_64-pc-linux-gnu-library/3.4\n",
      "PRYSM >>> T1=7.835, T2=17.265, M1=0.083, M2=0.246\n",
      "PRYSM >>> Target: (28.03, 98.98); Found: (27.47, 100.00)\n"
     ]
    },
    {
     "name": "stderr",
     "output_type": "stream",
     "text": [
      "\n",
      "100%|██████████| 1/1 [00:00<00:00, 16.91it/s]"
     ]
    },
    {
     "name": "stdout",
     "output_type": "stream",
     "text": [
      "\n",
      "Processing #177 - PAGES2kv2_Asia-MCCHFH_Asi_228:trsgi ...\n",
      "PRYSM >>> forward with prysm.vslite ...\n",
      "PRYSM >>> Using R libs from: /home/fzhu/R/x86_64-pc-linux-gnu-library/3.4\n",
      "PRYSM >>> T1=5.609, T2=14.400, M1=0.011, M2=0.487\n",
      "PRYSM >>> Target: (21.67, 104.1); Found: (21.79, 105.00)\n"
     ]
    },
    {
     "name": "stderr",
     "output_type": "stream",
     "text": [
      "\n",
      "100%|██████████| 1/1 [00:00<00:00, 17.22it/s]"
     ]
    },
    {
     "name": "stdout",
     "output_type": "stream",
     "text": [
      "\n",
      "Processing #178 - PAGES2kv2_NAm-wa071_NAm_190:trsgi ...\n",
      "PRYSM >>> forward with prysm.vslite ...\n",
      "PRYSM >>> Using R libs from: /home/fzhu/R/x86_64-pc-linux-gnu-library/3.4\n",
      "PRYSM >>> T1=7.581, T2=21.366, M1=0.034, M2=0.149\n",
      "PRYSM >>> Target: (48.7, 239.3); Found: (48.32, 240.00)\n"
     ]
    },
    {
     "name": "stderr",
     "output_type": "stream",
     "text": [
      "\n",
      "100%|██████████| 1/1 [00:00<00:00, 17.00it/s]"
     ]
    },
    {
     "name": "stdout",
     "output_type": "stream",
     "text": [
      "\n",
      "Processing #179 - PAGES2kv2_Asia-DEORLA_Asi_170:trsgi ...\n",
      "PRYSM >>> forward with prysm.vslite ...\n",
      "PRYSM >>> Using R libs from: /home/fzhu/R/x86_64-pc-linux-gnu-library/3.4\n",
      "PRYSM >>> T1=8.278, T2=14.772, M1=0.010, M2=0.427\n",
      "PRYSM >>> Target: (28.38, 83.7); Found: (27.47, 82.50)\n"
     ]
    },
    {
     "name": "stderr",
     "output_type": "stream",
     "text": [
      "\n",
      "100%|██████████| 1/1 [00:00<00:00, 16.62it/s]"
     ]
    },
    {
     "name": "stdout",
     "output_type": "stream",
     "text": [
      "\n",
      "Processing #180 - PAGES2kv2_Asia-SMASLY_Asi_076:trsgi ...\n",
      "PRYSM >>> forward with prysm.vslite ...\n",
      "PRYSM >>> Using R libs from: /home/fzhu/R/x86_64-pc-linux-gnu-library/3.4\n",
      "PRYSM >>> T1=5.466, T2=10.828, M1=0.001, M2=0.275\n",
      "PRYSM >>> Target: (27.62, 99.8); Found: (27.47, 100.00)\n"
     ]
    },
    {
     "name": "stderr",
     "output_type": "stream",
     "text": [
      "\n",
      "100%|██████████| 1/1 [00:00<00:00, 16.63it/s]"
     ]
    },
    {
     "name": "stdout",
     "output_type": "stream",
     "text": [
      "\n",
      "Processing #181 - PAGES2kv2_NAm-ak010_NAm_085:trsgi ...\n",
      "PRYSM >>> forward with prysm.vslite ...\n",
      "PRYSM >>> Using R libs from: /home/fzhu/R/x86_64-pc-linux-gnu-library/3.4\n",
      "PRYSM >>> T1=4.733, T2=11.691, M1=0.062, M2=0.444\n",
      "PRYSM >>> Target: (61.8, 212.7); Found: (61.58, 212.50)\n"
     ]
    },
    {
     "name": "stderr",
     "output_type": "stream",
     "text": [
      "\n",
      "100%|██████████| 1/1 [00:00<00:00, 15.92it/s]"
     ]
    },
    {
     "name": "stdout",
     "output_type": "stream",
     "text": [
      "\n",
      "Processing #182 - PAGES2kv2_Asia-NASPTD_Asi_026:trsgi ...\n",
      "PRYSM >>> forward with prysm.vslite ...\n",
      "PRYSM >>> Using R libs from: /home/fzhu/R/x86_64-pc-linux-gnu-library/3.4\n",
      "PRYSM >>> T1=6.897, T2=19.323, M1=0.047, M2=0.411\n",
      "PRYSM >>> Target: (27.67, 90.73); Found: (27.47, 90.00)\n"
     ]
    },
    {
     "name": "stderr",
     "output_type": "stream",
     "text": [
      "\n",
      "100%|██████████| 1/1 [00:00<00:00, 17.28it/s]"
     ]
    },
    {
     "name": "stdout",
     "output_type": "stream",
     "text": [
      "\n",
      "Processing #183 - PAGES2kv2_NAm-ak058_NAm_091:trsgi ...\n",
      "PRYSM >>> forward with prysm.vslite ...\n",
      "PRYSM >>> Using R libs from: /home/fzhu/R/x86_64-pc-linux-gnu-library/3.4\n",
      "PRYSM >>> T1=6.067, T2=14.921, M1=0.014, M2=0.363\n",
      "PRYSM >>> Target: (65.2, 197.8); Found: (65.37, 197.50)\n"
     ]
    },
    {
     "name": "stderr",
     "output_type": "stream",
     "text": [
      "\n",
      "100%|██████████| 1/1 [00:00<00:00, 17.58it/s]"
     ]
    },
    {
     "name": "stdout",
     "output_type": "stream",
     "text": [
      "\n",
      "Processing #184 - PAGES2kv2_Asia-HYGJUP_Asi_077:trsgi ...\n",
      "PRYSM >>> forward with prysm.vslite ...\n",
      "PRYSM >>> Using R libs from: /home/fzhu/R/x86_64-pc-linux-gnu-library/3.4\n",
      "PRYSM >>> T1=4.837, T2=13.582, M1=0.079, M2=0.358\n",
      "PRYSM >>> Target: (38.7, 99.68); Found: (38.84, 100.00)\n"
     ]
    },
    {
     "name": "stderr",
     "output_type": "stream",
     "text": [
      "\n",
      "100%|██████████| 1/1 [00:00<00:00, 17.18it/s]"
     ]
    },
    {
     "name": "stdout",
     "output_type": "stream",
     "text": [
      "\n",
      "Processing #185 - PAGES2kv2_NAm-SFP_NAm_001:trsgi ...\n",
      "PRYSM >>> forward with prysm.vslite ...\n",
      "PRYSM >>> Using R libs from: /home/fzhu/R/x86_64-pc-linux-gnu-library/3.4\n",
      "PRYSM >>> T1=6.955, T2=23.137, M1=0.010, M2=0.103\n",
      "PRYSM >>> Target: (35.3, 248.6); Found: (35.05, 247.50)\n"
     ]
    },
    {
     "name": "stderr",
     "output_type": "stream",
     "text": [
      "\n",
      "100%|██████████| 1/1 [00:00<00:00, 16.66it/s]"
     ]
    },
    {
     "name": "stdout",
     "output_type": "stream",
     "text": [
      "\n",
      "Processing #186 - PAGES2kv2_Asia-UULMND_Asi_016:trsgi ...\n",
      "PRYSM >>> forward with prysm.vslite ...\n",
      "PRYSM >>> Using R libs from: /home/fzhu/R/x86_64-pc-linux-gnu-library/3.4\n",
      "PRYSM >>> T1=8.248, T2=16.174, M1=0.039, M2=0.254\n",
      "PRYSM >>> Target: (50.48, 87.65); Found: (50.21, 87.50)\n"
     ]
    },
    {
     "name": "stderr",
     "output_type": "stream",
     "text": [
      "\n",
      "100%|██████████| 1/1 [00:00<00:00, 16.53it/s]"
     ]
    },
    {
     "name": "stdout",
     "output_type": "stream",
     "text": [
      "\n",
      "Processing #187 - PAGES2kv2_NAm-GB_NAm_071:trsgi ...\n",
      "PRYSM >>> forward with prysm.vslite ...\n",
      "PRYSM >>> Using R libs from: /home/fzhu/R/x86_64-pc-linux-gnu-library/3.4\n",
      "PRYSM >>> T1=7.639, T2=19.957, M1=0.001, M2=0.108\n",
      "PRYSM >>> Target: (37.0, 243.5); Found: (36.95, 242.50)\n"
     ]
    },
    {
     "name": "stderr",
     "output_type": "stream",
     "text": [
      "\n",
      "100%|██████████| 1/1 [00:00<00:00, 16.97it/s]"
     ]
    },
    {
     "name": "stdout",
     "output_type": "stream",
     "text": [
      "\n",
      "Processing #188 - PAGES2kv2_Asia-KUNASH_Asi_110:trsgi ...\n",
      "PRYSM >>> forward with prysm.vslite ...\n",
      "PRYSM >>> Using R libs from: /home/fzhu/R/x86_64-pc-linux-gnu-library/3.4\n",
      "PRYSM >>> T1=8.321, T2=20.377, M1=0.022, M2=0.147\n",
      "PRYSM >>> Target: (43.88, 145.6); Found: (44.53, 145.00)\n"
     ]
    },
    {
     "name": "stderr",
     "output_type": "stream",
     "text": [
      "\n",
      "100%|██████████| 1/1 [00:00<00:00, 16.86it/s]"
     ]
    },
    {
     "name": "stdout",
     "output_type": "stream",
     "text": [
      "\n",
      "Processing #189 - PAGES2kv2_NAm-ca528_NAm_007:trsgi ...\n",
      "PRYSM >>> forward with prysm.vslite ...\n",
      "PRYSM >>> Using R libs from: /home/fzhu/R/x86_64-pc-linux-gnu-library/3.4\n",
      "PRYSM >>> T1=5.203, T2=11.188, M1=0.058, M2=0.442\n",
      "PRYSM >>> Target: (36.5, 241.8); Found: (36.95, 242.50)\n"
     ]
    },
    {
     "name": "stderr",
     "output_type": "stream",
     "text": [
      "\n",
      "100%|██████████| 1/1 [00:00<00:00, 16.98it/s]"
     ]
    },
    {
     "name": "stdout",
     "output_type": "stream",
     "text": [
      "\n",
      "Processing #190 - PAGES2kv2_Arc-DArrigo2006Yuk_Arc_008:trsgi ...\n",
      "PRYSM >>> forward with prysm.vslite ...\n",
      "PRYSM >>> Using R libs from: /home/fzhu/R/x86_64-pc-linux-gnu-library/3.4\n",
      "PRYSM >>> T1=1.838, T2=16.246, M1=0.082, M2=0.396\n",
      "PRYSM >>> Target: (67.9, 219.3); Found: (67.26, 220.00)\n"
     ]
    },
    {
     "name": "stderr",
     "output_type": "stream",
     "text": [
      "\n",
      "100%|██████████| 1/1 [00:00<00:00, 16.97it/s]"
     ]
    },
    {
     "name": "stdout",
     "output_type": "stream",
     "text": [
      "\n",
      "Processing #191 - PAGES2kv2_NAm-cana434_NAm_154:trsgi ...\n",
      "PRYSM >>> forward with prysm.vslite ...\n",
      "PRYSM >>> Using R libs from: /home/fzhu/R/x86_64-pc-linux-gnu-library/3.4\n",
      "PRYSM >>> T1=2.999, T2=19.728, M1=0.034, M2=0.329\n",
      "PRYSM >>> Target: (51.7, 243.5); Found: (52.11, 242.50)\n"
     ]
    },
    {
     "name": "stderr",
     "output_type": "stream",
     "text": [
      "\n",
      "100%|██████████| 1/1 [00:00<00:00, 16.92it/s]"
     ]
    },
    {
     "name": "stdout",
     "output_type": "stream",
     "text": [
      "\n",
      "Processing #192 - PAGES2kv2_Asia-UNDULS_Asi_160:trsgi ...\n",
      "PRYSM >>> forward with prysm.vslite ...\n",
      "PRYSM >>> Using R libs from: /home/fzhu/R/x86_64-pc-linux-gnu-library/3.4\n",
      "PRYSM >>> T1=3.316, T2=17.870, M1=0.087, M2=0.374\n",
      "PRYSM >>> Target: (48.98, 103.22); Found: (48.32, 102.50)\n"
     ]
    },
    {
     "name": "stderr",
     "output_type": "stream",
     "text": [
      "\n",
      "100%|██████████| 1/1 [00:00<00:00, 16.61it/s]"
     ]
    },
    {
     "name": "stdout",
     "output_type": "stream",
     "text": [
      "\n",
      "Processing #193 - PAGES2kv2_NAm-wa083_NAm_193:trsgi ...\n",
      "PRYSM >>> forward with prysm.vslite ...\n",
      "PRYSM >>> Using R libs from: /home/fzhu/R/x86_64-pc-linux-gnu-library/3.4\n",
      "PRYSM >>> T1=7.482, T2=14.718, M1=0.024, M2=0.153\n",
      "PRYSM >>> Target: (48.7, 241.7); Found: (48.32, 242.50)\n"
     ]
    },
    {
     "name": "stderr",
     "output_type": "stream",
     "text": [
      "\n",
      "100%|██████████| 1/1 [00:00<00:00, 17.29it/s]"
     ]
    },
    {
     "name": "stdout",
     "output_type": "stream",
     "text": [
      "\n",
      "Processing #194 - PAGES2kv2_Asia-SJT_Asi_114:trsgi ...\n",
      "PRYSM >>> forward with prysm.vslite ...\n",
      "PRYSM >>> Using R libs from: /home/fzhu/R/x86_64-pc-linux-gnu-library/3.4\n",
      "PRYSM >>> T1=3.134, T2=11.611, M1=0.085, M2=0.323\n",
      "PRYSM >>> Target: (35.73, 138.22); Found: (35.05, 137.50)\n"
     ]
    },
    {
     "name": "stderr",
     "output_type": "stream",
     "text": [
      "\n",
      "100%|██████████| 1/1 [00:00<00:00, 16.96it/s]"
     ]
    },
    {
     "name": "stdout",
     "output_type": "stream",
     "text": [
      "\n",
      "Processing #195 - PAGES2kv2_NAm-wy030_NAm_203:trsgi ...\n",
      "PRYSM >>> forward with prysm.vslite ...\n",
      "PRYSM >>> Using R libs from: /home/fzhu/R/x86_64-pc-linux-gnu-library/3.4\n",
      "PRYSM >>> T1=8.426, T2=20.264, M1=0.070, M2=0.172\n",
      "PRYSM >>> Target: (41.4, 253.8); Found: (40.74, 255.00)\n"
     ]
    },
    {
     "name": "stderr",
     "output_type": "stream",
     "text": [
      "\n",
      "100%|██████████| 1/1 [00:00<00:00, 16.46it/s]"
     ]
    },
    {
     "name": "stdout",
     "output_type": "stream",
     "text": [
      "\n",
      "Processing #196 - PAGES2kv2_NAm-cana359_NAm_146:trsgi ...\n",
      "PRYSM >>> forward with prysm.vslite ...\n",
      "PRYSM >>> Using R libs from: /home/fzhu/R/x86_64-pc-linux-gnu-library/3.4\n",
      "PRYSM >>> T1=6.223, T2=17.916, M1=0.036, M2=0.160\n",
      "PRYSM >>> Target: (59.8, 223.4); Found: (59.68, 222.50)\n"
     ]
    },
    {
     "name": "stderr",
     "output_type": "stream",
     "text": [
      "\n",
      "100%|██████████| 1/1 [00:00<00:00, 16.28it/s]"
     ]
    },
    {
     "name": "stdout",
     "output_type": "stream",
     "text": [
      "\n",
      "Processing #197 - PAGES2kv2_Asia-11YCT_Asi_080:trsgi ...\n",
      "PRYSM >>> forward with prysm.vslite ...\n",
      "PRYSM >>> Using R libs from: /home/fzhu/R/x86_64-pc-linux-gnu-library/3.4\n",
      "PRYSM >>> T1=7.608, T2=13.457, M1=0.047, M2=0.456\n",
      "PRYSM >>> Target: (27.58, 99.28); Found: (27.47, 100.00)\n"
     ]
    },
    {
     "name": "stderr",
     "output_type": "stream",
     "text": [
      "\n",
      "100%|██████████| 1/1 [00:00<00:00, 16.60it/s]"
     ]
    },
    {
     "name": "stdout",
     "output_type": "stream",
     "text": [
      "\n",
      "Processing #198 - PAGES2kv2_Asia-KHELLS_Asi_147:trsgi ...\n",
      "PRYSM >>> forward with prysm.vslite ...\n",
      "PRYSM >>> Using R libs from: /home/fzhu/R/x86_64-pc-linux-gnu-library/3.4\n",
      "PRYSM >>> T1=5.902, T2=13.492, M1=0.065, M2=0.162\n",
      "PRYSM >>> Target: (49.92, 91.57); Found: (50.21, 92.50)\n"
     ]
    },
    {
     "name": "stderr",
     "output_type": "stream",
     "text": [
      "\n",
      "100%|██████████| 1/1 [00:00<00:00, 17.28it/s]"
     ]
    },
    {
     "name": "stdout",
     "output_type": "stream",
     "text": [
      "\n",
      "Processing #199 - PAGES2kv2_Asia-HENTLS_Asi_145:trsgi ...\n",
      "PRYSM >>> forward with prysm.vslite ...\n",
      "PRYSM >>> Using R libs from: /home/fzhu/R/x86_64-pc-linux-gnu-library/3.4\n",
      "PRYSM >>> T1=5.823, T2=13.906, M1=0.048, M2=0.349\n",
      "PRYSM >>> Target: (48.35, 107.47); Found: (48.32, 107.50)\n"
     ]
    },
    {
     "name": "stderr",
     "output_type": "stream",
     "text": [
      "\n",
      "100%|██████████| 1/1 [00:00<00:00, 16.72it/s]"
     ]
    },
    {
     "name": "stdout",
     "output_type": "stream",
     "text": [
      "\n",
      "Processing #200 - PAGES2kv2_Asia-MANDLS_Asi_151:trsgi ...\n",
      "PRYSM >>> forward with prysm.vslite ...\n",
      "PRYSM >>> Using R libs from: /home/fzhu/R/x86_64-pc-linux-gnu-library/3.4\n",
      "PRYSM >>> T1=3.737, T2=12.158, M1=0.056, M2=0.488\n",
      "PRYSM >>> Target: (46.82, 100.12); Found: (46.42, 100.00)\n"
     ]
    },
    {
     "name": "stderr",
     "output_type": "stream",
     "text": [
      "\n",
      "100%|██████████| 1/1 [00:00<00:00, 17.11it/s]"
     ]
    },
    {
     "name": "stdout",
     "output_type": "stream",
     "text": [
      "\n",
      "Processing #201 - PAGES2kv2_Asia-HBLXJP_Asi_058:trsgi ...\n",
      "PRYSM >>> forward with prysm.vslite ...\n",
      "PRYSM >>> Using R libs from: /home/fzhu/R/x86_64-pc-linux-gnu-library/3.4\n",
      "PRYSM >>> T1=3.043, T2=11.668, M1=0.080, M2=0.422\n",
      "PRYSM >>> Target: (34.78, 100.82); Found: (35.05, 100.00)\n"
     ]
    },
    {
     "name": "stderr",
     "output_type": "stream",
     "text": [
      "\n",
      "100%|██████████| 1/1 [00:00<00:00, 17.25it/s]"
     ]
    },
    {
     "name": "stdout",
     "output_type": "stream",
     "text": [
      "\n",
      "Processing #202 - PAGES2kv2_NAm-cana155_NAm_127:trsgi ...\n",
      "PRYSM >>> forward with prysm.vslite ...\n",
      "PRYSM >>> Using R libs from: /home/fzhu/R/x86_64-pc-linux-gnu-library/3.4\n",
      "PRYSM >>> T1=8.426, T2=20.085, M1=0.019, M2=0.291\n",
      "PRYSM >>> Target: (64.0, 256.1); Found: (63.47, 255.00)\n"
     ]
    },
    {
     "name": "stderr",
     "output_type": "stream",
     "text": [
      "\n",
      "100%|██████████| 1/1 [00:00<00:00, 17.39it/s]"
     ]
    },
    {
     "name": "stdout",
     "output_type": "stream",
     "text": [
      "\n",
      "Processing #203 - PAGES2kv2_Arc-Indigurka.Hughes.1999_Arc_016:trsgi ...\n",
      "PRYSM >>> forward with prysm.vslite ...\n",
      "PRYSM >>> Using R libs from: /home/fzhu/R/x86_64-pc-linux-gnu-library/3.4\n",
      "PRYSM >>> T1=6.073, T2=17.265, M1=0.002, M2=0.246\n",
      "PRYSM >>> Target: (69.5, 147.0); Found: (69.16, 147.50)\n"
     ]
    },
    {
     "name": "stderr",
     "output_type": "stream",
     "text": [
      "\n",
      "100%|██████████| 1/1 [00:00<00:00, 16.77it/s]"
     ]
    },
    {
     "name": "stdout",
     "output_type": "stream",
     "text": [
      "\n",
      "Processing #204 - PAGES2kv2_NAm-cana062_NAm_114:trsgi ...\n",
      "PRYSM >>> forward with prysm.vslite ...\n",
      "PRYSM >>> Using R libs from: /home/fzhu/R/x86_64-pc-linux-gnu-library/3.4\n",
      "PRYSM >>> T1=7.262, T2=12.158, M1=0.052, M2=0.367\n",
      "PRYSM >>> Target: (56.2, 292.3); Found: (55.89, 292.50)\n"
     ]
    },
    {
     "name": "stderr",
     "output_type": "stream",
     "text": [
      "\n",
      "100%|██████████| 1/1 [00:00<00:00, 16.82it/s]"
     ]
    },
    {
     "name": "stdout",
     "output_type": "stream",
     "text": [
      "\n",
      "Processing #205 - PAGES2kv2_Asia-QAMDPB_Asi_218:trsgi ...\n",
      "PRYSM >>> forward with prysm.vslite ...\n",
      "PRYSM >>> Using R libs from: /home/fzhu/R/x86_64-pc-linux-gnu-library/3.4\n",
      "PRYSM >>> T1=3.437, T2=17.470, M1=0.031, M2=0.177\n",
      "PRYSM >>> Target: (31.12, 97.03); Found: (31.26, 97.50)\n"
     ]
    },
    {
     "name": "stderr",
     "output_type": "stream",
     "text": [
      "\n",
      "100%|██████████| 1/1 [00:00<00:00, 16.90it/s]"
     ]
    },
    {
     "name": "stdout",
     "output_type": "stream",
     "text": [
      "\n",
      "Processing #206 - PAGES2kv2_Asia-CHOLPB_Asi_217:trsgi ...\n",
      "PRYSM >>> forward with prysm.vslite ...\n",
      "PRYSM >>> Using R libs from: /home/fzhu/R/x86_64-pc-linux-gnu-library/3.4\n",
      "PRYSM >>> T1=5.287, T2=16.429, M1=0.039, M2=0.357\n",
      "PRYSM >>> Target: (31.95, 98.87); Found: (31.26, 100.00)\n"
     ]
    },
    {
     "name": "stderr",
     "output_type": "stream",
     "text": [
      "\n",
      "100%|██████████| 1/1 [00:00<00:00, 16.59it/s]"
     ]
    },
    {
     "name": "stdout",
     "output_type": "stream",
     "text": [
      "\n",
      "Processing #207 - PAGES2kv2_Asia-ZURTLS_Asi_164:trsgi ...\n",
      "PRYSM >>> forward with prysm.vslite ...\n",
      "PRYSM >>> Using R libs from: /home/fzhu/R/x86_64-pc-linux-gnu-library/3.4\n",
      "PRYSM >>> T1=2.552, T2=16.081, M1=0.016, M2=0.409\n",
      "PRYSM >>> Target: (46.52, 100.95); Found: (46.42, 100.00)\n"
     ]
    },
    {
     "name": "stderr",
     "output_type": "stream",
     "text": [
      "\n",
      "100%|██████████| 1/1 [00:00<00:00, 17.31it/s]"
     ]
    },
    {
     "name": "stdout",
     "output_type": "stream",
     "text": [
      "\n",
      "Processing #208 - PAGES2kv2_NAm-ca529_NAm_008:trsgi ...\n",
      "PRYSM >>> forward with prysm.vslite ...\n",
      "PRYSM >>> Using R libs from: /home/fzhu/R/x86_64-pc-linux-gnu-library/3.4\n",
      "PRYSM >>> T1=4.926, T2=16.173, M1=0.005, M2=0.444\n",
      "PRYSM >>> Target: (36.3, 241.6); Found: (36.95, 242.50)\n"
     ]
    },
    {
     "name": "stderr",
     "output_type": "stream",
     "text": [
      "\n",
      "100%|██████████| 1/1 [00:00<00:00, 17.54it/s]"
     ]
    },
    {
     "name": "stdout",
     "output_type": "stream",
     "text": [
      "\n",
      "Processing #209 - PAGES2kv2_Asia-PHUMTD_Asi_027:trsgi ...\n",
      "PRYSM >>> forward with prysm.vslite ...\n",
      "PRYSM >>> Using R libs from: /home/fzhu/R/x86_64-pc-linux-gnu-library/3.4\n",
      "PRYSM >>> T1=5.466, T2=10.828, M1=0.001, M2=0.275\n",
      "PRYSM >>> Target: (27.7, 90.77); Found: (27.47, 90.00)\n"
     ]
    },
    {
     "name": "stderr",
     "output_type": "stream",
     "text": [
      "\n",
      "100%|██████████| 1/1 [00:00<00:00, 17.73it/s]"
     ]
    },
    {
     "name": "stdout",
     "output_type": "stream",
     "text": [
      "\n",
      "Processing #210 - PAGES2kv2_NAm-cana210_NAm_132:trsgi ...\n",
      "PRYSM >>> forward with prysm.vslite ...\n",
      "PRYSM >>> Using R libs from: /home/fzhu/R/x86_64-pc-linux-gnu-library/3.4\n",
      "PRYSM >>> T1=4.674, T2=14.919, M1=0.038, M2=0.241\n",
      "PRYSM >>> Target: (56.9, 298.5); Found: (57.79, 297.50)\n"
     ]
    },
    {
     "name": "stderr",
     "output_type": "stream",
     "text": [
      "\n",
      "100%|██████████| 1/1 [00:00<00:00, 17.50it/s]"
     ]
    },
    {
     "name": "stdout",
     "output_type": "stream",
     "text": [
      "\n",
      "Processing #211 - PAGES2kv2_Asia-DskJUE_Asi_197:trsgi ...\n",
      "PRYSM >>> forward with prysm.vslite ...\n",
      "PRYSM >>> Using R libs from: /home/fzhu/R/x86_64-pc-linux-gnu-library/3.4\n",
      "PRYSM >>> T1=8.378, T2=13.382, M1=0.036, M2=0.319\n",
      "PRYSM >>> Target: (35.45, 74.78); Found: (35.05, 75.00)\n"
     ]
    },
    {
     "name": "stderr",
     "output_type": "stream",
     "text": [
      "\n",
      "100%|██████████| 1/1 [00:00<00:00, 16.43it/s]"
     ]
    },
    {
     "name": "stdout",
     "output_type": "stream",
     "text": [
      "\n",
      "Processing #212 - PAGES2kv2_Asia-OVOOLS_Asi_154:trsgi ...\n",
      "PRYSM >>> forward with prysm.vslite ...\n",
      "PRYSM >>> Using R libs from: /home/fzhu/R/x86_64-pc-linux-gnu-library/3.4\n",
      "PRYSM >>> T1=8.552, T2=15.701, M1=0.029, M2=0.261\n",
      "PRYSM >>> Target: (49.87, 91.43); Found: (50.21, 92.50)\n"
     ]
    },
    {
     "name": "stderr",
     "output_type": "stream",
     "text": [
      "\n",
      "100%|██████████| 1/1 [00:00<00:00, 17.53it/s]"
     ]
    },
    {
     "name": "stdout",
     "output_type": "stream",
     "text": [
      "\n",
      "Processing #213 - PAGES2kv2_Asia-BLKALS_Asi_064:trsgi ...\n",
      "PRYSM >>> forward with prysm.vslite ...\n",
      "PRYSM >>> Using R libs from: /home/fzhu/R/x86_64-pc-linux-gnu-library/3.4\n",
      "PRYSM >>> T1=8.101, T2=22.003, M1=0.030, M2=0.116\n",
      "PRYSM >>> Target: (43.85, 93.3); Found: (44.53, 92.50)\n"
     ]
    },
    {
     "name": "stderr",
     "output_type": "stream",
     "text": [
      "\n",
      "100%|██████████| 1/1 [00:00<00:00, 17.31it/s]"
     ]
    },
    {
     "name": "stdout",
     "output_type": "stream",
     "text": [
      "\n",
      "Processing #214 - PAGES2kv2_Asia-UKHLWW_Asi_020:trsgi ...\n",
      "PRYSM >>> forward with prysm.vslite ...\n",
      "PRYSM >>> Using R libs from: /home/fzhu/R/x86_64-pc-linux-gnu-library/3.4\n",
      "PRYSM >>> T1=6.361, T2=15.268, M1=0.010, M2=0.314\n",
      "PRYSM >>> Target: (50.15, 85.37); Found: (50.21, 85.00)\n"
     ]
    },
    {
     "name": "stderr",
     "output_type": "stream",
     "text": [
      "\n",
      "100%|██████████| 1/1 [00:00<00:00, 17.27it/s]"
     ]
    },
    {
     "name": "stdout",
     "output_type": "stream",
     "text": [
      "\n",
      "Processing #215 - PAGES2kv2_NAm-ak021_NAm_088:trsgi ...\n",
      "PRYSM >>> forward with prysm.vslite ...\n",
      "PRYSM >>> Using R libs from: /home/fzhu/R/x86_64-pc-linux-gnu-library/3.4\n",
      "PRYSM >>> T1=5.102, T2=11.482, M1=0.055, M2=0.421\n",
      "PRYSM >>> Target: (60.0, 218.3); Found: (59.68, 217.50)\n"
     ]
    },
    {
     "name": "stderr",
     "output_type": "stream",
     "text": [
      "\n",
      "100%|██████████| 1/1 [00:00<00:00, 17.13it/s]"
     ]
    },
    {
     "name": "stdout",
     "output_type": "stream",
     "text": [
      "\n",
      "Processing #216 - PAGES2kv2_Asia-Jabe.Ovchinnikov.2000_Asi_003:trsgi ...\n",
      "PRYSM >>> forward with prysm.vslite ...\n",
      "PRYSM >>> Using R libs from: /home/fzhu/R/x86_64-pc-linux-gnu-library/3.4\n",
      "PRYSM >>> T1=8.223, T2=12.489, M1=0.002, M2=0.306\n",
      "PRYSM >>> Target: (50.87, 85.23); Found: (50.21, 85.00)\n"
     ]
    },
    {
     "name": "stderr",
     "output_type": "stream",
     "text": [
      "\n",
      "100%|██████████| 1/1 [00:00<00:00, 16.78it/s]"
     ]
    },
    {
     "name": "stdout",
     "output_type": "stream",
     "text": [
      "\n",
      "Processing #217 - PAGES2kv2_Asia-DLH2_Asi_085:trsgi ...\n",
      "PRYSM >>> forward with prysm.vslite ...\n",
      "PRYSM >>> Using R libs from: /home/fzhu/R/x86_64-pc-linux-gnu-library/3.4\n",
      "PRYSM >>> T1=7.709, T2=11.443, M1=0.024, M2=0.311\n",
      "PRYSM >>> Target: (37.47, 97.22); Found: (36.95, 97.50)\n"
     ]
    },
    {
     "name": "stderr",
     "output_type": "stream",
     "text": [
      "\n",
      "100%|██████████| 1/1 [00:00<00:00, 17.19it/s]"
     ]
    },
    {
     "name": "stdout",
     "output_type": "stream",
     "text": [
      "\n",
      "Processing #218 - PAGES2kv2_Asia-BDFLON_Asi_229:trsgi ...\n",
      "PRYSM >>> forward with prysm.vslite ...\n",
      "PRYSM >>> Using R libs from: /home/fzhu/R/x86_64-pc-linux-gnu-library/3.4\n",
      "PRYSM >>> T1=6.577, T2=18.847, M1=0.040, M2=0.488\n",
      "PRYSM >>> Target: (12.22, 108.73); Found: (12.32, 107.50)\n"
     ]
    },
    {
     "name": "stderr",
     "output_type": "stream",
     "text": [
      "\n",
      "100%|██████████| 1/1 [00:00<00:00, 17.20it/s]"
     ]
    },
    {
     "name": "stdout",
     "output_type": "stream",
     "text": [
      "\n",
      "Processing #219 - PAGES2kv2_Asia-KERALA_Asi_106:trsgi ...\n",
      "PRYSM >>> forward with prysm.vslite ...\n",
      "PRYSM >>> Using R libs from: /home/fzhu/R/x86_64-pc-linux-gnu-library/3.4\n",
      "PRYSM >>> T1=6.513, T2=18.957, M1=0.011, M2=0.221\n",
      "PRYSM >>> Target: (10.0, 76.67); Found: (10.42, 77.50)\n"
     ]
    },
    {
     "name": "stderr",
     "output_type": "stream",
     "text": [
      "\n",
      "100%|██████████| 1/1 [00:00<00:00, 16.80it/s]"
     ]
    },
    {
     "name": "stdout",
     "output_type": "stream",
     "text": [
      "\n",
      "Processing #220 - PAGES2kv2_NAm-cana358_NAm_145:trsgi ...\n",
      "PRYSM >>> forward with prysm.vslite ...\n",
      "PRYSM >>> Using R libs from: /home/fzhu/R/x86_64-pc-linux-gnu-library/3.4\n",
      "PRYSM >>> T1=3.043, T2=11.668, M1=0.080, M2=0.422\n",
      "PRYSM >>> Target: (59.9, 223.2); Found: (59.68, 222.50)\n"
     ]
    },
    {
     "name": "stderr",
     "output_type": "stream",
     "text": [
      "\n",
      "100%|██████████| 1/1 [00:00<00:00, 16.06it/s]"
     ]
    },
    {
     "name": "stdout",
     "output_type": "stream",
     "text": [
      "\n",
      "Processing #221 - PAGES2kv2_Asia-MTASSP_Asi_108:trsgi ...\n",
      "PRYSM >>> forward with prysm.vslite ...\n",
      "PRYSM >>> Using R libs from: /home/fzhu/R/x86_64-pc-linux-gnu-library/3.4\n",
      "PRYSM >>> T1=2.814, T2=15.139, M1=0.020, M2=0.353\n",
      "PRYSM >>> Target: (43.77, 142.55); Found: (44.53, 142.50)\n"
     ]
    },
    {
     "name": "stderr",
     "output_type": "stream",
     "text": [
      "\n",
      "100%|██████████| 1/1 [00:00<00:00, 16.94it/s]"
     ]
    },
    {
     "name": "stdout",
     "output_type": "stream",
     "text": [
      "\n",
      "Processing #222 - PAGES2kv2_Asia-Kur2.Magda.2011_Asi_004:trsgi ...\n",
      "PRYSM >>> forward with prysm.vslite ...\n",
      "PRYSM >>> Using R libs from: /home/fzhu/R/x86_64-pc-linux-gnu-library/3.4\n",
      "PRYSM >>> T1=5.863, T2=13.722, M1=0.006, M2=0.312\n",
      "PRYSM >>> Target: (50.3, 87.83); Found: (50.21, 87.50)\n"
     ]
    },
    {
     "name": "stderr",
     "output_type": "stream",
     "text": [
      "\n",
      "100%|██████████| 1/1 [00:00<00:00, 16.94it/s]"
     ]
    },
    {
     "name": "stdout",
     "output_type": "stream",
     "text": [
      "\n",
      "Processing #223 - PAGES2kv2_Asia-SUMELS_Asi_158:trsgi ...\n",
      "PRYSM >>> forward with prysm.vslite ...\n",
      "PRYSM >>> Using R libs from: /home/fzhu/R/x86_64-pc-linux-gnu-library/3.4\n",
      "PRYSM >>> T1=3.998, T2=11.188, M1=0.058, M2=0.442\n",
      "PRYSM >>> Target: (47.43, 100.42); Found: (48.32, 100.00)\n"
     ]
    },
    {
     "name": "stderr",
     "output_type": "stream",
     "text": [
      "\n",
      "100%|██████████| 1/1 [00:00<00:00, 16.48it/s]"
     ]
    },
    {
     "name": "stdout",
     "output_type": "stream",
     "text": [
      "\n",
      "Processing #224 - PAGES2kv2_Eur-CentralEu.Buntgen.2011_Eur_006:trsgi ...\n",
      "PRYSM >>> forward with prysm.vslite ...\n",
      "PRYSM >>> Using R libs from: /home/fzhu/R/x86_64-pc-linux-gnu-library/3.4\n",
      "PRYSM >>> T1=4.307, T2=19.041, M1=0.027, M2=0.111\n",
      "PRYSM >>> Target: (47.0, 10.7); Found: (46.42, 10.00)\n"
     ]
    },
    {
     "name": "stderr",
     "output_type": "stream",
     "text": [
      "\n",
      "100%|██████████| 1/1 [00:00<00:00, 17.14it/s]"
     ]
    },
    {
     "name": "stdout",
     "output_type": "stream",
     "text": [
      "\n",
      "Processing #225 - PAGES2kv2_Asia-SAT1JU_Asi_210:trsgi ...\n",
      "PRYSM >>> forward with prysm.vslite ...\n",
      "PRYSM >>> Using R libs from: /home/fzhu/R/x86_64-pc-linux-gnu-library/3.4\n",
      "PRYSM >>> T1=3.974, T2=13.707, M1=0.089, M2=0.215\n",
      "PRYSM >>> Target: (35.17, 75.5); Found: (35.05, 75.00)\n"
     ]
    },
    {
     "name": "stderr",
     "output_type": "stream",
     "text": [
      "\n",
      "100%|██████████| 1/1 [00:00<00:00, 17.00it/s]"
     ]
    },
    {
     "name": "stdout",
     "output_type": "stream",
     "text": [
      "\n",
      "Processing #226 - PAGES2kv2_Asia-Ugla.Panyushkina.2005_Asi_009:trsgi ...\n",
      "PRYSM >>> forward with prysm.vslite ...\n",
      "PRYSM >>> Using R libs from: /home/fzhu/R/x86_64-pc-linux-gnu-library/3.4\n",
      "PRYSM >>> T1=5.763, T2=13.645, M1=0.025, M2=0.293\n",
      "PRYSM >>> Target: (50.48, 87.67); Found: (50.21, 87.50)\n"
     ]
    },
    {
     "name": "stderr",
     "output_type": "stream",
     "text": [
      "\n",
      "100%|██████████| 1/1 [00:00<00:00, 17.11it/s]"
     ]
    },
    {
     "name": "stdout",
     "output_type": "stream",
     "text": [
      "\n",
      "Processing #227 - PAGES2kv2_Asia-RACHAS_Asi_177:trsgi ...\n",
      "PRYSM >>> forward with prysm.vslite ...\n",
      "PRYSM >>> Using R libs from: /home/fzhu/R/x86_64-pc-linux-gnu-library/3.4\n",
      "PRYSM >>> T1=5.817, T2=11.938, M1=0.024, M2=0.208\n",
      "PRYSM >>> Target: (27.73, 87.2); Found: (27.47, 87.50)\n"
     ]
    },
    {
     "name": "stderr",
     "output_type": "stream",
     "text": [
      "\n",
      "100%|██████████| 1/1 [00:00<00:00, 16.17it/s]"
     ]
    },
    {
     "name": "stdout",
     "output_type": "stream",
     "text": [
      "\n",
      "Processing #228 - PAGES2kv2_Asia-LANGTD_Asi_174:trsgi ...\n",
      "PRYSM >>> forward with prysm.vslite ...\n",
      "PRYSM >>> Using R libs from: /home/fzhu/R/x86_64-pc-linux-gnu-library/3.4\n",
      "PRYSM >>> T1=8.261, T2=15.043, M1=0.085, M2=0.214\n",
      "PRYSM >>> Target: (28.18, 85.43); Found: (27.47, 85.00)\n"
     ]
    },
    {
     "name": "stderr",
     "output_type": "stream",
     "text": [
      "\n",
      "100%|██████████| 1/1 [00:00<00:00, 17.14it/s]"
     ]
    },
    {
     "name": "stdout",
     "output_type": "stream",
     "text": [
      "\n",
      "Processing #229 - PAGES2kv2_Asia-GAYTTD_Asi_025:trsgi ...\n",
      "PRYSM >>> forward with prysm.vslite ...\n",
      "PRYSM >>> Using R libs from: /home/fzhu/R/x86_64-pc-linux-gnu-library/3.4\n",
      "PRYSM >>> T1=8.378, T2=13.382, M1=0.036, M2=0.319\n",
      "PRYSM >>> Target: (27.58, 90.65); Found: (27.47, 90.00)\n"
     ]
    },
    {
     "name": "stderr",
     "output_type": "stream",
     "text": [
      "\n",
      "100%|██████████| 1/1 [00:00<00:00, 17.07it/s]"
     ]
    },
    {
     "name": "stdout",
     "output_type": "stream",
     "text": [
      "\n",
      "Processing #230 - PAGES2kv2_Asia-BARELC_Asi_061:trsgi ...\n",
      "PRYSM >>> forward with prysm.vslite ...\n",
      "PRYSM >>> Using R libs from: /home/fzhu/R/x86_64-pc-linux-gnu-library/3.4\n",
      "PRYSM >>> T1=2.184, T2=14.762, M1=0.050, M2=0.315\n",
      "PRYSM >>> Target: (33.75, 107.8); Found: (33.16, 107.50)\n"
     ]
    },
    {
     "name": "stderr",
     "output_type": "stream",
     "text": [
      "\n",
      "100%|██████████| 1/1 [00:00<00:00, 16.48it/s]"
     ]
    },
    {
     "name": "stdout",
     "output_type": "stream",
     "text": [
      "\n",
      "Processing #231 - PAGES2kv2_Asia-BUKPIG_Asi_191:trsgi ...\n",
      "PRYSM >>> forward with prysm.vslite ...\n",
      "PRYSM >>> Using R libs from: /home/fzhu/R/x86_64-pc-linux-gnu-library/3.4\n",
      "PRYSM >>> T1=2.552, T2=15.989, M1=0.089, M2=0.369\n",
      "PRYSM >>> Target: (35.68, 71.63); Found: (35.05, 72.50)\n"
     ]
    },
    {
     "name": "stderr",
     "output_type": "stream",
     "text": [
      "\n",
      "100%|██████████| 1/1 [00:00<00:00, 16.75it/s]"
     ]
    },
    {
     "name": "stdout",
     "output_type": "stream",
     "text": [
      "\n",
      "Processing #232 - PAGES2kv2_Asia-ANKHLS_Asi_139:trsgi ...\n",
      "PRYSM >>> forward with prysm.vslite ...\n",
      "PRYSM >>> Using R libs from: /home/fzhu/R/x86_64-pc-linux-gnu-library/3.4\n",
      "PRYSM >>> T1=4.007, T2=11.668, M1=0.025, M2=0.422\n",
      "PRYSM >>> Target: (48.6, 88.37); Found: (48.32, 87.50)\n"
     ]
    },
    {
     "name": "stderr",
     "output_type": "stream",
     "text": [
      "\n",
      "100%|██████████| 1/1 [00:00<00:00, 16.66it/s]"
     ]
    },
    {
     "name": "stdout",
     "output_type": "stream",
     "text": [
      "\n",
      "Processing #233 - PAGES2kv2_NAm-cana435_NAm_155:trsgi ...\n",
      "PRYSM >>> forward with prysm.vslite ...\n",
      "PRYSM >>> Using R libs from: /home/fzhu/R/x86_64-pc-linux-gnu-library/3.4\n",
      "PRYSM >>> T1=2.555, T2=20.218, M1=0.058, M2=0.204\n",
      "PRYSM >>> Target: (52.9, 242.7); Found: (52.11, 242.50)\n"
     ]
    },
    {
     "name": "stderr",
     "output_type": "stream",
     "text": [
      "\n",
      "100%|██████████| 1/1 [00:00<00:00, 16.38it/s]"
     ]
    },
    {
     "name": "stdout",
     "output_type": "stream",
     "text": [
      "\n",
      "Processing #234 - PAGES2kv2_Asia-ZHANGX_Asi_069:trsgi ...\n",
      "PRYSM >>> forward with prysm.vslite ...\n",
      "PRYSM >>> Using R libs from: /home/fzhu/R/x86_64-pc-linux-gnu-library/3.4\n",
      "PRYSM >>> T1=2.814, T2=10.828, M1=0.083, M2=0.425\n",
      "PRYSM >>> Target: (34.63, 104.47); Found: (35.05, 105.00)\n"
     ]
    },
    {
     "name": "stderr",
     "output_type": "stream",
     "text": [
      "\n",
      "100%|██████████| 1/1 [00:00<00:00, 16.84it/s]"
     ]
    },
    {
     "name": "stdout",
     "output_type": "stream",
     "text": [
      "\n",
      "Processing #235 - PAGES2kv2_Asia-BAG1JU_Asi_186:trsgi ...\n",
      "PRYSM >>> forward with prysm.vslite ...\n",
      "PRYSM >>> Using R libs from: /home/fzhu/R/x86_64-pc-linux-gnu-library/3.4\n",
      "PRYSM >>> T1=6.557, T2=19.638, M1=0.085, M2=0.190\n",
      "PRYSM >>> Target: (36.03, 74.58); Found: (36.95, 75.00)\n"
     ]
    },
    {
     "name": "stderr",
     "output_type": "stream",
     "text": [
      "\n",
      "100%|██████████| 1/1 [00:00<00:00, 16.90it/s]"
     ]
    },
    {
     "name": "stdout",
     "output_type": "stream",
     "text": [
      "\n",
      "Processing #236 - PAGES2kv2_NAm-cana432_NAm_153:trsgi ...\n",
      "PRYSM >>> forward with prysm.vslite ...\n",
      "PRYSM >>> Using R libs from: /home/fzhu/R/x86_64-pc-linux-gnu-library/3.4\n",
      "PRYSM >>> T1=5.466, T2=10.828, M1=0.001, M2=0.275\n",
      "PRYSM >>> Target: (52.7, 241.7); Found: (52.11, 242.50)\n"
     ]
    },
    {
     "name": "stderr",
     "output_type": "stream",
     "text": [
      "\n",
      "100%|██████████| 1/1 [00:00<00:00, 16.93it/s]"
     ]
    },
    {
     "name": "stdout",
     "output_type": "stream",
     "text": [
      "\n",
      "Processing #237 - PAGES2kv2_NAm-nv513_NAm_050:trsgi ...\n",
      "PRYSM >>> forward with prysm.vslite ...\n",
      "PRYSM >>> Using R libs from: /home/fzhu/R/x86_64-pc-linux-gnu-library/3.4\n",
      "PRYSM >>> T1=6.801, T2=19.932, M1=0.003, M2=0.137\n",
      "PRYSM >>> Target: (38.5, 245.8); Found: (38.84, 245.00)\n"
     ]
    },
    {
     "name": "stderr",
     "output_type": "stream",
     "text": [
      "\n",
      "100%|██████████| 1/1 [00:00<00:00, 17.03it/s]"
     ]
    },
    {
     "name": "stdout",
     "output_type": "stream",
     "text": [
      "\n",
      "Processing #238 - PAGES2kv2_Asia-TDBXJP_Asi_057:trsgi ...\n",
      "PRYSM >>> forward with prysm.vslite ...\n",
      "PRYSM >>> Using R libs from: /home/fzhu/R/x86_64-pc-linux-gnu-library/3.4\n",
      "PRYSM >>> T1=2.787, T2=11.543, M1=0.083, M2=0.425\n",
      "PRYSM >>> Target: (34.78, 100.82); Found: (35.05, 100.00)\n"
     ]
    },
    {
     "name": "stderr",
     "output_type": "stream",
     "text": [
      "\n",
      "100%|██████████| 1/1 [00:00<00:00, 16.19it/s]"
     ]
    },
    {
     "name": "stdout",
     "output_type": "stream",
     "text": [
      "\n",
      "Processing #239 - PAGES2kv2_NAm-tab_NAm_186:trsgi ...\n",
      "PRYSM >>> forward with prysm.vslite ...\n",
      "PRYSM >>> Using R libs from: /home/fzhu/R/x86_64-pc-linux-gnu-library/3.4\n",
      "PRYSM >>> T1=1.944, T2=15.714, M1=0.020, M2=0.287\n",
      "PRYSM >>> Target: (49.3, 245.6); Found: (50.21, 245.00)\n"
     ]
    },
    {
     "name": "stderr",
     "output_type": "stream",
     "text": [
      "\n",
      "100%|██████████| 1/1 [00:00<00:00, 16.97it/s]"
     ]
    },
    {
     "name": "stdout",
     "output_type": "stream",
     "text": [
      "\n",
      "Processing #240 - PAGES2kv2_Asia-GEYZSP_Asi_032:trsgi ...\n",
      "PRYSM >>> forward with prysm.vslite ...\n",
      "PRYSM >>> Using R libs from: /home/fzhu/R/x86_64-pc-linux-gnu-library/3.4\n",
      "PRYSM >>> T1=5.888, T2=21.185, M1=0.067, M2=0.391\n",
      "PRYSM >>> Target: (27.42, 90.97); Found: (27.47, 90.00)\n"
     ]
    },
    {
     "name": "stderr",
     "output_type": "stream",
     "text": [
      "\n",
      "100%|██████████| 1/1 [00:00<00:00, 17.48it/s]"
     ]
    },
    {
     "name": "stdout",
     "output_type": "stream",
     "text": [
      "\n",
      "Processing #241 - PAGES2kv2_Asia-TSHETD_Asi_037:trsgi ...\n",
      "PRYSM >>> forward with prysm.vslite ...\n",
      "PRYSM >>> Using R libs from: /home/fzhu/R/x86_64-pc-linux-gnu-library/3.4\n",
      "PRYSM >>> T1=5.083, T2=20.081, M1=0.077, M2=0.162\n",
      "PRYSM >>> Target: (27.45, 90.15); Found: (27.47, 90.00)\n"
     ]
    },
    {
     "name": "stderr",
     "output_type": "stream",
     "text": [
      "\n",
      "100%|██████████| 1/1 [00:00<00:00, 17.13it/s]"
     ]
    },
    {
     "name": "stdout",
     "output_type": "stream",
     "text": [
      "\n",
      "Processing #242 - PAGES2kv2_Asia-PTCYUN_Asi_072:trsgi ...\n",
      "PRYSM >>> forward with prysm.vslite ...\n",
      "PRYSM >>> Using R libs from: /home/fzhu/R/x86_64-pc-linux-gnu-library/3.4\n",
      "PRYSM >>> T1=5.678, T2=16.107, M1=0.083, M2=0.435\n",
      "PRYSM >>> Target: (27.37, 99.37); Found: (27.47, 100.00)\n"
     ]
    },
    {
     "name": "stderr",
     "output_type": "stream",
     "text": [
      "\n",
      "100%|██████████| 1/1 [00:00<00:00, 17.62it/s]"
     ]
    },
    {
     "name": "stdout",
     "output_type": "stream",
     "text": [
      "\n",
      "Processing #243 - PAGES2kv2_NAm-mt126_NAm_183:trsgi ...\n",
      "PRYSM >>> forward with prysm.vslite ...\n",
      "PRYSM >>> Using R libs from: /home/fzhu/R/x86_64-pc-linux-gnu-library/3.4\n",
      "PRYSM >>> T1=7.188, T2=13.246, M1=0.042, M2=0.244\n",
      "PRYSM >>> Target: (49.0, 246.0); Found: (48.32, 245.00)\n"
     ]
    },
    {
     "name": "stderr",
     "output_type": "stream",
     "text": [
      "\n",
      "100%|██████████| 1/1 [00:00<00:00, 17.55it/s]"
     ]
    },
    {
     "name": "stdout",
     "output_type": "stream",
     "text": [
      "\n",
      "Processing #244 - PAGES2kv2_Asia-MUNATG_Asi_101:trsgi ...\n",
      "PRYSM >>> forward with prysm.vslite ...\n",
      "PRYSM >>> Using R libs from: /home/fzhu/R/x86_64-pc-linux-gnu-library/3.4\n",
      "PRYSM >>> T1=4.631, T2=14.090, M1=0.088, M2=0.278\n",
      "PRYSM >>> Target: (-5.5, 122.8); Found: (-4.74, 122.50)\n"
     ]
    },
    {
     "name": "stderr",
     "output_type": "stream",
     "text": [
      "\n",
      "100%|██████████| 1/1 [00:00<00:00, 17.15it/s]"
     ]
    },
    {
     "name": "stdout",
     "output_type": "stream",
     "text": [
      "\n",
      "Processing #245 - PAGES2kv2_NAm-wa056_NAm_059:trsgi ...\n",
      "PRYSM >>> forward with prysm.vslite ...\n",
      "PRYSM >>> Using R libs from: /home/fzhu/R/x86_64-pc-linux-gnu-library/3.4\n",
      "PRYSM >>> T1=5.208, T2=12.085, M1=0.014, M2=0.231\n",
      "PRYSM >>> Target: (47.3, 238.7); Found: (46.42, 237.50)\n"
     ]
    },
    {
     "name": "stderr",
     "output_type": "stream",
     "text": [
      "\n",
      "100%|██████████| 1/1 [00:00<00:00, 16.69it/s]"
     ]
    },
    {
     "name": "stdout",
     "output_type": "stream",
     "text": [
      "\n",
      "Processing #246 - PAGES2kv2_NAm-cana351_NAm_029:trsgi ...\n",
      "PRYSM >>> forward with prysm.vslite ...\n",
      "PRYSM >>> Using R libs from: /home/fzhu/R/x86_64-pc-linux-gnu-library/3.4\n",
      "PRYSM >>> T1=7.067, T2=10.881, M1=0.032, M2=0.188\n",
      "PRYSM >>> Target: (52.7, 241.7); Found: (52.11, 242.50)\n"
     ]
    },
    {
     "name": "stderr",
     "output_type": "stream",
     "text": [
      "\n",
      "100%|██████████| 1/1 [00:00<00:00, 16.27it/s]"
     ]
    },
    {
     "name": "stdout",
     "output_type": "stream",
     "text": [
      "\n",
      "Processing #247 - PAGES2kv2_Aus-Takapari.Xiong.2000_Aus_031:trsgi ...\n",
      "PRYSM >>> forward with prysm.vslite ...\n",
      "PRYSM >>> Using R libs from: /home/fzhu/R/x86_64-pc-linux-gnu-library/3.4\n",
      "PRYSM >>> T1=5.803, T2=17.830, M1=0.007, M2=0.428\n",
      "PRYSM >>> Target: (-40.07, 175.98); Found: (-40.74, 175.00)\n"
     ]
    },
    {
     "name": "stderr",
     "output_type": "stream",
     "text": [
      "\n",
      "100%|██████████| 1/1 [00:00<00:00, 17.47it/s]"
     ]
    },
    {
     "name": "stdout",
     "output_type": "stream",
     "text": [
      "\n",
      "Processing #248 - PAGES2kv2_Aus-CTPWestTasma.Allen.2001_Aus_009:trsgi ...\n",
      "PRYSM >>> forward with prysm.vslite ...\n",
      "PRYSM >>> Using R libs from: /home/fzhu/R/x86_64-pc-linux-gnu-library/3.4\n",
      "PRYSM >>> T1=3.066, T2=11.550, M1=0.079, M2=0.477\n",
      "PRYSM >>> Target: (-41.67, 145.65); Found: (-40.74, 145.00)\n"
     ]
    },
    {
     "name": "stderr",
     "output_type": "stream",
     "text": [
      "\n",
      "100%|██████████| 1/1 [00:00<00:00, 16.11it/s]"
     ]
    },
    {
     "name": "stdout",
     "output_type": "stream",
     "text": [
      "\n",
      "Processing #249 - PAGES2kv2_Asia-DEZQIN_Asi_043:trsgi ...\n",
      "PRYSM >>> forward with prysm.vslite ...\n",
      "PRYSM >>> Using R libs from: /home/fzhu/R/x86_64-pc-linux-gnu-library/3.4\n",
      "PRYSM >>> T1=3.043, T2=11.668, M1=0.080, M2=0.422\n",
      "PRYSM >>> Target: (34.75, 100.82); Found: (35.05, 100.00)\n"
     ]
    },
    {
     "name": "stderr",
     "output_type": "stream",
     "text": [
      "\n",
      "100%|██████████| 1/1 [00:00<00:00, 17.30it/s]"
     ]
    },
    {
     "name": "stdout",
     "output_type": "stream",
     "text": [
      "\n",
      "Processing #250 - PAGES2kv2_Asia-ONB_Asi_113:trsgi ...\n",
      "PRYSM >>> forward with prysm.vslite ...\n",
      "PRYSM >>> Using R libs from: /home/fzhu/R/x86_64-pc-linux-gnu-library/3.4\n",
      "PRYSM >>> T1=8.552, T2=15.701, M1=0.029, M2=0.261\n",
      "PRYSM >>> Target: (43.22, 145.47); Found: (42.63, 145.00)\n"
     ]
    },
    {
     "name": "stderr",
     "output_type": "stream",
     "text": [
      "\n",
      "100%|██████████| 1/1 [00:00<00:00, 17.13it/s]"
     ]
    },
    {
     "name": "stdout",
     "output_type": "stream",
     "text": [
      "\n",
      "Processing #251 - PAGES2kv2_NAm-ak102_NAm_098:trsgi ...\n",
      "PRYSM >>> forward with prysm.vslite ...\n",
      "PRYSM >>> Using R libs from: /home/fzhu/R/x86_64-pc-linux-gnu-library/3.4\n",
      "PRYSM >>> T1=8.223, T2=12.489, M1=0.002, M2=0.306\n",
      "PRYSM >>> Target: (58.4, 225.4); Found: (57.79, 225.00)\n"
     ]
    },
    {
     "name": "stderr",
     "output_type": "stream",
     "text": [
      "\n",
      "100%|██████████| 1/1 [00:00<00:00, 17.69it/s]"
     ]
    },
    {
     "name": "stdout",
     "output_type": "stream",
     "text": [
      "\n",
      "Processing #252 - PAGES2kv2_NAm-cana096_NAm_120:trsgi ...\n",
      "PRYSM >>> forward with prysm.vslite ...\n",
      "PRYSM >>> Using R libs from: /home/fzhu/R/x86_64-pc-linux-gnu-library/3.4\n",
      "PRYSM >>> T1=1.838, T2=15.295, M1=0.033, M2=0.287\n",
      "PRYSM >>> Target: (52.3, 243.0); Found: (52.11, 242.50)\n"
     ]
    },
    {
     "name": "stderr",
     "output_type": "stream",
     "text": [
      "\n",
      "100%|██████████| 1/1 [00:00<00:00, 17.26it/s]"
     ]
    },
    {
     "name": "stdout",
     "output_type": "stream",
     "text": [
      "\n",
      "Processing #253 - PAGES2kv2_Asia-KHOTLS_Asi_149:trsgi ...\n",
      "PRYSM >>> forward with prysm.vslite ...\n",
      "PRYSM >>> Using R libs from: /home/fzhu/R/x86_64-pc-linux-gnu-library/3.4\n",
      "PRYSM >>> T1=6.981, T2=13.470, M1=0.003, M2=0.314\n",
      "PRYSM >>> Target: (48.5, 88.5); Found: (48.32, 87.50)\n"
     ]
    },
    {
     "name": "stderr",
     "output_type": "stream",
     "text": [
      "\n",
      "100%|██████████| 1/1 [00:00<00:00, 17.28it/s]"
     ]
    },
    {
     "name": "stdout",
     "output_type": "stream",
     "text": [
      "\n",
      "Processing #254 - PAGES2kv2_Asia-MOR3JU_Asi_204:trsgi ...\n",
      "PRYSM >>> forward with prysm.vslite ...\n",
      "PRYSM >>> Using R libs from: /home/fzhu/R/x86_64-pc-linux-gnu-library/3.4\n",
      "PRYSM >>> T1=4.300, T2=13.928, M1=0.095, M2=0.114\n",
      "PRYSM >>> Target: (36.58, 75.08); Found: (36.95, 75.00)\n"
     ]
    },
    {
     "name": "stderr",
     "output_type": "stream",
     "text": [
      "\n",
      "100%|██████████| 1/1 [00:00<00:00, 16.33it/s]"
     ]
    },
    {
     "name": "stdout",
     "output_type": "stream",
     "text": [
      "\n",
      "Processing #255 - PAGES2kv2_Asia-MJTQJT_Asi_128:trsgi ...\n",
      "PRYSM >>> forward with prysm.vslite ...\n",
      "PRYSM >>> Using R libs from: /home/fzhu/R/x86_64-pc-linux-gnu-library/3.4\n",
      "PRYSM >>> T1=8.248, T2=15.355, M1=0.031, M2=0.157\n",
      "PRYSM >>> Target: (40.17, 72.62); Found: (40.74, 72.50)\n"
     ]
    },
    {
     "name": "stderr",
     "output_type": "stream",
     "text": [
      "\n",
      "100%|██████████| 1/1 [00:00<00:00, 17.01it/s]"
     ]
    },
    {
     "name": "stdout",
     "output_type": "stream",
     "text": [
      "\n",
      "Processing #256 - PAGES2kv2_Asia-TKACDD_Asi_213:trsgi ...\n",
      "PRYSM >>> forward with prysm.vslite ...\n",
      "PRYSM >>> Using R libs from: /home/fzhu/R/x86_64-pc-linux-gnu-library/3.4\n",
      "PRYSM >>> T1=7.342, T2=14.183, M1=0.012, M2=0.285\n",
      "PRYSM >>> Target: (35.0, 70.78); Found: (35.05, 70.00)\n"
     ]
    },
    {
     "name": "stderr",
     "output_type": "stream",
     "text": [
      "\n",
      "100%|██████████| 1/1 [00:00<00:00, 16.55it/s]"
     ]
    },
    {
     "name": "stdout",
     "output_type": "stream",
     "text": [
      "\n",
      "Processing #257 - PAGES2kv2_NAm-ak060_NAm_092:trsgi ...\n",
      "PRYSM >>> forward with prysm.vslite ...\n",
      "PRYSM >>> Using R libs from: /home/fzhu/R/x86_64-pc-linux-gnu-library/3.4\n",
      "PRYSM >>> T1=3.841, T2=22.191, M1=0.083, M2=0.110\n",
      "PRYSM >>> Target: (65.2, 197.7); Found: (65.37, 197.50)\n"
     ]
    },
    {
     "name": "stderr",
     "output_type": "stream",
     "text": [
      "\n",
      "100%|██████████| 1/1 [00:00<00:00, 16.05it/s]"
     ]
    },
    {
     "name": "stdout",
     "output_type": "stream",
     "text": [
      "\n",
      "Processing #258 - PAGES2kv2_Asia-DLH5_Asi_088:trsgi ...\n",
      "PRYSM >>> forward with prysm.vslite ...\n",
      "PRYSM >>> Using R libs from: /home/fzhu/R/x86_64-pc-linux-gnu-library/3.4\n",
      "PRYSM >>> T1=7.571, T2=14.193, M1=0.055, M2=0.406\n",
      "PRYSM >>> Target: (37.45, 97.78); Found: (36.95, 97.50)\n"
     ]
    },
    {
     "name": "stderr",
     "output_type": "stream",
     "text": [
      "\n",
      "100%|██████████| 1/1 [00:00<00:00, 16.45it/s]"
     ]
    },
    {
     "name": "stdout",
     "output_type": "stream",
     "text": [
      "\n",
      "Processing #259 - PAGES2kv2_Asia-ZACCDD_Asi_214:trsgi ...\n",
      "PRYSM >>> forward with prysm.vslite ...\n",
      "PRYSM >>> Using R libs from: /home/fzhu/R/x86_64-pc-linux-gnu-library/3.4\n",
      "PRYSM >>> T1=2.302, T2=12.823, M1=0.071, M2=0.340\n",
      "PRYSM >>> Target: (35.35, 71.8); Found: (35.05, 72.50)\n"
     ]
    },
    {
     "name": "stderr",
     "output_type": "stream",
     "text": [
      "\n",
      "100%|██████████| 1/1 [00:00<00:00, 16.33it/s]"
     ]
    },
    {
     "name": "stdout",
     "output_type": "stream",
     "text": [
      "\n",
      "Processing #260 - PAGES2kv2_Asia-SAT2JU_Asi_211:trsgi ...\n",
      "PRYSM >>> forward with prysm.vslite ...\n",
      "PRYSM >>> Using R libs from: /home/fzhu/R/x86_64-pc-linux-gnu-library/3.4\n",
      "PRYSM >>> T1=4.121, T2=19.291, M1=0.086, M2=0.290\n",
      "PRYSM >>> Target: (35.17, 75.5); Found: (35.05, 75.00)\n"
     ]
    },
    {
     "name": "stderr",
     "output_type": "stream",
     "text": [
      "\n",
      "100%|██████████| 1/1 [00:00<00:00, 16.16it/s]"
     ]
    },
    {
     "name": "stdout",
     "output_type": "stream",
     "text": [
      "\n",
      "Processing #261 - PAGES2kv2_Asia-DUSHJP_Asi_050:trsgi ...\n",
      "PRYSM >>> forward with prysm.vslite ...\n",
      "PRYSM >>> Using R libs from: /home/fzhu/R/x86_64-pc-linux-gnu-library/3.4\n",
      "PRYSM >>> T1=8.069, T2=12.938, M1=0.078, M2=0.358\n",
      "PRYSM >>> Target: (36.65, 98.08); Found: (36.95, 97.50)\n"
     ]
    },
    {
     "name": "stderr",
     "output_type": "stream",
     "text": [
      "\n",
      "100%|██████████| 1/1 [00:00<00:00, 16.78it/s]"
     ]
    },
    {
     "name": "stdout",
     "output_type": "stream",
     "text": [
      "\n",
      "Processing #262 - PAGES2kv2_Asia-LUKUTD_Asi_175:trsgi ...\n",
      "PRYSM >>> forward with prysm.vslite ...\n",
      "PRYSM >>> Using R libs from: /home/fzhu/R/x86_64-pc-linux-gnu-library/3.4\n",
      "PRYSM >>> T1=5.466, T2=10.828, M1=0.001, M2=0.275\n",
      "PRYSM >>> Target: (27.78, 87.27); Found: (27.47, 87.50)\n"
     ]
    },
    {
     "name": "stderr",
     "output_type": "stream",
     "text": [
      "\n",
      "100%|██████████| 1/1 [00:00<00:00, 16.38it/s]"
     ]
    },
    {
     "name": "stdout",
     "output_type": "stream",
     "text": [
      "\n",
      "Processing #263 - PAGES2kv2_Asia-BAG2JU_Asi_187:trsgi ...\n",
      "PRYSM >>> forward with prysm.vslite ...\n",
      "PRYSM >>> Using R libs from: /home/fzhu/R/x86_64-pc-linux-gnu-library/3.4\n",
      "PRYSM >>> T1=7.089, T2=18.231, M1=0.086, M2=0.205\n",
      "PRYSM >>> Target: (36.03, 74.58); Found: (36.95, 75.00)\n"
     ]
    },
    {
     "name": "stderr",
     "output_type": "stream",
     "text": [
      "\n",
      "100%|██████████| 1/1 [00:00<00:00, 16.31it/s]"
     ]
    },
    {
     "name": "stdout",
     "output_type": "stream",
     "text": [
      "\n",
      "Processing #264 - PAGES2kv2_Asia-SHENJP_Asi_049:trsgi ...\n",
      "PRYSM >>> forward with prysm.vslite ...\n",
      "PRYSM >>> Using R libs from: /home/fzhu/R/x86_64-pc-linux-gnu-library/3.4\n",
      "PRYSM >>> T1=7.976, T2=13.601, M1=0.064, M2=0.417\n",
      "PRYSM >>> Target: (37.0, 98.08); Found: (36.95, 97.50)\n"
     ]
    },
    {
     "name": "stderr",
     "output_type": "stream",
     "text": [
      "\n",
      "100%|██████████| 1/1 [00:00<00:00, 16.50it/s]"
     ]
    },
    {
     "name": "stdout",
     "output_type": "stream",
     "text": [
      "\n",
      "Processing #265 - PAGES2kv2_NAm-ak057_NAm_090:trsgi ...\n",
      "PRYSM >>> forward with prysm.vslite ...\n",
      "PRYSM >>> Using R libs from: /home/fzhu/R/x86_64-pc-linux-gnu-library/3.4\n",
      "PRYSM >>> T1=3.841, T2=16.688, M1=0.083, M2=0.110\n",
      "PRYSM >>> Target: (65.2, 197.8); Found: (65.37, 197.50)\n"
     ]
    },
    {
     "name": "stderr",
     "output_type": "stream",
     "text": [
      "\n",
      "100%|██████████| 1/1 [00:00<00:00, 16.42it/s]"
     ]
    },
    {
     "name": "stdout",
     "output_type": "stream",
     "text": [
      "\n",
      "Processing #266 - PAGES2kv2_NAm-wy025_NAm_201:trsgi ...\n",
      "PRYSM >>> forward with prysm.vslite ...\n",
      "PRYSM >>> Using R libs from: /home/fzhu/R/x86_64-pc-linux-gnu-library/3.4\n",
      "PRYSM >>> T1=7.935, T2=18.179, M1=0.069, M2=0.369\n",
      "PRYSM >>> Target: (43.7, 249.9); Found: (44.53, 250.00)\n"
     ]
    },
    {
     "name": "stderr",
     "output_type": "stream",
     "text": [
      "\n",
      "100%|██████████| 1/1 [00:00<00:00, 15.87it/s]"
     ]
    },
    {
     "name": "stdout",
     "output_type": "stream",
     "text": [
      "\n",
      "Processing #267 - PAGES2kv2_Asia-WL1_Asi_095:trsgi ...\n",
      "PRYSM >>> forward with prysm.vslite ...\n",
      "PRYSM >>> Using R libs from: /home/fzhu/R/x86_64-pc-linux-gnu-library/3.4\n",
      "PRYSM >>> T1=3.134, T2=11.611, M1=0.091, M2=0.323\n",
      "PRYSM >>> Target: (37.03, 98.63); Found: (36.95, 97.50)\n"
     ]
    },
    {
     "name": "stderr",
     "output_type": "stream",
     "text": [
      "\n",
      "100%|██████████| 1/1 [00:00<00:00, 16.85it/s]"
     ]
    },
    {
     "name": "stdout",
     "output_type": "stream",
     "text": [
      "\n",
      "Processing #268 - PAGES2kv2_Asia-LAYAJR_Asi_035:trsgi ...\n",
      "PRYSM >>> forward with prysm.vslite ...\n",
      "PRYSM >>> Using R libs from: /home/fzhu/R/x86_64-pc-linux-gnu-library/3.4\n",
      "PRYSM >>> T1=3.398, T2=16.647, M1=0.079, M2=0.355\n",
      "PRYSM >>> Target: (27.95, 89.75); Found: (27.47, 90.00)\n"
     ]
    },
    {
     "name": "stderr",
     "output_type": "stream",
     "text": [
      "\n",
      "100%|██████████| 1/1 [00:00<00:00, 17.22it/s]"
     ]
    },
    {
     "name": "stdout",
     "output_type": "stream",
     "text": [
      "\n",
      "Processing #269 - PAGES2kv2_Asia-MAXSIC_Asi_041:trsgi ...\n",
      "PRYSM >>> forward with prysm.vslite ...\n",
      "PRYSM >>> Using R libs from: /home/fzhu/R/x86_64-pc-linux-gnu-library/3.4\n",
      "PRYSM >>> T1=3.043, T2=11.668, M1=0.080, M2=0.422\n",
      "PRYSM >>> Target: (29.15, 99.93); Found: (29.37, 100.00)\n"
     ]
    },
    {
     "name": "stderr",
     "output_type": "stream",
     "text": [
      "\n",
      "100%|██████████| 1/1 [00:00<00:00, 16.45it/s]"
     ]
    },
    {
     "name": "stdout",
     "output_type": "stream",
     "text": [
      "\n",
      "Processing #270 - PAGES2kv2_Asia-CAMGSP_Asi_030:trsgi ...\n",
      "PRYSM >>> forward with prysm.vslite ...\n",
      "PRYSM >>> Using R libs from: /home/fzhu/R/x86_64-pc-linux-gnu-library/3.4\n",
      "PRYSM >>> T1=2.786, T2=14.035, M1=0.015, M2=0.154\n",
      "PRYSM >>> Target: (27.63, 90.13); Found: (27.47, 90.00)\n"
     ]
    },
    {
     "name": "stderr",
     "output_type": "stream",
     "text": [
      "\n",
      "100%|██████████| 1/1 [00:00<00:00, 16.48it/s]"
     ]
    },
    {
     "name": "stdout",
     "output_type": "stream",
     "text": [
      "\n",
      "Processing #271 - PAGES2kv2_Asia-ISBCDD_Asi_198:trsgi ...\n",
      "PRYSM >>> forward with prysm.vslite ...\n",
      "PRYSM >>> Using R libs from: /home/fzhu/R/x86_64-pc-linux-gnu-library/3.4\n",
      "PRYSM >>> T1=2.814, T2=10.828, M1=0.083, M2=0.425\n",
      "PRYSM >>> Target: (35.35, 71.93); Found: (35.05, 72.50)\n"
     ]
    },
    {
     "name": "stderr",
     "output_type": "stream",
     "text": [
      "\n",
      "100%|██████████| 1/1 [00:00<00:00, 16.97it/s]"
     ]
    },
    {
     "name": "stdout",
     "output_type": "stream",
     "text": [
      "\n",
      "Processing #272 - PAGES2kv2_NAm-wa097_NAm_195:trsgi ...\n",
      "PRYSM >>> forward with prysm.vslite ...\n",
      "PRYSM >>> Using R libs from: /home/fzhu/R/x86_64-pc-linux-gnu-library/3.4\n",
      "PRYSM >>> T1=5.000, T2=13.492, M1=0.020, M2=0.162\n",
      "PRYSM >>> Target: (47.9, 236.2); Found: (48.32, 235.00)\n"
     ]
    },
    {
     "name": "stderr",
     "output_type": "stream",
     "text": [
      "\n",
      "100%|██████████| 1/1 [00:00<00:00, 17.53it/s]"
     ]
    },
    {
     "name": "stdout",
     "output_type": "stream",
     "text": [
      "\n",
      "Processing #273 - PAGES2kv2_Asia-ASTPIW_Asi_185:trsgi ...\n",
      "PRYSM >>> forward with prysm.vslite ...\n",
      "PRYSM >>> Using R libs from: /home/fzhu/R/x86_64-pc-linux-gnu-library/3.4\n",
      "PRYSM >>> T1=6.506, T2=11.574, M1=0.020, M2=0.344\n",
      "PRYSM >>> Target: (35.33, 74.8); Found: (35.05, 75.00)\n"
     ]
    },
    {
     "name": "stderr",
     "output_type": "stream",
     "text": [
      "\n",
      "100%|██████████| 1/1 [00:00<00:00, 16.98it/s]"
     ]
    },
    {
     "name": "stdout",
     "output_type": "stream",
     "text": [
      "\n",
      "Processing #274 - PAGES2kv2_NAm-cana238_NAm_140:trsgi ...\n",
      "PRYSM >>> forward with prysm.vslite ...\n",
      "PRYSM >>> Using R libs from: /home/fzhu/R/x86_64-pc-linux-gnu-library/3.4\n",
      "PRYSM >>> T1=8.308, T2=19.687, M1=0.042, M2=0.235\n",
      "PRYSM >>> Target: (50.7, 238.5); Found: (50.21, 237.50)\n"
     ]
    },
    {
     "name": "stderr",
     "output_type": "stream",
     "text": [
      "\n",
      "100%|██████████| 1/1 [00:00<00:00, 16.95it/s]"
     ]
    },
    {
     "name": "stdout",
     "output_type": "stream",
     "text": [
      "\n",
      "Processing #275 - PAGES2kv2_Asia-BHUTSP_Asi_034:trsgi ...\n",
      "PRYSM >>> forward with prysm.vslite ...\n",
      "PRYSM >>> Using R libs from: /home/fzhu/R/x86_64-pc-linux-gnu-library/3.4\n",
      "PRYSM >>> T1=8.552, T2=15.701, M1=0.029, M2=0.261\n",
      "PRYSM >>> Target: (27.45, 90.0); Found: (27.47, 90.00)\n"
     ]
    },
    {
     "name": "stderr",
     "output_type": "stream",
     "text": [
      "\n",
      "100%|██████████| 1/1 [00:00<00:00, 16.87it/s]"
     ]
    },
    {
     "name": "stdout",
     "output_type": "stream",
     "text": [
      "\n",
      "Processing #276 - PAGES2kv2_Aus-CTPEastTasma.Allen.2001_Aus_004:trsgi ...\n",
      "PRYSM >>> forward with prysm.vslite ...\n",
      "PRYSM >>> Using R libs from: /home/fzhu/R/x86_64-pc-linux-gnu-library/3.4\n",
      "PRYSM >>> T1=5.548, T2=11.003, M1=0.038, M2=0.265\n",
      "PRYSM >>> Target: (-41.31, 147.75); Found: (-40.74, 147.50)\n"
     ]
    },
    {
     "name": "stderr",
     "output_type": "stream",
     "text": [
      "\n",
      "100%|██████████| 1/1 [00:00<00:00, 17.52it/s]"
     ]
    },
    {
     "name": "stdout",
     "output_type": "stream",
     "text": [
      "\n",
      "Processing #277 - PAGES2kv2_SAm-CAN9.Neukom.2014_SAm_025:trsgi ...\n",
      "PRYSM >>> forward with prysm.vslite ...\n",
      "PRYSM >>> Using R libs from: /home/fzhu/R/x86_64-pc-linux-gnu-library/3.4\n",
      "PRYSM >>> T1=5.436, T2=12.655, M1=0.075, M2=0.444\n",
      "PRYSM >>> Target: (-39.33, 288.75); Found: (-38.84, 287.50)\n"
     ]
    },
    {
     "name": "stderr",
     "output_type": "stream",
     "text": [
      "\n",
      "100%|██████████| 1/1 [00:00<00:00, 17.21it/s]"
     ]
    },
    {
     "name": "stdout",
     "output_type": "stream",
     "text": [
      "\n",
      "Processing #278 - PAGES2kv2_Asia-WULANJ_Asi_066:trsgi ...\n",
      "PRYSM >>> forward with prysm.vslite ...\n",
      "PRYSM >>> Using R libs from: /home/fzhu/R/x86_64-pc-linux-gnu-library/3.4\n",
      "PRYSM >>> T1=3.744, T2=13.995, M1=0.091, M2=0.443\n",
      "PRYSM >>> Target: (37.03, 98.68); Found: (36.95, 97.50)\n"
     ]
    },
    {
     "name": "stderr",
     "output_type": "stream",
     "text": [
      "\n",
      "100%|██████████| 1/1 [00:00<00:00, 17.38it/s]"
     ]
    },
    {
     "name": "stdout",
     "output_type": "stream",
     "text": [
      "\n",
      "Processing #279 - PAGES2kv2_Asia-Djaz.Magda.2011_Asi_002:trsgi ...\n",
      "PRYSM >>> forward with prysm.vslite ...\n",
      "PRYSM >>> Using R libs from: /home/fzhu/R/x86_64-pc-linux-gnu-library/3.4\n",
      "PRYSM >>> T1=4.737, T2=16.621, M1=0.023, M2=0.466\n",
      "PRYSM >>> Target: (49.62, 88.1); Found: (50.21, 87.50)\n"
     ]
    },
    {
     "name": "stderr",
     "output_type": "stream",
     "text": [
      "\n",
      "100%|██████████| 1/1 [00:00<00:00, 17.15it/s]"
     ]
    },
    {
     "name": "stdout",
     "output_type": "stream",
     "text": [
      "\n",
      "Processing #280 - PAGES2kv2_Asia-SHIESP_Asi_132:trsgi ...\n",
      "PRYSM >>> forward with prysm.vslite ...\n",
      "PRYSM >>> Using R libs from: /home/fzhu/R/x86_64-pc-linux-gnu-library/3.4\n",
      "PRYSM >>> T1=8.321, T2=15.289, M1=0.077, M2=0.352\n",
      "PRYSM >>> Target: (39.83, 71.5); Found: (40.74, 72.50)\n"
     ]
    },
    {
     "name": "stderr",
     "output_type": "stream",
     "text": [
      "\n",
      "100%|██████████| 1/1 [00:00<00:00, 17.63it/s]"
     ]
    },
    {
     "name": "stdout",
     "output_type": "stream",
     "text": [
      "\n",
      "Processing #281 - PAGES2kv2_Asia-DQHZHO_Asi_075:trsgi ...\n",
      "PRYSM >>> forward with prysm.vslite ...\n",
      "PRYSM >>> Using R libs from: /home/fzhu/R/x86_64-pc-linux-gnu-library/3.4\n",
      "PRYSM >>> T1=7.137, T2=11.691, M1=0.062, M2=0.444\n",
      "PRYSM >>> Target: (35.0, 100.07); Found: (35.05, 100.00)\n"
     ]
    },
    {
     "name": "stderr",
     "output_type": "stream",
     "text": [
      "\n",
      "100%|██████████| 1/1 [00:00<00:00, 17.92it/s]"
     ]
    },
    {
     "name": "stdout",
     "output_type": "stream",
     "text": [
      "\n",
      "Processing #282 - PAGES2kv2_Asia-WEXYUN_Asi_073:trsgi ...\n",
      "PRYSM >>> forward with prysm.vslite ...\n",
      "PRYSM >>> Using R libs from: /home/fzhu/R/x86_64-pc-linux-gnu-library/3.4\n",
      "PRYSM >>> T1=7.345, T2=11.088, M1=0.048, M2=0.367\n",
      "PRYSM >>> Target: (27.33, 99.3); Found: (27.47, 100.00)\n"
     ]
    },
    {
     "name": "stderr",
     "output_type": "stream",
     "text": [
      "\n",
      "100%|██████████| 1/1 [00:00<00:00, 16.99it/s]"
     ]
    },
    {
     "name": "stdout",
     "output_type": "stream",
     "text": [
      "\n",
      "Processing #283 - PAGES2kv2_NAm-cana453_NAm_163:trsgi ...\n",
      "PRYSM >>> forward with prysm.vslite ...\n",
      "PRYSM >>> Using R libs from: /home/fzhu/R/x86_64-pc-linux-gnu-library/3.4\n",
      "PRYSM >>> T1=4.658, T2=12.655, M1=0.004, M2=0.444\n",
      "PRYSM >>> Target: (52.8, 242.3); Found: (52.11, 242.50)\n"
     ]
    },
    {
     "name": "stderr",
     "output_type": "stream",
     "text": [
      "\n",
      "100%|██████████| 1/1 [00:00<00:00, 17.70it/s]"
     ]
    },
    {
     "name": "stdout",
     "output_type": "stream",
     "text": [
      "\n",
      "Processing #284 - PAGES2kv2_Asia-MS.Magda.2011_Asi_006:trsgi ...\n",
      "PRYSM >>> forward with prysm.vslite ...\n",
      "PRYSM >>> Using R libs from: /home/fzhu/R/x86_64-pc-linux-gnu-library/3.4\n",
      "PRYSM >>> T1=4.536, T2=11.772, M1=0.060, M2=0.444\n",
      "PRYSM >>> Target: (49.72, 87.28); Found: (50.21, 87.50)\n"
     ]
    },
    {
     "name": "stderr",
     "output_type": "stream",
     "text": [
      "\n",
      "100%|██████████| 1/1 [00:00<00:00, 17.65it/s]"
     ]
    },
    {
     "name": "stdout",
     "output_type": "stream",
     "text": [
      "\n",
      "Processing #285 - PAGES2kv2_Asia-QUMAJP_Asi_067:trsgi ...\n",
      "PRYSM >>> forward with prysm.vslite ...\n",
      "PRYSM >>> Using R libs from: /home/fzhu/R/x86_64-pc-linux-gnu-library/3.4\n",
      "PRYSM >>> T1=7.212, T2=15.596, M1=0.070, M2=0.140\n",
      "PRYSM >>> Target: (33.8, 96.13); Found: (33.16, 95.00)\n"
     ]
    },
    {
     "name": "stderr",
     "output_type": "stream",
     "text": [
      "\n",
      "100%|██████████| 1/1 [00:00<00:00, 17.92it/s]"
     ]
    },
    {
     "name": "stdout",
     "output_type": "stream",
     "text": [
      "\n",
      "Processing #286 - PAGES2kv2_Asia-12YMA_Asi_081:trsgi ...\n",
      "PRYSM >>> forward with prysm.vslite ...\n",
      "PRYSM >>> Using R libs from: /home/fzhu/R/x86_64-pc-linux-gnu-library/3.4\n",
      "PRYSM >>> T1=3.043, T2=11.668, M1=0.080, M2=0.422\n",
      "PRYSM >>> Target: (28.03, 99.02); Found: (27.47, 100.00)\n"
     ]
    },
    {
     "name": "stderr",
     "output_type": "stream",
     "text": [
      "\n",
      "100%|██████████| 1/1 [00:00<00:00, 17.76it/s]"
     ]
    },
    {
     "name": "stdout",
     "output_type": "stream",
     "text": [
      "\n",
      "Processing #287 - PAGES2kv2_NAm-ak035_NAm_089:trsgi ...\n",
      "PRYSM >>> forward with prysm.vslite ...\n",
      "PRYSM >>> Using R libs from: /home/fzhu/R/x86_64-pc-linux-gnu-library/3.4\n",
      "PRYSM >>> T1=4.073, T2=17.663, M1=0.086, M2=0.119\n",
      "PRYSM >>> Target: (63.3, 212.2); Found: (63.47, 212.50)\n"
     ]
    },
    {
     "name": "stderr",
     "output_type": "stream",
     "text": [
      "\n",
      "100%|██████████| 1/1 [00:00<00:00, 17.38it/s]"
     ]
    },
    {
     "name": "stdout",
     "output_type": "stream",
     "text": [
      "\n",
      "Processing #288 - PAGES2kv2_Asia-LAJQIN_Asi_046:trsgi ...\n",
      "PRYSM >>> forward with prysm.vslite ...\n",
      "PRYSM >>> Using R libs from: /home/fzhu/R/x86_64-pc-linux-gnu-library/3.4\n",
      "PRYSM >>> T1=3.043, T2=11.668, M1=0.080, M2=0.422\n",
      "PRYSM >>> Target: (34.72, 100.72); Found: (35.05, 100.00)\n"
     ]
    },
    {
     "name": "stderr",
     "output_type": "stream",
     "text": [
      "\n",
      "100%|██████████| 1/1 [00:00<00:00, 17.16it/s]"
     ]
    },
    {
     "name": "stdout",
     "output_type": "stream",
     "text": [
      "\n",
      "Processing #289 - PAGES2kv2_NAm-cana450_NAm_162:trsgi ...\n",
      "PRYSM >>> forward with prysm.vslite ...\n",
      "PRYSM >>> Using R libs from: /home/fzhu/R/x86_64-pc-linux-gnu-library/3.4\n",
      "PRYSM >>> T1=2.555, T2=11.165, M1=0.038, M2=0.390\n",
      "PRYSM >>> Target: (53.2, 240.5); Found: (54.00, 240.00)\n"
     ]
    },
    {
     "name": "stderr",
     "output_type": "stream",
     "text": [
      "\n",
      "100%|██████████| 1/1 [00:00<00:00, 16.21it/s]"
     ]
    },
    {
     "name": "stdout",
     "output_type": "stream",
     "text": [
      "\n",
      "Processing #290 - PAGES2kv2_Asia-HSW_Asi_092:trsgi ...\n",
      "PRYSM >>> forward with prysm.vslite ...\n",
      "PRYSM >>> Using R libs from: /home/fzhu/R/x86_64-pc-linux-gnu-library/3.4\n",
      "PRYSM >>> T1=7.756, T2=13.938, M1=0.061, M2=0.331\n",
      "PRYSM >>> Target: (34.47, 110.08); Found: (35.05, 110.00)\n"
     ]
    },
    {
     "name": "stderr",
     "output_type": "stream",
     "text": [
      "\n",
      "100%|██████████| 1/1 [00:00<00:00, 16.37it/s]"
     ]
    },
    {
     "name": "stdout",
     "output_type": "stream",
     "text": [
      "\n",
      "Processing #291 - PAGES2kv2_Arc-MackenzieDelta.Porter.2013_Arc_073:trsgi ...\n",
      "PRYSM >>> forward with prysm.vslite ...\n",
      "PRYSM >>> Using R libs from: /home/fzhu/R/x86_64-pc-linux-gnu-library/3.4\n",
      "PRYSM >>> T1=2.901, T2=17.284, M1=0.005, M2=0.106\n",
      "PRYSM >>> Target: (68.625, 226.13); Found: (69.16, 225.00)\n"
     ]
    },
    {
     "name": "stderr",
     "output_type": "stream",
     "text": [
      "\n",
      "100%|██████████| 1/1 [00:00<00:00, 16.55it/s]"
     ]
    },
    {
     "name": "stdout",
     "output_type": "stream",
     "text": [
      "\n",
      "Processing #292 - PAGES2kv2_Asia-UULMXD_Asi_017:trsgi ...\n",
      "PRYSM >>> forward with prysm.vslite ...\n",
      "PRYSM >>> Using R libs from: /home/fzhu/R/x86_64-pc-linux-gnu-library/3.4\n",
      "PRYSM >>> T1=4.817, T2=14.552, M1=0.059, M2=0.211\n",
      "PRYSM >>> Target: (50.48, 87.65); Found: (50.21, 87.50)\n"
     ]
    },
    {
     "name": "stderr",
     "output_type": "stream",
     "text": [
      "\n",
      "100%|██████████| 1/1 [00:00<00:00, 16.61it/s]"
     ]
    },
    {
     "name": "stdout",
     "output_type": "stream",
     "text": [
      "\n",
      "Processing #293 - PAGES2kv2_Asia-UKHLWD_Asi_022:trsgi ...\n",
      "PRYSM >>> forward with prysm.vslite ...\n",
      "PRYSM >>> Using R libs from: /home/fzhu/R/x86_64-pc-linux-gnu-library/3.4\n",
      "PRYSM >>> T1=6.016, T2=19.687, M1=0.042, M2=0.235\n",
      "PRYSM >>> Target: (50.15, 85.37); Found: (50.21, 85.00)\n"
     ]
    },
    {
     "name": "stderr",
     "output_type": "stream",
     "text": [
      "\n",
      "100%|██████████| 1/1 [00:00<00:00, 16.90it/s]"
     ]
    },
    {
     "name": "stdout",
     "output_type": "stream",
     "text": [
      "\n",
      "Processing #294 - PAGES2kv2_Asia-ENEPAB_Asi_182:trsgi ...\n",
      "PRYSM >>> forward with prysm.vslite ...\n",
      "PRYSM >>> Using R libs from: /home/fzhu/R/x86_64-pc-linux-gnu-library/3.4\n",
      "PRYSM >>> T1=8.552, T2=15.701, M1=0.029, M2=0.261\n",
      "PRYSM >>> Target: (27.73, 87.2); Found: (27.47, 87.50)\n"
     ]
    },
    {
     "name": "stderr",
     "output_type": "stream",
     "text": [
      "\n",
      "100%|██████████| 1/1 [00:00<00:00, 17.14it/s]"
     ]
    },
    {
     "name": "stdout",
     "output_type": "stream",
     "text": [
      "\n",
      "Processing #295 - PAGES2kv2_Asia-WL3_Asi_097:trsgi ...\n",
      "PRYSM >>> forward with prysm.vslite ...\n",
      "PRYSM >>> Using R libs from: /home/fzhu/R/x86_64-pc-linux-gnu-library/3.4\n",
      "PRYSM >>> T1=8.552, T2=12.441, M1=0.080, M2=0.415\n",
      "PRYSM >>> Target: (36.75, 98.22); Found: (36.95, 97.50)\n"
     ]
    },
    {
     "name": "stderr",
     "output_type": "stream",
     "text": [
      "\n",
      "100%|██████████| 1/1 [00:00<00:00, 16.10it/s]"
     ]
    },
    {
     "name": "stdout",
     "output_type": "stream",
     "text": [
      "\n",
      "Processing #296 - PAGES2kv2_Asia-YKCOM_Asi_117:trsgi ...\n",
      "PRYSM >>> forward with prysm.vslite ...\n",
      "PRYSM >>> Using R libs from: /home/fzhu/R/x86_64-pc-linux-gnu-library/3.4\n",
      "PRYSM >>> T1=5.015, T2=10.828, M1=0.058, M2=0.246\n",
      "PRYSM >>> Target: (30.37, 130.53); Found: (31.26, 130.00)\n"
     ]
    },
    {
     "name": "stderr",
     "output_type": "stream",
     "text": [
      "\n",
      "100%|██████████| 1/1 [00:00<00:00, 15.49it/s]"
     ]
    },
    {
     "name": "stdout",
     "output_type": "stream",
     "text": [
      "\n",
      "Processing #297 - PAGES2kv2_Asia-DHURPS_Asi_031:trsgi ...\n",
      "PRYSM >>> forward with prysm.vslite ...\n",
      "PRYSM >>> Using R libs from: /home/fzhu/R/x86_64-pc-linux-gnu-library/3.4\n",
      "PRYSM >>> T1=7.624, T2=13.840, M1=0.050, M2=0.152\n",
      "PRYSM >>> Target: (27.58, 90.65); Found: (27.47, 90.00)\n"
     ]
    },
    {
     "name": "stderr",
     "output_type": "stream",
     "text": [
      "\n",
      "100%|██████████| 1/1 [00:00<00:00, 16.65it/s]"
     ]
    },
    {
     "name": "stdout",
     "output_type": "stream",
     "text": [
      "\n",
      "Processing #298 - PAGES2kv2_NAm-cana091_NAm_117:trsgi ...\n",
      "PRYSM >>> forward with prysm.vslite ...\n",
      "PRYSM >>> Using R libs from: /home/fzhu/R/x86_64-pc-linux-gnu-library/3.4\n",
      "PRYSM >>> T1=7.835, T2=12.289, M1=0.025, M2=0.142\n",
      "PRYSM >>> Target: (54.9, 232.7); Found: (54.00, 232.50)\n"
     ]
    },
    {
     "name": "stderr",
     "output_type": "stream",
     "text": [
      "\n",
      "100%|██████████| 1/1 [00:00<00:00, 16.09it/s]"
     ]
    },
    {
     "name": "stdout",
     "output_type": "stream",
     "text": [
      "\n",
      "Processing #299 - PAGES2kv2_Asia-AGHERI_Asi_167:trsgi ...\n",
      "PRYSM >>> forward with prysm.vslite ...\n",
      "PRYSM >>> Using R libs from: /home/fzhu/R/x86_64-pc-linux-gnu-library/3.4\n",
      "PRYSM >>> T1=7.835, T2=17.265, M1=0.083, M2=0.246\n",
      "PRYSM >>> Target: (29.48, 82.08); Found: (29.37, 82.50)\n"
     ]
    },
    {
     "name": "stderr",
     "output_type": "stream",
     "text": [
      "\n",
      "100%|██████████| 1/1 [00:00<00:00, 16.78it/s]"
     ]
    },
    {
     "name": "stdout",
     "output_type": "stream",
     "text": [
      "\n",
      "Processing #300 - PAGES2kv2_Asia-TKC_Asi_115:trsgi ...\n",
      "PRYSM >>> forward with prysm.vslite ...\n",
      "PRYSM >>> Using R libs from: /home/fzhu/R/x86_64-pc-linux-gnu-library/3.4\n",
      "PRYSM >>> T1=5.091, T2=13.064, M1=0.067, M2=0.174\n",
      "PRYSM >>> Target: (43.5, 143.2); Found: (42.63, 142.50)\n"
     ]
    },
    {
     "name": "stderr",
     "output_type": "stream",
     "text": [
      "\n",
      "100%|██████████| 1/1 [00:00<00:00, 16.28it/s]"
     ]
    },
    {
     "name": "stdout",
     "output_type": "stream",
     "text": [
      "\n",
      "Processing #301 - PAGES2kv2_Asia-UKHEWW_Asi_019:trsgi ...\n",
      "PRYSM >>> forward with prysm.vslite ...\n",
      "PRYSM >>> Using R libs from: /home/fzhu/R/x86_64-pc-linux-gnu-library/3.4\n",
      "PRYSM >>> T1=6.639, T2=12.459, M1=0.031, M2=0.194\n",
      "PRYSM >>> Target: (50.15, 85.37); Found: (50.21, 85.00)\n"
     ]
    },
    {
     "name": "stderr",
     "output_type": "stream",
     "text": [
      "\n",
      "100%|██████████| 1/1 [00:00<00:00, 16.49it/s]"
     ]
    },
    {
     "name": "stdout",
     "output_type": "stream",
     "text": [
      "\n",
      "Processing #302 - PAGES2kv2_Asia-TJ1_Asi_094:trsgi ...\n",
      "PRYSM >>> forward with prysm.vslite ...\n",
      "PRYSM >>> Using R libs from: /home/fzhu/R/x86_64-pc-linux-gnu-library/3.4\n",
      "PRYSM >>> T1=4.051, T2=11.203, M1=0.064, M2=0.395\n",
      "PRYSM >>> Target: (37.32, 98.4); Found: (36.95, 97.50)\n"
     ]
    },
    {
     "name": "stderr",
     "output_type": "stream",
     "text": [
      "\n",
      "100%|██████████| 1/1 [00:00<00:00, 16.33it/s]"
     ]
    },
    {
     "name": "stdout",
     "output_type": "stream",
     "text": [
      "\n",
      "Processing #303 - PAGES2kv2_Asia-KRNKAM_Asi_133:trsgi ...\n",
      "PRYSM >>> forward with prysm.vslite ...\n",
      "PRYSM >>> Using R libs from: /home/fzhu/R/x86_64-pc-linux-gnu-library/3.4\n",
      "PRYSM >>> T1=3.958, T2=10.828, M1=0.055, M2=0.164\n",
      "PRYSM >>> Target: (55.0, 160.5); Found: (55.89, 160.00)\n"
     ]
    },
    {
     "name": "stderr",
     "output_type": "stream",
     "text": [
      "\n",
      "100%|██████████| 1/1 [00:00<00:00, 15.87it/s]"
     ]
    },
    {
     "name": "stdout",
     "output_type": "stream",
     "text": [
      "\n",
      "Processing #304 - PAGES2kv2_Eur-Tat12_Eur_004:trsgi ...\n",
      "PRYSM >>> forward with prysm.vslite ...\n",
      "PRYSM >>> Using R libs from: /home/fzhu/R/x86_64-pc-linux-gnu-library/3.4\n",
      "PRYSM >>> T1=8.069, T2=14.657, M1=0.079, M2=0.358\n",
      "PRYSM >>> Target: (49.0, 20.0); Found: (48.32, 20.00)\n"
     ]
    },
    {
     "name": "stderr",
     "output_type": "stream",
     "text": [
      "\n",
      "100%|██████████| 1/1 [00:00<00:00, 16.68it/s]"
     ]
    },
    {
     "name": "stdout",
     "output_type": "stream",
     "text": [
      "\n",
      "Processing #305 - PAGES2kv2_Asia-Aktru2.Panyushkina.2005_Asi_001:trsgi ...\n",
      "PRYSM >>> forward with prysm.vslite ...\n",
      "PRYSM >>> Using R libs from: /home/fzhu/R/x86_64-pc-linux-gnu-library/3.4\n",
      "PRYSM >>> T1=5.380, T2=11.652, M1=0.036, M2=0.230\n",
      "PRYSM >>> Target: (50.08, 87.77); Found: (50.21, 87.50)\n"
     ]
    },
    {
     "name": "stderr",
     "output_type": "stream",
     "text": [
      "\n",
      "100%|██████████| 1/1 [00:00<00:00, 16.54it/s]"
     ]
    },
    {
     "name": "stdout",
     "output_type": "stream",
     "text": [
      "\n",
      "Processing #306 - PAGES2kv2_Asia-BURGPW_Asi_178:trsgi ...\n",
      "PRYSM >>> forward with prysm.vslite ...\n",
      "PRYSM >>> Using R libs from: /home/fzhu/R/x86_64-pc-linux-gnu-library/3.4\n",
      "PRYSM >>> T1=7.192, T2=16.936, M1=0.050, M2=0.310\n",
      "PRYSM >>> Target: (28.77, 83.73); Found: (29.37, 82.50)\n"
     ]
    },
    {
     "name": "stderr",
     "output_type": "stream",
     "text": [
      "\n",
      "100%|██████████| 1/1 [00:00<00:00, 16.47it/s]"
     ]
    },
    {
     "name": "stdout",
     "output_type": "stream",
     "text": [
      "\n",
      "Processing #307 - PAGES2kv2_NAm-co554_NAm_168:trsgi ...\n",
      "PRYSM >>> forward with prysm.vslite ...\n",
      "PRYSM >>> Using R libs from: /home/fzhu/R/x86_64-pc-linux-gnu-library/3.4\n",
      "PRYSM >>> T1=7.751, T2=20.971, M1=0.032, M2=0.104\n",
      "PRYSM >>> Target: (38.7, 252.4); Found: (38.84, 252.50)\n"
     ]
    },
    {
     "name": "stderr",
     "output_type": "stream",
     "text": [
      "\n",
      "100%|██████████| 1/1 [00:00<00:00, 16.39it/s]"
     ]
    },
    {
     "name": "stdout",
     "output_type": "stream",
     "text": [
      "\n",
      "Processing #308 - PAGES2kv2_Asia-ZD31_Asi_099:trsgi ...\n",
      "PRYSM >>> forward with prysm.vslite ...\n",
      "PRYSM >>> Using R libs from: /home/fzhu/R/x86_64-pc-linux-gnu-library/3.4\n",
      "PRYSM >>> T1=6.369, T2=16.927, M1=0.054, M2=0.277\n",
      "PRYSM >>> Target: (32.67, 95.72); Found: (33.16, 95.00)\n"
     ]
    },
    {
     "name": "stderr",
     "output_type": "stream",
     "text": [
      "\n",
      "100%|██████████| 1/1 [00:00<00:00, 16.70it/s]"
     ]
    },
    {
     "name": "stdout",
     "output_type": "stream",
     "text": [
      "\n",
      "Processing #309 - PAGES2kv2_NAm-ak094_NAm_003:trsgi ...\n",
      "PRYSM >>> forward with prysm.vslite ...\n",
      "PRYSM >>> Using R libs from: /home/fzhu/R/x86_64-pc-linux-gnu-library/3.4\n",
      "PRYSM >>> T1=8.378, T2=13.382, M1=0.036, M2=0.132\n",
      "PRYSM >>> Target: (60.5, 211.7); Found: (59.68, 212.50)\n"
     ]
    },
    {
     "name": "stderr",
     "output_type": "stream",
     "text": [
      "\n",
      "100%|██████████| 1/1 [00:00<00:00, 15.97it/s]"
     ]
    },
    {
     "name": "stdout",
     "output_type": "stream",
     "text": [
      "\n",
      "Processing #310 - PAGES2kv2_Asia-SUBALS_Asi_157:trsgi ...\n",
      "PRYSM >>> forward with prysm.vslite ...\n",
      "PRYSM >>> Using R libs from: /home/fzhu/R/x86_64-pc-linux-gnu-library/3.4\n",
      "PRYSM >>> T1=3.043, T2=11.668, M1=0.080, M2=0.422\n",
      "PRYSM >>> Target: (47.27, 100.03); Found: (46.42, 100.00)\n"
     ]
    },
    {
     "name": "stderr",
     "output_type": "stream",
     "text": [
      "\n",
      "100%|██████████| 1/1 [00:00<00:00, 16.79it/s]"
     ]
    },
    {
     "name": "stdout",
     "output_type": "stream",
     "text": [
      "\n",
      "Processing #311 - PAGES2kv2_Asia-XIANGC_Asi_070:trsgi ...\n",
      "PRYSM >>> forward with prysm.vslite ...\n",
      "PRYSM >>> Using R libs from: /home/fzhu/R/x86_64-pc-linux-gnu-library/3.4\n",
      "PRYSM >>> T1=8.378, T2=13.382, M1=0.036, M2=0.319\n",
      "PRYSM >>> Target: (28.9, 99.75); Found: (29.37, 100.00)\n"
     ]
    },
    {
     "name": "stderr",
     "output_type": "stream",
     "text": [
      "\n",
      "100%|██████████| 1/1 [00:00<00:00, 15.67it/s]"
     ]
    },
    {
     "name": "stdout",
     "output_type": "stream",
     "text": [
      "\n",
      "Processing #312 - PAGES2kv2_NAm-CTR_NAm_066:trsgi ...\n",
      "PRYSM >>> forward with prysm.vslite ...\n",
      "PRYSM >>> Using R libs from: /home/fzhu/R/x86_64-pc-linux-gnu-library/3.4\n",
      "PRYSM >>> T1=7.703, T2=19.850, M1=0.019, M2=0.109\n",
      "PRYSM >>> Target: (46.7, 245.8); Found: (46.42, 245.00)\n"
     ]
    },
    {
     "name": "stderr",
     "output_type": "stream",
     "text": [
      "\n",
      "100%|██████████| 1/1 [00:00<00:00, 16.87it/s]"
     ]
    },
    {
     "name": "stdout",
     "output_type": "stream",
     "text": [
      "\n",
      "Processing #313 - PAGES2kv2_NAm-ak074_NAm_094:trsgi ...\n",
      "PRYSM >>> forward with prysm.vslite ...\n",
      "PRYSM >>> Using R libs from: /home/fzhu/R/x86_64-pc-linux-gnu-library/3.4\n",
      "PRYSM >>> T1=5.466, T2=10.828, M1=0.001, M2=0.359\n",
      "PRYSM >>> Target: (62.4, 216.9); Found: (61.58, 217.50)\n"
     ]
    },
    {
     "name": "stderr",
     "output_type": "stream",
     "text": [
      "\n",
      "100%|██████████| 1/1 [00:00<00:00, 16.35it/s]"
     ]
    },
    {
     "name": "stdout",
     "output_type": "stream",
     "text": [
      "\n",
      "Processing #314 - PAGES2kv2_NAm-ak070_NAm_093:trsgi ...\n",
      "PRYSM >>> forward with prysm.vslite ...\n",
      "PRYSM >>> Using R libs from: /home/fzhu/R/x86_64-pc-linux-gnu-library/3.4\n",
      "PRYSM >>> T1=3.841, T2=12.445, M1=0.083, M2=0.110\n",
      "PRYSM >>> Target: (65.2, 197.8); Found: (65.37, 197.50)\n"
     ]
    },
    {
     "name": "stderr",
     "output_type": "stream",
     "text": [
      "\n",
      "100%|██████████| 1/1 [00:00<00:00, 15.92it/s]"
     ]
    },
    {
     "name": "stdout",
     "output_type": "stream",
     "text": [
      "\n",
      "Processing #315 - PAGES2kv2_Asia-TSO_Asi_116:trsgi ...\n",
      "PRYSM >>> forward with prysm.vslite ...\n",
      "PRYSM >>> Using R libs from: /home/fzhu/R/x86_64-pc-linux-gnu-library/3.4\n",
      "PRYSM >>> T1=8.552, T2=12.614, M1=0.029, M2=0.261\n",
      "PRYSM >>> Target: (44.95, 142.12); Found: (44.53, 142.50)\n"
     ]
    },
    {
     "name": "stderr",
     "output_type": "stream",
     "text": [
      "\n",
      "100%|██████████| 1/1 [00:00<00:00, 16.74it/s]"
     ]
    },
    {
     "name": "stdout",
     "output_type": "stream",
     "text": [
      "\n",
      "Processing #316 - PAGES2kv2_NAm-wa072_NAm_191:trsgi ...\n",
      "PRYSM >>> forward with prysm.vslite ...\n",
      "PRYSM >>> Using R libs from: /home/fzhu/R/x86_64-pc-linux-gnu-library/3.4\n",
      "PRYSM >>> T1=7.067, T2=10.881, M1=0.032, M2=0.188\n",
      "PRYSM >>> Target: (48.7, 239.3); Found: (48.32, 240.00)\n"
     ]
    },
    {
     "name": "stderr",
     "output_type": "stream",
     "text": [
      "\n",
      "100%|██████████| 1/1 [00:00<00:00, 15.87it/s]"
     ]
    },
    {
     "name": "stdout",
     "output_type": "stream",
     "text": [
      "\n",
      "Processing #317 - PAGES2kv2_NAm-cana234_NAm_138:trsgi ...\n",
      "PRYSM >>> forward with prysm.vslite ...\n",
      "PRYSM >>> Using R libs from: /home/fzhu/R/x86_64-pc-linux-gnu-library/3.4\n",
      "PRYSM >>> T1=8.552, T2=15.701, M1=0.029, M2=0.261\n",
      "PRYSM >>> Target: (49.7, 241.1); Found: (50.21, 240.00)\n"
     ]
    },
    {
     "name": "stderr",
     "output_type": "stream",
     "text": [
      "\n",
      "100%|██████████| 1/1 [00:00<00:00, 16.56it/s]"
     ]
    },
    {
     "name": "stdout",
     "output_type": "stream",
     "text": [
      "\n",
      "Processing #318 - PAGES2kv2_NAm-cana324_NAm_144:trsgi ...\n",
      "PRYSM >>> forward with prysm.vslite ...\n",
      "PRYSM >>> Using R libs from: /home/fzhu/R/x86_64-pc-linux-gnu-library/3.4\n",
      "PRYSM >>> T1=6.530, T2=13.928, M1=0.012, M2=0.114\n",
      "PRYSM >>> Target: (58.0, 266.0); Found: (57.79, 265.00)\n"
     ]
    },
    {
     "name": "stderr",
     "output_type": "stream",
     "text": [
      "\n",
      "100%|██████████| 1/1 [00:00<00:00, 16.54it/s]"
     ]
    },
    {
     "name": "stdout",
     "output_type": "stream",
     "text": [
      "\n",
      "Processing #319 - PAGES2kv2_Asia-TANSIC_Asi_038:trsgi ...\n",
      "PRYSM >>> forward with prysm.vslite ...\n",
      "PRYSM >>> Using R libs from: /home/fzhu/R/x86_64-pc-linux-gnu-library/3.4\n",
      "PRYSM >>> T1=6.579, T2=15.923, M1=0.050, M2=0.178\n",
      "PRYSM >>> Target: (30.23, 100.27); Found: (29.37, 100.00)\n"
     ]
    },
    {
     "name": "stderr",
     "output_type": "stream",
     "text": [
      "\n",
      "100%|██████████| 1/1 [00:00<00:00, 15.83it/s]"
     ]
    },
    {
     "name": "stdout",
     "output_type": "stream",
     "text": [
      "\n",
      "Processing #320 - PAGES2kv2_Asia-DDANJR_Asi_171:trsgi ...\n",
      "PRYSM >>> forward with prysm.vslite ...\n",
      "PRYSM >>> Using R libs from: /home/fzhu/R/x86_64-pc-linux-gnu-library/3.4\n",
      "PRYSM >>> T1=2.219, T2=11.512, M1=0.001, M2=0.234\n",
      "PRYSM >>> Target: (27.73, 86.33); Found: (27.47, 87.50)\n"
     ]
    },
    {
     "name": "stderr",
     "output_type": "stream",
     "text": [
      "\n",
      "100%|██████████| 1/1 [00:00<00:00, 17.31it/s]"
     ]
    },
    {
     "name": "stdout",
     "output_type": "stream",
     "text": [
      "\n",
      "Processing #321 - PAGES2kv2_Asia-MQRXJP_Asi_055:trsgi ...\n",
      "PRYSM >>> forward with prysm.vslite ...\n",
      "PRYSM >>> Using R libs from: /home/fzhu/R/x86_64-pc-linux-gnu-library/3.4\n",
      "PRYSM >>> T1=3.043, T2=11.668, M1=0.080, M2=0.422\n",
      "PRYSM >>> Target: (34.75, 99.68); Found: (35.05, 100.00)\n"
     ]
    },
    {
     "name": "stderr",
     "output_type": "stream",
     "text": [
      "\n",
      "100%|██████████| 1/1 [00:00<00:00, 15.94it/s]"
     ]
    },
    {
     "name": "stdout",
     "output_type": "stream",
     "text": [
      "\n",
      "Processing #322 - PAGES2kv2_Asia-MANHPS_Asi_152:trsgi ...\n",
      "PRYSM >>> forward with prysm.vslite ...\n",
      "PRYSM >>> Using R libs from: /home/fzhu/R/x86_64-pc-linux-gnu-library/3.4\n",
      "PRYSM >>> T1=3.936, T2=19.518, M1=0.080, M2=0.305\n",
      "PRYSM >>> Target: (47.77, 107.0); Found: (48.32, 107.50)\n"
     ]
    },
    {
     "name": "stderr",
     "output_type": "stream",
     "text": [
      "\n",
      "100%|██████████| 1/1 [00:00<00:00, 16.88it/s]"
     ]
    },
    {
     "name": "stdout",
     "output_type": "stream",
     "text": [
      "\n",
      "Processing #323 - PAGES2kv2_Asia-WXIYUN_Asi_042:trsgi ...\n",
      "PRYSM >>> forward with prysm.vslite ...\n",
      "PRYSM >>> Using R libs from: /home/fzhu/R/x86_64-pc-linux-gnu-library/3.4\n",
      "PRYSM >>> T1=7.587, T2=13.172, M1=0.068, M2=0.488\n",
      "PRYSM >>> Target: (27.33, 99.3); Found: (27.47, 100.00)\n"
     ]
    },
    {
     "name": "stderr",
     "output_type": "stream",
     "text": [
      "\n",
      "100%|██████████| 1/1 [00:00<00:00, 15.53it/s]"
     ]
    },
    {
     "name": "stdout",
     "output_type": "stream",
     "text": [
      "\n",
      "Processing #324 - PAGES2kv2_NAm-cana169_NAm_129:trsgi ...\n",
      "PRYSM >>> forward with prysm.vslite ...\n",
      "PRYSM >>> Using R libs from: /home/fzhu/R/x86_64-pc-linux-gnu-library/3.4\n",
      "PRYSM >>> T1=7.571, T2=11.377, M1=0.028, M2=0.191\n",
      "PRYSM >>> Target: (55.3, 282.2); Found: (55.89, 282.50)\n"
     ]
    },
    {
     "name": "stderr",
     "output_type": "stream",
     "text": [
      "\n",
      "100%|██████████| 1/1 [00:00<00:00, 17.10it/s]"
     ]
    },
    {
     "name": "stdout",
     "output_type": "stream",
     "text": [
      "\n",
      "Processing #325 - PAGES2kv2_NAm-wy022_NAm_198:trsgi ...\n",
      "PRYSM >>> forward with prysm.vslite ...\n",
      "PRYSM >>> Using R libs from: /home/fzhu/R/x86_64-pc-linux-gnu-library/3.4\n",
      "PRYSM >>> T1=6.105, T2=20.019, M1=0.080, M2=0.127\n",
      "PRYSM >>> Target: (41.3, 252.3); Found: (40.74, 252.50)\n"
     ]
    },
    {
     "name": "stderr",
     "output_type": "stream",
     "text": [
      "\n",
      "100%|██████████| 1/1 [00:00<00:00, 16.20it/s]"
     ]
    },
    {
     "name": "stdout",
     "output_type": "stream",
     "text": [
      "\n",
      "Processing #326 - PAGES2kv2_Asia-RETIJT_Asi_224:trsgi ...\n",
      "PRYSM >>> forward with prysm.vslite ...\n",
      "PRYSM >>> Using R libs from: /home/fzhu/R/x86_64-pc-linux-gnu-library/3.4\n",
      "PRYSM >>> T1=4.007, T2=11.668, M1=0.080, M2=0.422\n",
      "PRYSM >>> Target: (30.3, 91.52); Found: (29.37, 92.50)\n"
     ]
    },
    {
     "name": "stderr",
     "output_type": "stream",
     "text": [
      "\n",
      "100%|██████████| 1/1 [00:00<00:00, 16.28it/s]"
     ]
    },
    {
     "name": "stdout",
     "output_type": "stream",
     "text": [
      "\n",
      "Processing #327 - PAGES2kv2_Asia-MAINJT_Asi_222:trsgi ...\n",
      "PRYSM >>> forward with prysm.vslite ...\n",
      "PRYSM >>> Using R libs from: /home/fzhu/R/x86_64-pc-linux-gnu-library/3.4\n",
      "PRYSM >>> T1=8.552, T2=15.701, M1=0.029, M2=0.261\n",
      "PRYSM >>> Target: (29.07, 93.95); Found: (29.37, 95.00)\n"
     ]
    },
    {
     "name": "stderr",
     "output_type": "stream",
     "text": [
      "\n",
      "100%|██████████| 1/1 [00:00<00:00, 16.13it/s]"
     ]
    },
    {
     "name": "stdout",
     "output_type": "stream",
     "text": [
      "\n",
      "Processing #328 - PAGES2kv2_Asia-MOR4JU_Asi_205:trsgi ...\n",
      "PRYSM >>> forward with prysm.vslite ...\n",
      "PRYSM >>> Using R libs from: /home/fzhu/R/x86_64-pc-linux-gnu-library/3.4\n",
      "PRYSM >>> T1=5.345, T2=16.622, M1=0.093, M2=0.121\n",
      "PRYSM >>> Target: (36.58, 75.08); Found: (36.95, 75.00)\n"
     ]
    },
    {
     "name": "stderr",
     "output_type": "stream",
     "text": [
      "\n",
      "100%|██████████| 1/1 [00:00<00:00, 15.63it/s]"
     ]
    },
    {
     "name": "stdout",
     "output_type": "stream",
     "text": [
      "\n",
      "Processing #329 - PAGES2kv2_Asia-YAKHTD_Asi_181:trsgi ...\n",
      "PRYSM >>> forward with prysm.vslite ...\n",
      "PRYSM >>> Using R libs from: /home/fzhu/R/x86_64-pc-linux-gnu-library/3.4\n",
      "PRYSM >>> T1=6.006, T2=21.555, M1=0.022, M2=0.273\n",
      "PRYSM >>> Target: (27.83, 88.02); Found: (27.47, 87.50)\n"
     ]
    },
    {
     "name": "stderr",
     "output_type": "stream",
     "text": [
      "\n",
      "100%|██████████| 1/1 [00:00<00:00, 16.69it/s]"
     ]
    },
    {
     "name": "stdout",
     "output_type": "stream",
     "text": [
      "\n",
      "Processing #330 - PAGES2kv2_Asia-XCHSIC_Asi_039:trsgi ...\n",
      "PRYSM >>> forward with prysm.vslite ...\n",
      "PRYSM >>> Using R libs from: /home/fzhu/R/x86_64-pc-linux-gnu-library/3.4\n",
      "PRYSM >>> T1=3.958, T2=10.828, M1=0.055, M2=0.164\n",
      "PRYSM >>> Target: (28.98, 99.93); Found: (29.37, 100.00)\n"
     ]
    },
    {
     "name": "stderr",
     "output_type": "stream",
     "text": [
      "\n",
      "100%|██████████| 1/1 [00:00<00:00, 16.56it/s]"
     ]
    },
    {
     "name": "stdout",
     "output_type": "stream",
     "text": [
      "\n",
      "Processing #331 - PAGES2kv2_Asia-PEMBSP_Asi_033:trsgi ...\n",
      "PRYSM >>> forward with prysm.vslite ...\n",
      "PRYSM >>> Using R libs from: /home/fzhu/R/x86_64-pc-linux-gnu-library/3.4\n",
      "PRYSM >>> T1=7.327, T2=13.707, M1=0.040, M2=0.360\n",
      "PRYSM >>> Target: (27.25, 89.38); Found: (27.47, 90.00)\n"
     ]
    },
    {
     "name": "stderr",
     "output_type": "stream",
     "text": [
      "\n",
      "100%|██████████| 1/1 [00:00<00:00, 16.39it/s]"
     ]
    },
    {
     "name": "stdout",
     "output_type": "stream",
     "text": [
      "\n",
      "Processing #332 - PAGES2kv2_Asia-MURKJT_Asi_125:trsgi ...\n",
      "PRYSM >>> forward with prysm.vslite ...\n",
      "PRYSM >>> Using R libs from: /home/fzhu/R/x86_64-pc-linux-gnu-library/3.4\n",
      "PRYSM >>> T1=8.119, T2=22.828, M1=0.027, M2=0.179\n",
      "PRYSM >>> Target: (40.17, 72.58); Found: (40.74, 72.50)\n"
     ]
    },
    {
     "name": "stderr",
     "output_type": "stream",
     "text": [
      "\n",
      "100%|██████████| 1/1 [00:00<00:00, 16.61it/s]"
     ]
    },
    {
     "name": "stdout",
     "output_type": "stream",
     "text": [
      "\n",
      "Processing #333 - PAGES2kv2_Asia-MTASMD_Asi_109:trsgi ...\n",
      "PRYSM >>> forward with prysm.vslite ...\n",
      "PRYSM >>> Using R libs from: /home/fzhu/R/x86_64-pc-linux-gnu-library/3.4\n",
      "PRYSM >>> T1=7.866, T2=13.246, M1=0.053, M2=0.169\n",
      "PRYSM >>> Target: (43.77, 142.55); Found: (44.53, 142.50)\n"
     ]
    },
    {
     "name": "stderr",
     "output_type": "stream",
     "text": [
      "\n",
      "100%|██████████| 1/1 [00:00<00:00, 16.60it/s]"
     ]
    },
    {
     "name": "stdout",
     "output_type": "stream",
     "text": [
      "\n",
      "Processing #334 - PAGES2kv2_NAm-co633_NAm_171:trsgi ...\n",
      "PRYSM >>> forward with prysm.vslite ...\n",
      "PRYSM >>> Using R libs from: /home/fzhu/R/x86_64-pc-linux-gnu-library/3.4\n",
      "PRYSM >>> T1=7.856, T2=15.075, M1=0.001, M2=0.308\n",
      "PRYSM >>> Target: (40.6, 254.2); Found: (40.74, 255.00)\n"
     ]
    },
    {
     "name": "stderr",
     "output_type": "stream",
     "text": [
      "\n",
      "100%|██████████| 1/1 [00:00<00:00, 16.43it/s]"
     ]
    },
    {
     "name": "stdout",
     "output_type": "stream",
     "text": [
      "\n",
      "Processing #335 - PAGES2kv2_Asia-DAYNLS_Asi_144:trsgi ...\n",
      "PRYSM >>> forward with prysm.vslite ...\n",
      "PRYSM >>> Using R libs from: /home/fzhu/R/x86_64-pc-linux-gnu-library/3.4\n",
      "PRYSM >>> T1=8.317, T2=18.042, M1=0.033, M2=0.101\n",
      "PRYSM >>> Target: (48.27, 88.87); Found: (48.32, 90.00)\n"
     ]
    },
    {
     "name": "stderr",
     "output_type": "stream",
     "text": [
      "\n",
      "100%|██████████| 1/1 [00:00<00:00, 16.13it/s]"
     ]
    },
    {
     "name": "stdout",
     "output_type": "stream",
     "text": [
      "\n",
      "Processing #336 - PAGES2kv2_Asia-KMD_Asi_120:trsgi ...\n",
      "PRYSM >>> forward with prysm.vslite ...\n",
      "PRYSM >>> Using R libs from: /home/fzhu/R/x86_64-pc-linux-gnu-library/3.4\n",
      "PRYSM >>> T1=8.041, T2=12.085, M1=0.023, M2=0.159\n",
      "PRYSM >>> Target: (33.73, 133.12); Found: (33.16, 132.50)\n"
     ]
    },
    {
     "name": "stderr",
     "output_type": "stream",
     "text": [
      "\n",
      "100%|██████████| 1/1 [00:00<00:00, 17.10it/s]"
     ]
    },
    {
     "name": "stdout",
     "output_type": "stream",
     "text": [
      "\n",
      "Processing #337 - PAGES2kv2_NAm-cana443_NAm_159:trsgi ...\n",
      "PRYSM >>> forward with prysm.vslite ...\n",
      "PRYSM >>> Using R libs from: /home/fzhu/R/x86_64-pc-linux-gnu-library/3.4\n",
      "PRYSM >>> T1=3.846, T2=11.550, M1=0.049, M2=0.386\n",
      "PRYSM >>> Target: (50.9, 244.8); Found: (50.21, 245.00)\n"
     ]
    },
    {
     "name": "stderr",
     "output_type": "stream",
     "text": [
      "\n",
      "100%|██████████| 1/1 [00:00<00:00, 17.25it/s]"
     ]
    },
    {
     "name": "stdout",
     "output_type": "stream",
     "text": [
      "\n",
      "Processing #338 - PAGES2kv2_Asia-JANCD_Asi_107:trsgi ...\n",
      "PRYSM >>> forward with prysm.vslite ...\n",
      "PRYSM >>> Using R libs from: /home/fzhu/R/x86_64-pc-linux-gnu-library/3.4\n",
      "PRYSM >>> T1=5.210, T2=13.274, M1=0.037, M2=0.417\n",
      "PRYSM >>> Target: (31.37, 78.17); Found: (31.26, 77.50)\n"
     ]
    },
    {
     "name": "stderr",
     "output_type": "stream",
     "text": [
      "\n",
      "100%|██████████| 1/1 [00:00<00:00, 16.00it/s]"
     ]
    },
    {
     "name": "stdout",
     "output_type": "stream",
     "text": [
      "\n",
      "Processing #339 - PAGES2kv2_Asia-NLTJUE_Asi_208:trsgi ...\n",
      "PRYSM >>> forward with prysm.vslite ...\n",
      "PRYSM >>> Using R libs from: /home/fzhu/R/x86_64-pc-linux-gnu-library/3.4\n",
      "PRYSM >>> T1=3.043, T2=11.668, M1=0.080, M2=0.422\n",
      "PRYSM >>> Target: (36.15, 74.18); Found: (36.95, 75.00)\n"
     ]
    },
    {
     "name": "stderr",
     "output_type": "stream",
     "text": [
      "\n",
      "100%|██████████| 1/1 [00:00<00:00, 17.18it/s]"
     ]
    },
    {
     "name": "stdout",
     "output_type": "stream",
     "text": [
      "\n",
      "Processing #340 - PAGES2kv2_Asia-DLH1_Asi_084:trsgi ...\n",
      "PRYSM >>> forward with prysm.vslite ...\n",
      "PRYSM >>> Using R libs from: /home/fzhu/R/x86_64-pc-linux-gnu-library/3.4\n",
      "PRYSM >>> T1=7.786, T2=12.559, M1=0.023, M2=0.398\n",
      "PRYSM >>> Target: (37.47, 97.23); Found: (36.95, 97.50)\n"
     ]
    },
    {
     "name": "stderr",
     "output_type": "stream",
     "text": [
      "\n",
      "100%|██████████| 1/1 [00:00<00:00, 17.23it/s]"
     ]
    },
    {
     "name": "stdout",
     "output_type": "stream",
     "text": [
      "\n",
      "Processing #341 - PAGES2kv2_NAm-cana029_NAm_112:trsgi ...\n",
      "PRYSM >>> forward with prysm.vslite ...\n",
      "PRYSM >>> Using R libs from: /home/fzhu/R/x86_64-pc-linux-gnu-library/3.4\n",
      "PRYSM >>> T1=3.850, T2=19.637, M1=0.013, M2=0.117\n",
      "PRYSM >>> Target: (68.6, 221.4); Found: (69.16, 222.50)\n"
     ]
    },
    {
     "name": "stderr",
     "output_type": "stream",
     "text": [
      "\n",
      "100%|██████████| 1/1 [00:00<00:00, 16.88it/s]"
     ]
    },
    {
     "name": "stdout",
     "output_type": "stream",
     "text": [
      "\n",
      "Processing #342 - PAGES2kv2_Asia-CHEPCS_Asi_194:trsgi ...\n",
      "PRYSM >>> forward with prysm.vslite ...\n",
      "PRYSM >>> Using R libs from: /home/fzhu/R/x86_64-pc-linux-gnu-library/3.4\n",
      "PRYSM >>> T1=6.415, T2=15.840, M1=0.089, M2=0.374\n",
      "PRYSM >>> Target: (35.03, 74.58); Found: (35.05, 75.00)\n"
     ]
    },
    {
     "name": "stderr",
     "output_type": "stream",
     "text": [
      "\n",
      "100%|██████████| 1/1 [00:00<00:00, 15.46it/s]"
     ]
    },
    {
     "name": "stdout",
     "output_type": "stream",
     "text": [
      "\n",
      "Processing #343 - PAGES2kv2_Asia-SAT3JU_Asi_212:trsgi ...\n",
      "PRYSM >>> forward with prysm.vslite ...\n",
      "PRYSM >>> Using R libs from: /home/fzhu/R/x86_64-pc-linux-gnu-library/3.4\n",
      "PRYSM >>> T1=3.974, T2=19.164, M1=0.089, M2=0.308\n",
      "PRYSM >>> Target: (35.17, 75.5); Found: (35.05, 75.00)\n"
     ]
    },
    {
     "name": "stderr",
     "output_type": "stream",
     "text": [
      "\n",
      "100%|██████████| 1/1 [00:00<00:00, 16.18it/s]"
     ]
    },
    {
     "name": "stdout",
     "output_type": "stream",
     "text": [
      "\n",
      "Processing #344 - PAGES2kv2_Asia-CILAUP_Asi_227:trsgi ...\n",
      "PRYSM >>> forward with prysm.vslite ...\n",
      "PRYSM >>> Using R libs from: /home/fzhu/R/x86_64-pc-linux-gnu-library/3.4\n",
      "PRYSM >>> T1=6.206, T2=11.512, M1=0.038, M2=0.448\n",
      "PRYSM >>> Target: (24.53, 121.38); Found: (23.68, 122.50)\n"
     ]
    },
    {
     "name": "stderr",
     "output_type": "stream",
     "text": [
      "\n",
      "100%|██████████| 1/1 [00:00<00:00, 16.23it/s]"
     ]
    },
    {
     "name": "stdout",
     "output_type": "stream",
     "text": [
      "\n",
      "Processing #345 - PAGES2kv2_Asia-BAG4JU_Asi_188:trsgi ...\n",
      "PRYSM >>> forward with prysm.vslite ...\n",
      "PRYSM >>> Using R libs from: /home/fzhu/R/x86_64-pc-linux-gnu-library/3.4\n",
      "PRYSM >>> T1=3.398, T2=16.647, M1=0.079, M2=0.170\n",
      "PRYSM >>> Target: (36.03, 74.58); Found: (36.95, 75.00)\n"
     ]
    },
    {
     "name": "stderr",
     "output_type": "stream",
     "text": [
      "\n",
      "100%|██████████| 1/1 [00:00<00:00, 16.85it/s]"
     ]
    },
    {
     "name": "stdout",
     "output_type": "stream",
     "text": [
      "\n",
      "Processing #346 - PAGES2kv2_NAm-cana438_NAm_157:trsgi ...\n",
      "PRYSM >>> forward with prysm.vslite ...\n",
      "PRYSM >>> Using R libs from: /home/fzhu/R/x86_64-pc-linux-gnu-library/3.4\n",
      "PRYSM >>> T1=4.051, T2=11.203, M1=0.064, M2=0.189\n",
      "PRYSM >>> Target: (50.6, 245.0); Found: (50.21, 245.00)\n"
     ]
    },
    {
     "name": "stderr",
     "output_type": "stream",
     "text": [
      "\n",
      "100%|██████████| 1/1 [00:00<00:00, 17.03it/s]"
     ]
    },
    {
     "name": "stdout",
     "output_type": "stream",
     "text": [
      "\n",
      "Processing #347 - PAGES2kv2_NAm-mt112_NAm_044:trsgi ...\n",
      "PRYSM >>> forward with prysm.vslite ...\n",
      "PRYSM >>> Using R libs from: /home/fzhu/R/x86_64-pc-linux-gnu-library/3.4\n",
      "PRYSM >>> T1=6.203, T2=17.646, M1=0.034, M2=0.402\n",
      "PRYSM >>> Target: (45.3, 248.7); Found: (44.53, 247.50)\n"
     ]
    },
    {
     "name": "stderr",
     "output_type": "stream",
     "text": [
      "\n"
     ]
    },
    {
     "name": "stdout",
     "output_type": "stream",
     "text": [
      "\n",
      "pid=32746 >>> Saving Ye to /home/fzhu/SynologyDrive/Dev/Github/sLMR/slmr/LMRt/data/Ye_prysm_tree_trw.npz\n",
      "CPU times: user 1min 34s, sys: 2.78 s, total: 1min 37s\n",
      "Wall time: 1min 39s\n"
     ]
    }
   ],
   "source": [
    "%%time\n",
    "prior_filesdict = {\n",
    "    'tas': os.path.join(dirpath, tas_filename),\n",
    "    'pr': os.path.join(dirpath, pr_filename),\n",
    "}\n",
    "\n",
    "ye_savepath =  '/home/fzhu/SynologyDrive/Dev/Github/sLMR/slmr/LMRt/data/Ye_prysm_tree_trw.npz'\n",
    "\n",
    "job.build_ye_files(\n",
    "    'Tree Rings_WidthPages2',\n",
    "    'prysm.vslite',\n",
    "    prior_filesdict, ye_savepath,\n",
    "    Rlib_path='/home/fzhu/R/x86_64-pc-linux-gnu-library/3.4',\n",
    "    vslite_params_path='/home/fzhu/SynologyDrive/Dev/Github/sLMR/slmr/LMRt/data/trw_calib/LMRdb_trw_params.pkl',\n",
    "    verbose=True\n",
    ")"
   ]
  },
  {
   "cell_type": "code",
   "execution_count": 8,
   "metadata": {},
   "outputs": [
    {
     "name": "stdout",
     "output_type": "stream",
     "text": [
      "prysm.vslite\n",
      "None\n"
     ]
    }
   ],
   "source": [
    "print(job.proxy_manager.all_proxies[0].psm_obj.psm_key)\n",
    "print(job.proxy_manager.all_proxies[0].psm_obj.R)"
   ]
  },
  {
   "cell_type": "markdown",
   "metadata": {},
   "source": [
    "### Build Ye for ice core d18O"
   ]
  },
  {
   "cell_type": "code",
   "execution_count": 18,
   "metadata": {},
   "outputs": [
    {
     "name": "stdout",
     "output_type": "stream",
     "text": [
      "pid=12987 >>> Loading [tas] from /home/fzhu/SynologyDrive/Dev/Github/LMRv2/input/data/model/icesm_last_millennium/tas_sfc_Amon_iCESM_past1000_085001-184912.nc ...\n",
      "pid=12987 >>> Loading [pr] from /home/fzhu/SynologyDrive/Dev/Github/LMRv2/input/data/model/icesm_last_millennium/pr_sfc_Amon_iCESM_past1000_085001-184912.nc ...\n",
      "pid=12987 >>> Loading [psl] from /home/fzhu/SynologyDrive/Dev/Github/LMRv2/input/data/model/icesm_last_millennium/psl_sfc_Amon_iCESM_past1000_085001-184912.nc ...\n",
      "pid=12987 >>> Loading [d18O] from /home/fzhu/SynologyDrive/Dev/Github/LMRv2/input/data/model/icesm_last_millennium/d18O_sfc_Amon_iCESM_past1000_085001-184912.nc ...\n",
      "\n",
      "Processing #1 - PAGES2kv2_Ant-SiteDML07.Graf.2000_Ant_020:d18O ...\n",
      "PRYSM >>> forward with prysm.ice.d18O ...\n",
      "PRYSM >>> Target: (-75.58, 356.57); Found: (-74.84, 357.50)\n",
      "Warning: convolution kernal length (zp) is approaching that of half the length of timeseries. Kernal being clipped.\n",
      "\n",
      "Processing #2 - PAGES2kv2_Ant-PlateauRemot.Cole-Dai.1996_Ant_003:d18O ...\n",
      "PRYSM >>> forward with prysm.ice.d18O ...\n",
      "PRYSM >>> Target: (-84.0, 43.0); Found: (-84.32, 42.50)\n",
      "Warning: convolution kernal length (zp) is approaching that of half the length of timeseries. Kernal being clipped.\n",
      "\n",
      "Processing #3 - PAGES2kv2_Arc-NGRIP1.Vinther.2006_Arc_032:d18O ...\n",
      "PRYSM >>> forward with prysm.ice.d18O ...\n",
      "PRYSM >>> Target: (75.1, 317.68); Found: (74.84, 317.50)\n",
      "Warning: convolution kernal length (zp) is approaching that of half the length of timeseries. Kernal being clipped.\n",
      "\n",
      "Processing #4 - PAGES2kv2_Arc-GISP2.Grootes.1997_Arc_011:d18O ...\n",
      "PRYSM >>> forward with prysm.ice.d18O ...\n",
      "PRYSM >>> Target: (72.1, 321.92); Found: (72.95, 322.50)\n",
      "Warning: convolution kernal length (zp) is approaching that of half the length of timeseries. Kernal being clipped.\n",
      "\n",
      "Processing #5 - PAGES2kv2_Ant-SipleStation.Mosley-Thompson.1990_Ant_011:d18O ...\n",
      "PRYSM >>> forward with prysm.ice.d18O ...\n",
      "PRYSM >>> Target: (-75.92, 275.75); Found: (-76.74, 275.00)\n",
      "Warning: convolution kernal length (zp) is approaching that of half the length of timeseries. Kernal being clipped.\n",
      "\n",
      "Processing #6 - PAGES2kv2_Ant-DomeF.Motizuki.2014_Ant_016:d18O ...\n",
      "PRYSM >>> forward with prysm.ice.d18O ...\n",
      "PRYSM >>> Target: (-77.32, 39.7); Found: (-76.74, 40.00)\n",
      "Warning: convolution kernal length (zp) is approaching that of half the length of timeseries. Kernal being clipped.\n",
      "\n",
      "Processing #7 - PAGES2kv2_Ant-USITASE20024.Steig.2013_Ant_024:d18O ...\n",
      "PRYSM >>> forward with prysm.ice.d18O ...\n",
      "PRYSM >>> Target: (-86.5, 252.01); Found: (-86.21, 252.50)\n",
      "Warning: convolution kernal length (zp) is approaching that of half the length of timeseries. Kernal being clipped.\n",
      "\n",
      "Processing #8 - PAGES2kv2_Arc-WindyDome.2010.Kinnard_Arc_078:d18O ...\n",
      "PRYSM >>> forward with prysm.ice.d18O ...\n",
      "PRYSM >>> Target: (80.783, 65.63); Found: (80.53, 65.00)\n",
      "Warning: convolution kernal length (zp) is approaching that of half the length of timeseries. Kernal being clipped.\n",
      "\n",
      "Processing #9 - PAGES2kv2_SAm-QuelccayaIce.Thompson.2013_SAm_026:d18O ...\n",
      "PRYSM >>> forward with prysm.ice.d18O ...\n",
      "PRYSM >>> Target: (-13.9333, 289.1667); Found: (-14.21, 290.00)\n",
      "\n",
      "Processing #10 - PAGES2kv2_Arc-Lomonosovfon.Divine.2013_Arc_072:d18O1 ...\n",
      "PRYSM >>> forward with prysm.ice.d18O ...\n",
      "PRYSM >>> Target: (78.8647, 17.425); Found: (78.63, 17.50)\n",
      "Warning: convolution kernal length (zp) is approaching that of half the length of timeseries. Kernal being clipped.\n",
      "\n",
      "Processing #11 - PAGES2kv2_Ant-SiteDML05.Graf.2000_Ant_005:d18O ...\n",
      "PRYSM >>> forward with prysm.ice.d18O ...\n",
      "PRYSM >>> Target: (-75.0, 359.99); Found: (-74.84, 357.50)\n",
      "Warning: convolution kernal length (zp) is approaching that of half the length of timeseries. Kernal being clipped.\n",
      "\n",
      "Processing #12 - PAGES2kv2_Arc-Dye.Vinther.2010_Arc_035:d18O ...\n",
      "PRYSM >>> forward with prysm.ice.d18O ...\n",
      "PRYSM >>> Target: (65.18, 316.17); Found: (65.37, 315.00)\n",
      "\n",
      "Processing #13 - PAGES2kv2_Arc-GRIP.Vinther.2010_Arc_036:d18O ...\n",
      "PRYSM >>> forward with prysm.ice.d18O ...\n",
      "PRYSM >>> Target: (72.58, 322.36); Found: (72.95, 322.50)\n",
      "Warning: convolution kernal length (zp) is approaching that of half the length of timeseries. Kernal being clipped.\n",
      "\n",
      "Processing #14 - PAGES2kv2_Ant-USITASE20001.Steig.2013_Ant_008:d18O ...\n",
      "PRYSM >>> forward with prysm.ice.d18O ...\n",
      "PRYSM >>> Target: (-79.3838, 248.76); Found: (-78.63, 250.00)\n",
      "Warning: convolution kernal length (zp) is approaching that of half the length of timeseries. Kernal being clipped.\n",
      "\n",
      "Processing #15 - PAGES2kv2_Arc-NGTB21.Fischer.1998_Arc_029:d18O ...\n",
      "PRYSM >>> forward with prysm.ice.d18O ...\n",
      "PRYSM >>> Target: (80.0, 318.86); Found: (80.53, 320.00)\n",
      "Warning: convolution kernal length (zp) is approaching that of half the length of timeseries. Kernal being clipped.\n",
      "\n",
      "Processing #16 - PAGES2kv2_Arc-NGTB16.Fischer.1998_Arc_027:d18O ...\n",
      "PRYSM >>> forward with prysm.ice.d18O ...\n",
      "PRYSM >>> Target: (73.94, 322.37); Found: (74.84, 322.50)\n",
      "Warning: convolution kernal length (zp) is approaching that of half the length of timeseries. Kernal being clipped.\n",
      "\n",
      "Processing #17 - PAGES2kv2_Ant-WDC05A.Steig.2013_Ant_006:d18O ...\n",
      "PRYSM >>> forward with prysm.ice.d18O ...\n",
      "PRYSM >>> Target: (-79.46, 247.91); Found: (-78.63, 247.50)\n",
      "Warning: convolution kernal length (zp) is approaching that of half the length of timeseries. Kernal being clipped.\n",
      "\n",
      "Processing #18 - PAGES2kv2_Arc-Agassiz.Vinther.2008_Arc_033:d18O ...\n",
      "PRYSM >>> forward with prysm.ice.d18O ...\n",
      "PRYSM >>> Target: (80.7, 286.9); Found: (80.53, 287.50)\n",
      "Warning: convolution kernal length (zp) is approaching that of half the length of timeseries. Kernal being clipped.\n",
      "\n",
      "Processing #19 - PAGES2kv2_Arc-NGTB18.Fischer.1998_Arc_028:d18O ...\n",
      "PRYSM >>> forward with prysm.ice.d18O ...\n",
      "PRYSM >>> Target: (76.62, 323.6); Found: (76.74, 322.50)\n",
      "Warning: convolution kernal length (zp) is approaching that of half the length of timeseries. Kernal being clipped.\n",
      "\n",
      "Processing #20 - PAGES2kv2_Ant-DSS.Moy.2012_Ant_002:d18O ...\n",
      "PRYSM >>> forward with prysm.ice.d18O ...\n",
      "PRYSM >>> Target: (-66.77, 112.807); Found: (-67.26, 112.50)\n",
      "Warning: convolution kernal length (zp) is approaching that of half the length of timeseries. Kernal being clipped.\n",
      "\n",
      "Processing #21 - PAGES2kv2_Ant-CoastalDML.Thamban.2006_Ant_004:d18O ...\n",
      "PRYSM >>> forward with prysm.ice.d18O ...\n",
      "PRYSM >>> Target: (-70.86, 11.54); Found: (-71.05, 12.50)\n",
      "Warning: convolution kernal length (zp) is approaching that of half the length of timeseries. Kernal being clipped.\n",
      "\n",
      "Processing #22 - PAGES2kv2_Arc-Crete.Vinther.2010_Arc_034:d18O ...\n",
      "PRYSM >>> forward with prysm.ice.d18O ...\n",
      "PRYSM >>> Target: (71.12, 322.68); Found: (71.05, 322.50)\n",
      "Warning: convolution kernal length (zp) is approaching that of half the length of timeseries. Kernal being clipped.\n",
      "\n",
      "Processing #23 - PAGES2kv2_Ant-SiteDML17.Graf.2000_Ant_021:d18O ...\n",
      "PRYSM >>> forward with prysm.ice.d18O ...\n",
      "PRYSM >>> Target: (-75.17, 6.5); Found: (-74.84, 7.50)\n",
      "Warning: convolution kernal length (zp) is approaching that of half the length of timeseries. Kernal being clipped.\n",
      "\n",
      "Processing #24 - PAGES2kv2_Ant-BerknerIslan.Mulvaney.2002_Ant_012:d18O ...\n",
      "PRYSM >>> forward with prysm.ice.d18O ...\n",
      "PRYSM >>> Target: (-79.57, 314.28); Found: (-78.63, 315.00)\n",
      "Warning: convolution kernal length (zp) is approaching that of half the length of timeseries. Kernal being clipped.\n",
      "\n",
      "Processing #25 - PAGES2kv2_Arc-PrinceOfWales.Kinnard.2011_Arc_075:d18O ...\n",
      "PRYSM >>> forward with prysm.ice.d18O ...\n",
      "PRYSM >>> Target: (78.4, 279.6); Found: (78.63, 280.00)\n",
      "Warning: convolution kernal length (zp) is approaching that of half the length of timeseries. Kernal being clipped.\n",
      "\n",
      "Processing #26 - PAGES2kv2_Arc-Austfonna.Isaksson.2005_Arc_018:d18O ...\n",
      "PRYSM >>> forward with prysm.ice.d18O ...\n",
      "PRYSM >>> Target: (79.83, 24.02); Found: (80.53, 25.00)\n",
      "Warning: convolution kernal length (zp) is approaching that of half the length of timeseries. Kernal being clipped.\n",
      "\n",
      "Processing #27 - PAGES2kv2_Ant-WDC06A.Steig.2013_Ant_007:d18O ...\n",
      "PRYSM >>> forward with prysm.ice.d18O ...\n",
      "PRYSM >>> Target: (-79.46, 247.91); Found: (-78.63, 247.50)\n",
      "Warning: convolution kernal length (zp) is approaching that of half the length of timeseries. Kernal being clipped.\n",
      "\n",
      "Processing #28 - PAGES2kv2_Asia-Dasuopu.Thompson.2000_Asi_232:d18O ...\n",
      "PRYSM >>> forward with prysm.ice.d18O ...\n",
      "PRYSM >>> Target: (28.38, 85.72); Found: (27.47, 85.00)\n",
      "\n",
      "Processing #29 - PAGES2kv2_Ant-TaylorDome.Steig.2000_Ant_023:d18O ...\n",
      "PRYSM >>> forward with prysm.ice.d18O ...\n",
      "PRYSM >>> Target: (-77.78, 158.72); Found: (-78.63, 157.50)\n",
      "Warning: convolution kernal length (zp) is approaching that of half the length of timeseries. Kernal being clipped.\n",
      "\n",
      "Processing #30 - PAGES2kv2_Arc-Dansgaard1969_Arc_005:d18O ...\n",
      "PRYSM >>> forward with prysm.ice.d18O ...\n",
      "PRYSM >>> Target: (77.17, 298.87); Found: (76.74, 300.00)\n",
      "Warning: convolution kernal length (zp) is approaching that of half the length of timeseries. Kernal being clipped.\n",
      "\n",
      "Processing #31 - PAGES2kv2_Arc-AkademiiNauk.Opel.2013_Arc_064:d18O ...\n",
      "PRYSM >>> forward with prysm.ice.d18O ...\n",
      "PRYSM >>> Target: (80.52, 94.82); Found: (80.53, 95.00)\n",
      "Warning: convolution kernal length (zp) is approaching that of half the length of timeseries. Kernal being clipped.\n",
      "\n",
      "pid=12987 >>> Saving Ye to /home/fzhu/SynologyDrive/Dev/Github/sLMR/slmr/LMRt/data/Ye_prysm_ice_d18O.npz\n",
      "CPU times: user 37.9 s, sys: 3.14 s, total: 41 s\n",
      "Wall time: 1h 11min 26s\n"
     ]
    }
   ],
   "source": [
    "%%time\n",
    "prior_filesdict = {\n",
    "    'tas': os.path.join(dirpath, tas_filename),\n",
    "    'pr': os.path.join(dirpath, pr_filename),\n",
    "    'psl': os.path.join(dirpath, psl_filename),\n",
    "    'd18O': os.path.join(dirpath, d18O_filename),\n",
    "}\n",
    "\n",
    "ye_savepath =  '/home/fzhu/SynologyDrive/Dev/Github/sLMR/slmr/LMRt/data/Ye_prysm_ice_d18O.npz'\n",
    "\n",
    "job.build_ye_files(\n",
    "    'Ice Cores_d18O',\n",
    "    'prysm.ice.d18O',\n",
    "    prior_filesdict, ye_savepath,\n",
    "     verbose=True\n",
    ")"
   ]
  },
  {
   "cell_type": "markdown",
   "metadata": {},
   "source": [
    "## Build Ye for coral d18O"
   ]
  },
  {
   "cell_type": "code",
   "execution_count": null,
   "metadata": {},
   "outputs": [
    {
     "name": "stdout",
     "output_type": "stream",
     "text": [
      "Loading [sos] from /home/fzhu/SynologyDrive/Dev/Github/LMRv2/input/data/model/icesm_last_millennium/sos_sfc_Omon_iCESM_past1000_085001-184912.nc ...\n"
     ]
    }
   ],
   "source": [
    "%%time\n",
    "prior_filesdict = {\n",
    "    'sos': os.path.join(dirpath, sos_filename),\n",
    "    'tos': os.path.join(dirpath, tos_filename),\n",
    "    'd18Osw': os.path.join(dirpath, d18Osw_filename),\n",
    "}\n",
    "\n",
    "ye_savepath =  '/home/fzhu/SynologyDrive/Dev/Github/sLMR/slmr/LMRt/data/Ye_prysm_coral_d18O.npz'\n",
    "\n",
    "job.build_ye_files(\n",
    "    'Corals and Sclerosponges_d18O',\n",
    "    'prysm.coral.d18O',\n",
    "    prior_filesdict, ye_savepath,\n",
    "    verbose=True\n",
    ")"
   ]
  },
  {
   "cell_type": "code",
   "execution_count": 22,
   "metadata": {},
   "outputs": [
    {
     "name": "stdout",
     "output_type": "stream",
     "text": [
      "(347, 1000)\n"
     ]
    }
   ],
   "source": [
    "# load Ye\n",
    "dirpath = '/home/fzhu/SynologyDrive/Dev/Github/sLMR/slmr/LMRt/data'\n",
    "# ye_filename = '/home/fzhu/SynologyDrive/Dev/Github/sLMR/slmr/LMRt/data/Ye_prysm_tree_trw.npz'\n",
    "ye_filename = '/home/fzhu/SynologyDrive/Dev/Github/sLMR/slmr/LMRt/data/Ye_prysm_tree_trw.npz'\n",
    "# ye_filename = '/home/fzhu/SynologyDrive/Dev/Github/sLMR/slmr/LMRt/data/Ye_prysm_ice_d18O.npz'\n",
    "linear_filename = 'icesm_last_millennium-tas_sfc_Amon-anom_linear_seasonPSM-GISTEMP_ref1951-1980_cal1850-2015_LMRdbv0.4.0.npz'\n",
    "bilinear_filename = 'icesm_last_millennium-pr_sfc_Amon-tas_sfc_Amon-anom_bilinear_seasonPSM-T:GISTEMP-PR:GPCC_ref1951-1980_cal1850-2015_LMRdbv0.4.0.npz'\n",
    "\n",
    "ye = np.load(os.path.join(dirpath, ye_filename))\n",
    "\n",
    "# print(ye['pid_index_map'])\n",
    "print(np.shape(ye['ye_vals']))\n",
    "# print(ye['ye_vals'][0])"
   ]
  },
  {
   "cell_type": "code",
   "execution_count": null,
   "metadata": {},
   "outputs": [],
   "source": []
  }
 ],
 "metadata": {
  "kernelspec": {
   "display_name": "Python 3",
   "language": "python",
   "name": "python3"
  },
  "language_info": {
   "codemirror_mode": {
    "name": "ipython",
    "version": 3
   },
   "file_extension": ".py",
   "mimetype": "text/x-python",
   "name": "python",
   "nbconvert_exporter": "python",
   "pygments_lexer": "ipython3",
   "version": "3.6.8"
  }
 },
 "nbformat": 4,
 "nbformat_minor": 2
}
