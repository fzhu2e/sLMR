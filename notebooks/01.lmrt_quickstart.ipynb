{
 "cells": [
  {
   "cell_type": "markdown",
   "metadata": {},
   "source": [
    "# A quickstart for LMR Turbo (LMRt)"
   ]
  },
  {
   "cell_type": "markdown",
   "metadata": {},
   "source": [
    "In this quickstart, we will demostrate how to use LMR Turbo (LMRt) to perform LMR analysis.\n",
    "First, let's import the packages, among which `LMRt` is the LMR Turbo module, and `visual` is the visualizaion module for results plotting."
   ]
  },
  {
   "cell_type": "code",
   "execution_count": 1,
   "metadata": {},
   "outputs": [],
   "source": [
    "%load_ext autoreload\n",
    "%autoreload 2\n",
    "\n",
    "from slmr import LMRt\n",
    "from slmr import visual as vs\n",
    "\n",
    "from pprint import pprint\n",
    "import os\n",
    "import numpy as np\n",
    "import pandas as pd\n",
    "import pickle\n",
    "import time"
   ]
  },
  {
   "cell_type": "markdown",
   "metadata": {},
   "source": [
    "## Initiate a reconstuction job"
   ]
  },
  {
   "cell_type": "code",
   "execution_count": 2,
   "metadata": {},
   "outputs": [
    {
     "name": "stdout",
     "output_type": "stream",
     "text": [
      "pid=9772 >>> job.cfg created\n"
     ]
    }
   ],
   "source": [
    "job = LMRt.ReconJob()"
   ]
  },
  {
   "cell_type": "markdown",
   "metadata": {},
   "source": [
    "The job.cfg contains the default settings of the job, and we can print it out to have a check"
   ]
  },
  {
   "cell_type": "code",
   "execution_count": 3,
   "metadata": {},
   "outputs": [],
   "source": [
    "# pprint(job.cfg, depth=3)"
   ]
  },
  {
   "cell_type": "markdown",
   "metadata": {},
   "source": [
    "We may also overwrite the default configurations with a yaml file"
   ]
  },
  {
   "cell_type": "code",
   "execution_count": 4,
   "metadata": {},
   "outputs": [
    {
     "name": "stdout",
     "output_type": "stream",
     "text": [
      "pid=9772 >>> job.cfg updated\n"
     ]
    }
   ],
   "source": [
    "job.load_cfg('./cfg/cfg_update.yml')\n",
    "# pprint(job.cfg, depth=3)"
   ]
  },
  {
   "cell_type": "markdown",
   "metadata": {},
   "source": [
    "Or we may just use dot notation to update the specific configurations.\n",
    "This way is much cleaner as every setting is explicitly listed in this Jupyter notebook.\n",
    "Therefore, we recommend the users to follow this way."
   ]
  },
  {
   "cell_type": "code",
   "execution_count": 5,
   "metadata": {},
   "outputs": [],
   "source": [
    "# let's update the number of ensemble members\n",
    "job.cfg.core.nens = 100\n",
    "# pprint(job.cfg, depth=3)"
   ]
  },
  {
   "cell_type": "markdown",
   "metadata": {},
   "source": [
    "That's it for configuration.\n",
    "Let's move on to loading prior."
   ]
  },
  {
   "cell_type": "markdown",
   "metadata": {},
   "source": [
    "## Load prior"
   ]
  },
  {
   "cell_type": "markdown",
   "metadata": {},
   "source": [
    "It is easy to load prior in LMRt.\n",
    "We don't have to maintain a certain directory structure nor certain filenames.\n",
    "Instead, we just feed the correct file, whereever it is."
   ]
  },
  {
   "cell_type": "code",
   "execution_count": 6,
   "metadata": {},
   "outputs": [
    {
     "name": "stdout",
     "output_type": "stream",
     "text": [
      "Reading file: /home/fzhu/SynologyDrive/Dev/Github/LMRv2/input/data/model/icesm_last_millennium/tas_sfc_Amon_iCESM_past1000_085001-184912.nc\n",
      "Anomalies provided as the prior: Removing the temporal mean (for every gridpoint)...\n",
      "tas: Global(monthly): mean=6.791441364839557e-07, std-dev=0.8304356932640076\n",
      "State vector information:\n",
      "{'tas_sfc_Amon': {'pos': (0, 13823), 'spacecoords': ('lat', 'lon'), 'spacedims': (96, 144), 'vartype': '2D:horizontal'}}\n",
      "shape of Xb: (13824 x 100)\n",
      "seed= 0\n",
      "sampled inds= [864, 394, 776, 911, 430, 41, 265, 988, 523, 497, 414, 940, 802, 849, 310, 488, 366, 597, 913, 929, 223, 516, 142, 288, 143, 773, 97, 633, 818, 256, 931, 545, 722, 829, 616, 923, 150, 317, 101, 747, 75, 920, 870, 700, 338, 483, 573, 103, 362, 444, 323, 625, 655, 934, 209, 565, 984, 453, 886, 533, 266, 63, 824, 561, 14, 95, 736, 860, 408, 727, 844, 803, 684, 640, 1, 626, 505, 847, 888, 341, 249, 960, 333, 720, 891, 64, 195, 581, 227, 244, 822, 145, 909, 556, 458, 93, 82, 327, 896, 520]\n",
      "pid=9772 >>> job.prior created\n",
      "pid=9772 >>> job.prior regridded\n"
     ]
    }
   ],
   "source": [
    "filepath='/home/fzhu/SynologyDrive/Dev/Github/LMRv2/input/data/model/icesm_last_millennium/tas_sfc_Amon_iCESM_past1000_085001-184912.nc'\n",
    "job.load_prior(filepath, verbose=True, seed=0)"
   ]
  },
  {
   "cell_type": "markdown",
   "metadata": {},
   "source": [
    "Now the object `job.prior` is created, and we can check prior values by `pprint` the `job.prior.prior_dict`"
   ]
  },
  {
   "cell_type": "code",
   "execution_count": 7,
   "metadata": {},
   "outputs": [],
   "source": [
    "# pprint(job.prior.prior_dict)"
   ]
  },
  {
   "cell_type": "markdown",
   "metadata": {},
   "source": [
    "## Load proxies"
   ]
  },
  {
   "cell_type": "markdown",
   "metadata": {},
   "source": [
    "Similarly, to load proxies, we need to feed the correct files by specifying their paths."
   ]
  },
  {
   "cell_type": "code",
   "execution_count": 8,
   "metadata": {},
   "outputs": [
    {
     "name": "stdout",
     "output_type": "stream",
     "text": [
      "pid=9772 >>> job.proxy_manager created\n",
      "479\n",
      "359\n",
      "120\n"
     ]
    }
   ],
   "source": [
    "dirpath = '/home/fzhu/SynologyDrive/Dev/Github/sLMR/slmr/LMRt/data'\n",
    "\n",
    "db_proxies_filename = 'LMRdb_v0.4.0_Proxies.df.pckl'\n",
    "db_metadata_filename = 'LMRdb_v0.4.0_Metadata.df.pckl'\n",
    "linear_precalib_filename = 'PSMs_LMRdb_v0.4.0_seasonPSM_GISTEMP_ref1951-1980_cal1850-2015.pckl'\n",
    "bilinear_precalib_filename = 'PSMs_LMRdb_v0.4.0_seasonPSM_GISTEMP_GPCC_ref1951-1980_cal1850-2015.pckl'\n",
    "\n",
    "precalib_filesdict = {\n",
    "    'linear': os.path.join(dirpath, linear_precalib_filename),\n",
    "    'bilinear': os.path.join(dirpath, bilinear_precalib_filename),\n",
    "}\n",
    "\n",
    "job.load_proxies(\n",
    "    os.path.join(dirpath, db_proxies_filename),\n",
    "    os.path.join(dirpath, db_metadata_filename),\n",
    "    precalib_filesdict=precalib_filesdict,\n",
    "    seed=0, verbose=False,\n",
    ")\n",
    "\n",
    "print(len(job.proxy_manager.all_proxies))\n",
    "print(len(job.proxy_manager.ind_assim))\n",
    "print(len(job.proxy_manager.ind_eval))"
   ]
  },
  {
   "cell_type": "markdown",
   "metadata": {},
   "source": [
    "## Load Ye"
   ]
  },
  {
   "cell_type": "markdown",
   "metadata": {},
   "source": [
    "Now let's load the pre-calculated Ye files"
   ]
  },
  {
   "cell_type": "code",
   "execution_count": 9,
   "metadata": {},
   "outputs": [
    {
     "name": "stdout",
     "output_type": "stream",
     "text": [
      "-------------------------------------------\n",
      "Loading Ye files for proxy set: assim\n",
      "-------------------------------------------\n",
      "Loading precalculated Ye from:\n",
      " /home/fzhu/SynologyDrive/Dev/Github/sLMR/slmr/LMRt/data/icesm_last_millennium-tas_sfc_Amon-anom_linear_seasonPSM-GISTEMP_ref1951-1980_cal1850-2015_LMRdbv0.4.0.npz\n",
      "\n",
      "Loading precalculated Ye from:\n",
      " /home/fzhu/SynologyDrive/Dev/Github/sLMR/slmr/LMRt/data/icesm_last_millennium-pr_sfc_Amon-tas_sfc_Amon-anom_bilinear_seasonPSM-T:GISTEMP-PR:GPCC_ref1951-1980_cal1850-2015_LMRdbv0.4.0.npz\n",
      "\n",
      "Now extracting proxy type-dependent Ye values...\n",
      "\n",
      "-------------------------------------------\n",
      "Loading Ye files for proxy set: eval\n",
      "-------------------------------------------\n",
      "Loading precalculated Ye from:\n",
      " /home/fzhu/SynologyDrive/Dev/Github/sLMR/slmr/LMRt/data/icesm_last_millennium-tas_sfc_Amon-anom_linear_seasonPSM-GISTEMP_ref1951-1980_cal1850-2015_LMRdbv0.4.0.npz\n",
      "\n",
      "Loading precalculated Ye from:\n",
      " /home/fzhu/SynologyDrive/Dev/Github/sLMR/slmr/LMRt/data/icesm_last_millennium-pr_sfc_Amon-tas_sfc_Amon-anom_bilinear_seasonPSM-T:GISTEMP-PR:GPCC_ref1951-1980_cal1850-2015_LMRdbv0.4.0.npz\n",
      "\n",
      "Now extracting proxy type-dependent Ye values...\n",
      "\n",
      "pid=9772 >>> job.ye created\n"
     ]
    }
   ],
   "source": [
    "dirpath = '/home/fzhu/SynologyDrive/Dev/Github/sLMR/slmr/LMRt/data'\n",
    "linear_filename = 'icesm_last_millennium-tas_sfc_Amon-anom_linear_seasonPSM-GISTEMP_ref1951-1980_cal1850-2015_LMRdbv0.4.0.npz'\n",
    "bilinear_filename = 'icesm_last_millennium-pr_sfc_Amon-tas_sfc_Amon-anom_bilinear_seasonPSM-T:GISTEMP-PR:GPCC_ref1951-1980_cal1850-2015_LMRdbv0.4.0.npz'\n",
    "\n",
    "ye_filesdict = {\n",
    "    'linear': os.path.join(dirpath, linear_filename),\n",
    "    'bilinear': os.path.join(dirpath, bilinear_filename),\n",
    "}\n",
    "\n",
    "job.load_ye_files(ye_filesdict, verbose=True)"
   ]
  },
  {
   "cell_type": "markdown",
   "metadata": {},
   "source": [
    "## Perform the data assimilation procedure"
   ]
  },
  {
   "cell_type": "markdown",
   "metadata": {},
   "source": [
    "Now it's time to perform the data assimilation procedure.\n",
    "Currently there are two Kalman Filter solvers: one is from the normal LMR program `job.run_da`, which is correct but very slow, and another is from LMRlite `job.run_da_lite`, which is much faster but yields incorrect results, and we are still working on it."
   ]
  },
  {
   "cell_type": "code",
   "execution_count": 11,
   "metadata": {},
   "outputs": [
    {
     "name": "stderr",
     "output_type": "stream",
     "text": [
      "KF updating (pid=5617):   0%|          | 2/2000 [00:00<02:39, 12.50it/s]"
     ]
    },
    {
     "name": "stdout",
     "output_type": "stream",
     "text": [
      "pid=5617 >>> Recon. period: 0...2000\n"
     ]
    },
    {
     "name": "stderr",
     "output_type": "stream",
     "text": [
      "KF updating (pid=5617): 100%|██████████| 2000/2000 [02:52<00:00,  8.83it/s]"
     ]
    },
    {
     "name": "stdout",
     "output_type": "stream",
     "text": [
      "pid=5617 >>> job.da created\n",
      "CPU times: user 16min 2s, sys: 962 ms, total: 16min 3s\n",
      "Wall time: 2min 52s\n"
     ]
    },
    {
     "name": "stderr",
     "output_type": "stream",
     "text": [
      "\n"
     ]
    }
   ],
   "source": [
    "%%time\n",
    "job.run_da_lite(verbose=False)  # using the solver from LMRlite"
   ]
  },
  {
   "cell_type": "markdown",
   "metadata": {},
   "source": [
    "## Monte-Carlo iterations"
   ]
  },
  {
   "cell_type": "markdown",
   "metadata": {},
   "source": [
    "To perform Monte-Carlo iterations, we need to repeat the workflow above with different randomization seeds.\n",
    "Here we have the `job.run()` method to do it conveniently.\n",
    "We can set the paramter `seed` to use different seeds, and set the parameter `mode='normal'` to call the normal LMR solver or `mode='lite'` to call the LMRlite solver."
   ]
  },
  {
   "cell_type": "code",
   "execution_count": 10,
   "metadata": {},
   "outputs": [],
   "source": [
    "# files to use\n",
    "prior_filepath = '/home/fzhu/SynologyDrive/Dev/Github/LMRv2/input/data/model/icesm_last_millennium/tas_sfc_Amon_iCESM_past1000_085001-184912.nc'\n",
    "\n",
    "dirpath = '/home/fzhu/SynologyDrive/Dev/Github/sLMR/slmr/LMRt/data'\n",
    "\n",
    "db_proxies_filename = 'LMRdb_v0.4.0_Proxies.df.pckl'\n",
    "db_metadata_filename = 'LMRdb_v0.4.0_Metadata.df.pckl'\n",
    "db_proxies_filepath = os.path.join(dirpath, db_proxies_filename)\n",
    "db_metadata_filepath = os.path.join(dirpath, db_metadata_filename)\n",
    "\n",
    "linear_precalib_filename = 'PSMs_LMRdb_v0.4.0_seasonPSM_GISTEMP_ref1951-1980_cal1850-2015.pckl'\n",
    "bilinear_precalib_filename = 'PSMs_LMRdb_v0.4.0_seasonPSM_GISTEMP_GPCC_ref1951-1980_cal1850-2015.pckl'\n",
    "precalib_filesdict = {\n",
    "    'linear': os.path.join(dirpath, linear_precalib_filename),\n",
    "    'bilinear': os.path.join(dirpath, bilinear_precalib_filename),\n",
    "}\n",
    "\n",
    "linear_filename = 'icesm_last_millennium-tas_sfc_Amon-anom_linear_seasonPSM-GISTEMP_ref1951-1980_cal1850-2015_LMRdbv0.4.0.npz'\n",
    "bilinear_filename = 'icesm_last_millennium-pr_sfc_Amon-tas_sfc_Amon-anom_bilinear_seasonPSM-T:GISTEMP-PR:GPCC_ref1951-1980_cal1850-2015_LMRdbv0.4.0.npz'\n",
    "ye_filesdict = {\n",
    "    'linear': os.path.join(dirpath, linear_filename),\n",
    "    'bilinear': os.path.join(dirpath, bilinear_filename),\n",
    "}"
   ]
  },
  {
   "cell_type": "code",
   "execution_count": 11,
   "metadata": {},
   "outputs": [
    {
     "name": "stdout",
     "output_type": "stream",
     "text": [
      "(0, 2000)\n"
     ]
    }
   ],
   "source": [
    "print(job.cfg.core.recon_period)"
   ]
  },
  {
   "cell_type": "code",
   "execution_count": 12,
   "metadata": {},
   "outputs": [
    {
     "name": "stdout",
     "output_type": "stream",
     "text": [
      "Seeds=[ 0  1  2  3  4  5  6  7  8  9 10 11 12 13 14 15 16 17 18 19 20 21 22 23\n",
      " 24 25 26 27 28 29 30 31 32 33 34 35 36 37 38 39 40 41 42 43 44 45 46 47\n",
      " 48 49]\n",
      "pid=9772 >>> seed=0\n",
      "pid=9772 >>> job.cfg created\n",
      "pid=9772 >>> job.prior created\n",
      "pid=9772 >>> job.prior regridded\n",
      "pid=9772 >>> job.proxy_manager created\n"
     ]
    },
    {
     "name": "stderr",
     "output_type": "stream",
     "text": [
      "KF updating (pid=9772):   0%|          | 1/2000 [00:00<04:18,  7.72it/s]"
     ]
    },
    {
     "name": "stdout",
     "output_type": "stream",
     "text": [
      "pid=9772 >>> job.ye created\n",
      "\n",
      "pid=9772 >>> Recon. period: [0, 2000)\n"
     ]
    },
    {
     "name": "stderr",
     "output_type": "stream",
     "text": [
      "KF updating (pid=9772): 100%|██████████| 2000/2000 [16:15<00:00,  1.29it/s]\n"
     ]
    },
    {
     "name": "stdout",
     "output_type": "stream",
     "text": [
      "\n",
      "pid=9772 >>> job.da created\n",
      "\n",
      "pid=9772 >>> Saving job.da to: /home/fzhu/SynologyDrive/Dev/Github/sLMR/slmr/LMRt/output/jobs_serial/job_r00.pkl\n",
      "pid=9772 >>> Time used: 16.38677777846654 mins\n",
      "\n",
      "pid=9772 >>> seed=1\n",
      "pid=9772 >>> job.cfg created\n",
      "pid=9772 >>> job.prior created\n",
      "pid=9772 >>> job.prior regridded\n",
      "pid=9772 >>> job.proxy_manager created\n"
     ]
    },
    {
     "name": "stderr",
     "output_type": "stream",
     "text": [
      "KF updating (pid=9772):   0%|          | 1/2000 [00:00<04:08,  8.03it/s]"
     ]
    },
    {
     "name": "stdout",
     "output_type": "stream",
     "text": [
      "pid=9772 >>> job.ye created\n",
      "\n",
      "pid=9772 >>> Recon. period: [0, 2000)\n"
     ]
    },
    {
     "name": "stderr",
     "output_type": "stream",
     "text": [
      "KF updating (pid=9772): 100%|██████████| 2000/2000 [15:39<00:00,  1.25it/s]\n"
     ]
    },
    {
     "name": "stdout",
     "output_type": "stream",
     "text": [
      "\n",
      "pid=9772 >>> job.da created\n",
      "\n",
      "pid=9772 >>> Saving job.da to: /home/fzhu/SynologyDrive/Dev/Github/sLMR/slmr/LMRt/output/jobs_serial/job_r01.pkl\n",
      "pid=9772 >>> Time used: 15.775024247169494 mins\n",
      "\n",
      "pid=9772 >>> seed=2\n",
      "pid=9772 >>> job.cfg created\n",
      "pid=9772 >>> job.prior created\n",
      "pid=9772 >>> job.prior regridded\n",
      "pid=9772 >>> job.proxy_manager created\n"
     ]
    },
    {
     "name": "stderr",
     "output_type": "stream",
     "text": [
      "KF updating (pid=9772):   0%|          | 1/2000 [00:00<04:08,  8.05it/s]"
     ]
    },
    {
     "name": "stdout",
     "output_type": "stream",
     "text": [
      "pid=9772 >>> job.ye created\n",
      "\n",
      "pid=9772 >>> Recon. period: [0, 2000)\n"
     ]
    },
    {
     "name": "stderr",
     "output_type": "stream",
     "text": [
      "KF updating (pid=9772): 100%|██████████| 2000/2000 [15:02<00:00,  1.35it/s]\n"
     ]
    },
    {
     "name": "stdout",
     "output_type": "stream",
     "text": [
      "\n",
      "pid=9772 >>> job.da created\n",
      "\n",
      "pid=9772 >>> Saving job.da to: /home/fzhu/SynologyDrive/Dev/Github/sLMR/slmr/LMRt/output/jobs_serial/job_r02.pkl\n",
      "pid=9772 >>> Time used: 15.166685314973195 mins\n",
      "\n",
      "pid=9772 >>> seed=3\n",
      "pid=9772 >>> job.cfg created\n",
      "pid=9772 >>> job.prior created\n",
      "pid=9772 >>> job.prior regridded\n",
      "pid=9772 >>> job.proxy_manager created\n"
     ]
    },
    {
     "name": "stderr",
     "output_type": "stream",
     "text": [
      "KF updating (pid=9772):   0%|          | 1/2000 [00:00<04:07,  8.07it/s]"
     ]
    },
    {
     "name": "stdout",
     "output_type": "stream",
     "text": [
      "pid=9772 >>> job.ye created\n",
      "\n",
      "pid=9772 >>> Recon. period: [0, 2000)\n"
     ]
    },
    {
     "name": "stderr",
     "output_type": "stream",
     "text": [
      "KF updating (pid=9772): 100%|██████████| 2000/2000 [15:10<00:00,  1.26it/s]\n"
     ]
    },
    {
     "name": "stdout",
     "output_type": "stream",
     "text": [
      "\n",
      "pid=9772 >>> job.da created\n",
      "\n",
      "pid=9772 >>> Saving job.da to: /home/fzhu/SynologyDrive/Dev/Github/sLMR/slmr/LMRt/output/jobs_serial/job_r03.pkl\n",
      "pid=9772 >>> Time used: 15.295465981960296 mins\n",
      "\n",
      "pid=9772 >>> seed=4\n",
      "pid=9772 >>> job.cfg created\n",
      "pid=9772 >>> job.prior created\n",
      "pid=9772 >>> job.prior regridded\n",
      "pid=9772 >>> job.proxy_manager created\n"
     ]
    },
    {
     "name": "stderr",
     "output_type": "stream",
     "text": [
      "KF updating (pid=9772):   0%|          | 1/2000 [00:00<04:35,  7.25it/s]"
     ]
    },
    {
     "name": "stdout",
     "output_type": "stream",
     "text": [
      "pid=9772 >>> job.ye created\n",
      "\n",
      "pid=9772 >>> Recon. period: [0, 2000)\n"
     ]
    },
    {
     "name": "stderr",
     "output_type": "stream",
     "text": [
      "KF updating (pid=9772): 100%|██████████| 2000/2000 [15:23<00:00,  1.32it/s]\n"
     ]
    },
    {
     "name": "stdout",
     "output_type": "stream",
     "text": [
      "\n",
      "pid=9772 >>> job.da created\n",
      "\n",
      "pid=9772 >>> Saving job.da to: /home/fzhu/SynologyDrive/Dev/Github/sLMR/slmr/LMRt/output/jobs_serial/job_r04.pkl\n",
      "pid=9772 >>> Time used: 15.507455857594808 mins\n",
      "\n",
      "pid=9772 >>> seed=5\n",
      "pid=9772 >>> job.cfg created\n",
      "pid=9772 >>> job.prior created\n",
      "pid=9772 >>> job.prior regridded\n",
      "pid=9772 >>> job.proxy_manager created\n"
     ]
    },
    {
     "name": "stderr",
     "output_type": "stream",
     "text": [
      "KF updating (pid=9772):   0%|          | 0/2000 [00:00<?, ?it/s]"
     ]
    },
    {
     "name": "stdout",
     "output_type": "stream",
     "text": [
      "pid=9772 >>> job.ye created\n",
      "\n",
      "pid=9772 >>> Recon. period: [0, 2000)\n"
     ]
    },
    {
     "name": "stderr",
     "output_type": "stream",
     "text": [
      "KF updating (pid=9772): 100%|██████████| 2000/2000 [14:55<00:00,  1.34it/s]\n"
     ]
    },
    {
     "name": "stdout",
     "output_type": "stream",
     "text": [
      "\n",
      "pid=9772 >>> job.da created\n",
      "\n",
      "pid=9772 >>> Saving job.da to: /home/fzhu/SynologyDrive/Dev/Github/sLMR/slmr/LMRt/output/jobs_serial/job_r05.pkl\n",
      "pid=9772 >>> Time used: 15.042424782117207 mins\n",
      "\n",
      "pid=9772 >>> seed=6\n",
      "pid=9772 >>> job.cfg created\n",
      "pid=9772 >>> job.prior created\n",
      "pid=9772 >>> job.prior regridded\n",
      "pid=9772 >>> job.proxy_manager created\n"
     ]
    },
    {
     "name": "stderr",
     "output_type": "stream",
     "text": [
      "KF updating (pid=9772):   0%|          | 1/2000 [00:00<03:50,  8.69it/s]"
     ]
    },
    {
     "name": "stdout",
     "output_type": "stream",
     "text": [
      "pid=9772 >>> job.ye created\n",
      "\n",
      "pid=9772 >>> Recon. period: [0, 2000)\n"
     ]
    },
    {
     "name": "stderr",
     "output_type": "stream",
     "text": [
      "KF updating (pid=9772): 100%|██████████| 2000/2000 [14:40<00:00,  1.37it/s]\n"
     ]
    },
    {
     "name": "stdout",
     "output_type": "stream",
     "text": [
      "\n",
      "pid=9772 >>> job.da created\n",
      "\n",
      "pid=9772 >>> Saving job.da to: /home/fzhu/SynologyDrive/Dev/Github/sLMR/slmr/LMRt/output/jobs_serial/job_r06.pkl\n",
      "pid=9772 >>> Time used: 14.795770295461018 mins\n",
      "\n",
      "pid=9772 >>> seed=7\n",
      "pid=9772 >>> job.cfg created\n",
      "pid=9772 >>> job.prior created\n",
      "pid=9772 >>> job.prior regridded\n",
      "pid=9772 >>> job.proxy_manager created\n"
     ]
    },
    {
     "name": "stderr",
     "output_type": "stream",
     "text": [
      "KF updating (pid=9772):   0%|          | 1/2000 [00:00<03:42,  8.97it/s]"
     ]
    },
    {
     "name": "stdout",
     "output_type": "stream",
     "text": [
      "pid=9772 >>> job.ye created\n",
      "\n",
      "pid=9772 >>> Recon. period: [0, 2000)\n"
     ]
    },
    {
     "name": "stderr",
     "output_type": "stream",
     "text": [
      "KF updating (pid=9772): 100%|██████████| 2000/2000 [15:04<00:00,  1.33it/s]\n"
     ]
    },
    {
     "name": "stdout",
     "output_type": "stream",
     "text": [
      "\n",
      "pid=9772 >>> job.da created\n",
      "\n",
      "pid=9772 >>> Saving job.da to: /home/fzhu/SynologyDrive/Dev/Github/sLMR/slmr/LMRt/output/jobs_serial/job_r07.pkl\n",
      "pid=9772 >>> Time used: 15.187490010261536 mins\n",
      "\n",
      "pid=9772 >>> seed=8\n",
      "pid=9772 >>> job.cfg created\n",
      "pid=9772 >>> job.prior created\n",
      "pid=9772 >>> job.prior regridded\n",
      "pid=9772 >>> job.proxy_manager created\n"
     ]
    },
    {
     "name": "stderr",
     "output_type": "stream",
     "text": [
      "KF updating (pid=9772):   0%|          | 1/2000 [00:00<03:25,  9.74it/s]"
     ]
    },
    {
     "name": "stdout",
     "output_type": "stream",
     "text": [
      "pid=9772 >>> job.ye created\n",
      "\n",
      "pid=9772 >>> Recon. period: [0, 2000)\n"
     ]
    },
    {
     "name": "stderr",
     "output_type": "stream",
     "text": [
      "KF updating (pid=9772): 100%|██████████| 2000/2000 [14:42<00:00,  1.36it/s]\n"
     ]
    },
    {
     "name": "stdout",
     "output_type": "stream",
     "text": [
      "\n",
      "pid=9772 >>> job.da created\n",
      "\n",
      "pid=9772 >>> Saving job.da to: /home/fzhu/SynologyDrive/Dev/Github/sLMR/slmr/LMRt/output/jobs_serial/job_r08.pkl\n",
      "pid=9772 >>> Time used: 14.822443147500357 mins\n",
      "\n",
      "pid=9772 >>> seed=9\n",
      "pid=9772 >>> job.cfg created\n",
      "pid=9772 >>> job.prior created\n",
      "pid=9772 >>> job.prior regridded\n",
      "pid=9772 >>> job.proxy_manager created\n"
     ]
    },
    {
     "name": "stderr",
     "output_type": "stream",
     "text": [
      "KF updating (pid=9772):   0%|          | 1/2000 [00:00<04:21,  7.66it/s]"
     ]
    },
    {
     "name": "stdout",
     "output_type": "stream",
     "text": [
      "pid=9772 >>> job.ye created\n",
      "\n",
      "pid=9772 >>> Recon. period: [0, 2000)\n"
     ]
    },
    {
     "name": "stderr",
     "output_type": "stream",
     "text": [
      "KF updating (pid=9772): 100%|██████████| 2000/2000 [14:54<00:00,  1.31it/s]\n"
     ]
    },
    {
     "name": "stdout",
     "output_type": "stream",
     "text": [
      "\n",
      "pid=9772 >>> job.da created\n",
      "\n",
      "pid=9772 >>> Saving job.da to: /home/fzhu/SynologyDrive/Dev/Github/sLMR/slmr/LMRt/output/jobs_serial/job_r09.pkl\n",
      "pid=9772 >>> Time used: 15.02837187051773 mins\n",
      "\n",
      "pid=9772 >>> seed=10\n",
      "pid=9772 >>> job.cfg created\n",
      "pid=9772 >>> job.prior created\n",
      "pid=9772 >>> job.prior regridded\n",
      "pid=9772 >>> job.proxy_manager created\n"
     ]
    },
    {
     "name": "stderr",
     "output_type": "stream",
     "text": [
      "KF updating (pid=9772):   0%|          | 1/2000 [00:00<04:09,  8.00it/s]"
     ]
    },
    {
     "name": "stdout",
     "output_type": "stream",
     "text": [
      "pid=9772 >>> job.ye created\n",
      "\n",
      "pid=9772 >>> Recon. period: [0, 2000)\n"
     ]
    },
    {
     "name": "stderr",
     "output_type": "stream",
     "text": [
      "KF updating (pid=9772): 100%|██████████| 2000/2000 [14:57<00:00,  1.30it/s]\n"
     ]
    },
    {
     "name": "stdout",
     "output_type": "stream",
     "text": [
      "\n",
      "pid=9772 >>> job.da created\n",
      "\n",
      "pid=9772 >>> Saving job.da to: /home/fzhu/SynologyDrive/Dev/Github/sLMR/slmr/LMRt/output/jobs_serial/job_r10.pkl\n",
      "pid=9772 >>> Time used: 15.072744357585908 mins\n",
      "\n",
      "pid=9772 >>> seed=11\n",
      "pid=9772 >>> job.cfg created\n",
      "pid=9772 >>> job.prior created\n",
      "pid=9772 >>> job.prior regridded\n",
      "pid=9772 >>> job.proxy_manager created\n"
     ]
    },
    {
     "name": "stderr",
     "output_type": "stream",
     "text": [
      "KF updating (pid=9772):   0%|          | 1/2000 [00:00<04:29,  7.42it/s]"
     ]
    },
    {
     "name": "stdout",
     "output_type": "stream",
     "text": [
      "pid=9772 >>> job.ye created\n",
      "\n",
      "pid=9772 >>> Recon. period: [0, 2000)\n"
     ]
    },
    {
     "name": "stderr",
     "output_type": "stream",
     "text": [
      "KF updating (pid=9772): 100%|██████████| 2000/2000 [14:58<00:00,  1.33it/s]\n"
     ]
    },
    {
     "name": "stdout",
     "output_type": "stream",
     "text": [
      "\n",
      "pid=9772 >>> job.da created\n",
      "\n",
      "pid=9772 >>> Saving job.da to: /home/fzhu/SynologyDrive/Dev/Github/sLMR/slmr/LMRt/output/jobs_serial/job_r11.pkl\n",
      "pid=9772 >>> Time used: 15.087587714195251 mins\n",
      "\n",
      "pid=9772 >>> seed=12\n",
      "pid=9772 >>> job.cfg created\n",
      "pid=9772 >>> job.prior created\n",
      "pid=9772 >>> job.prior regridded\n",
      "pid=9772 >>> job.proxy_manager created\n"
     ]
    },
    {
     "name": "stderr",
     "output_type": "stream",
     "text": [
      "KF updating (pid=9772):   0%|          | 1/2000 [00:00<04:07,  8.08it/s]"
     ]
    },
    {
     "name": "stdout",
     "output_type": "stream",
     "text": [
      "pid=9772 >>> job.ye created\n",
      "\n",
      "pid=9772 >>> Recon. period: [0, 2000)\n"
     ]
    },
    {
     "name": "stderr",
     "output_type": "stream",
     "text": [
      "KF updating (pid=9772): 100%|██████████| 2000/2000 [15:00<00:00,  1.33it/s]\n"
     ]
    },
    {
     "name": "stdout",
     "output_type": "stream",
     "text": [
      "\n",
      "pid=9772 >>> job.da created\n",
      "\n",
      "pid=9772 >>> Saving job.da to: /home/fzhu/SynologyDrive/Dev/Github/sLMR/slmr/LMRt/output/jobs_serial/job_r12.pkl\n",
      "pid=9772 >>> Time used: 15.127209043502807 mins\n",
      "\n",
      "pid=9772 >>> seed=13\n",
      "pid=9772 >>> job.cfg created\n",
      "pid=9772 >>> job.prior created\n",
      "pid=9772 >>> job.prior regridded\n",
      "pid=9772 >>> job.proxy_manager created\n"
     ]
    },
    {
     "name": "stderr",
     "output_type": "stream",
     "text": [
      "KF updating (pid=9772):   0%|          | 1/2000 [00:00<04:09,  8.02it/s]"
     ]
    },
    {
     "name": "stdout",
     "output_type": "stream",
     "text": [
      "pid=9772 >>> job.ye created\n",
      "\n",
      "pid=9772 >>> Recon. period: [0, 2000)\n"
     ]
    },
    {
     "name": "stderr",
     "output_type": "stream",
     "text": [
      "KF updating (pid=9772): 100%|██████████| 2000/2000 [14:58<00:00,  1.37it/s]\n"
     ]
    },
    {
     "name": "stdout",
     "output_type": "stream",
     "text": [
      "\n",
      "pid=9772 >>> job.da created\n",
      "\n",
      "pid=9772 >>> Saving job.da to: /home/fzhu/SynologyDrive/Dev/Github/sLMR/slmr/LMRt/output/jobs_serial/job_r13.pkl\n",
      "pid=9772 >>> Time used: 15.085934253533681 mins\n",
      "\n",
      "pid=9772 >>> seed=14\n",
      "pid=9772 >>> job.cfg created\n",
      "pid=9772 >>> job.prior created\n",
      "pid=9772 >>> job.prior regridded\n",
      "pid=9772 >>> job.proxy_manager created\n"
     ]
    },
    {
     "name": "stderr",
     "output_type": "stream",
     "text": [
      "KF updating (pid=9772):   0%|          | 1/2000 [00:00<04:04,  8.16it/s]"
     ]
    },
    {
     "name": "stdout",
     "output_type": "stream",
     "text": [
      "pid=9772 >>> job.ye created\n",
      "\n",
      "pid=9772 >>> Recon. period: [0, 2000)\n"
     ]
    },
    {
     "name": "stderr",
     "output_type": "stream",
     "text": [
      "KF updating (pid=9772): 100%|██████████| 2000/2000 [15:04<00:00,  1.38it/s]\n"
     ]
    },
    {
     "name": "stdout",
     "output_type": "stream",
     "text": [
      "\n",
      "pid=9772 >>> job.da created\n",
      "\n",
      "pid=9772 >>> Saving job.da to: /home/fzhu/SynologyDrive/Dev/Github/sLMR/slmr/LMRt/output/jobs_serial/job_r14.pkl\n",
      "pid=9772 >>> Time used: 15.191952693462373 mins\n",
      "\n",
      "pid=9772 >>> seed=15\n",
      "pid=9772 >>> job.cfg created\n",
      "pid=9772 >>> job.prior created\n",
      "pid=9772 >>> job.prior regridded\n",
      "pid=9772 >>> job.proxy_manager created\n"
     ]
    },
    {
     "name": "stderr",
     "output_type": "stream",
     "text": [
      "KF updating (pid=9772):   0%|          | 1/2000 [00:00<04:23,  7.58it/s]"
     ]
    },
    {
     "name": "stdout",
     "output_type": "stream",
     "text": [
      "pid=9772 >>> job.ye created\n",
      "\n",
      "pid=9772 >>> Recon. period: [0, 2000)\n"
     ]
    },
    {
     "name": "stderr",
     "output_type": "stream",
     "text": [
      "KF updating (pid=9772): 100%|██████████| 2000/2000 [15:15<00:00,  1.36it/s]\n"
     ]
    },
    {
     "name": "stdout",
     "output_type": "stream",
     "text": [
      "\n",
      "pid=9772 >>> job.da created\n",
      "\n",
      "pid=9772 >>> Saving job.da to: /home/fzhu/SynologyDrive/Dev/Github/sLMR/slmr/LMRt/output/jobs_serial/job_r15.pkl\n",
      "pid=9772 >>> Time used: 15.37833106915156 mins\n",
      "\n",
      "pid=9772 >>> seed=16\n",
      "pid=9772 >>> job.cfg created\n",
      "pid=9772 >>> job.prior created\n",
      "pid=9772 >>> job.prior regridded\n",
      "pid=9772 >>> job.proxy_manager created\n"
     ]
    },
    {
     "name": "stderr",
     "output_type": "stream",
     "text": [
      "KF updating (pid=9772):   0%|          | 1/2000 [00:00<04:07,  8.09it/s]"
     ]
    },
    {
     "name": "stdout",
     "output_type": "stream",
     "text": [
      "pid=9772 >>> job.ye created\n",
      "\n",
      "pid=9772 >>> Recon. period: [0, 2000)\n"
     ]
    },
    {
     "name": "stderr",
     "output_type": "stream",
     "text": [
      "KF updating (pid=9772): 100%|██████████| 2000/2000 [14:56<00:00,  1.31it/s]\n"
     ]
    },
    {
     "name": "stdout",
     "output_type": "stream",
     "text": [
      "\n",
      "pid=9772 >>> job.da created\n",
      "\n",
      "pid=9772 >>> Saving job.da to: /home/fzhu/SynologyDrive/Dev/Github/sLMR/slmr/LMRt/output/jobs_serial/job_r16.pkl\n",
      "pid=9772 >>> Time used: 15.05507073799769 mins\n",
      "\n",
      "pid=9772 >>> seed=17\n",
      "pid=9772 >>> job.cfg created\n",
      "pid=9772 >>> job.prior created\n",
      "pid=9772 >>> job.prior regridded\n",
      "pid=9772 >>> job.proxy_manager created\n"
     ]
    },
    {
     "name": "stderr",
     "output_type": "stream",
     "text": [
      "KF updating (pid=9772):   0%|          | 1/2000 [00:00<04:10,  7.98it/s]"
     ]
    },
    {
     "name": "stdout",
     "output_type": "stream",
     "text": [
      "pid=9772 >>> job.ye created\n",
      "\n",
      "pid=9772 >>> Recon. period: [0, 2000)\n"
     ]
    },
    {
     "name": "stderr",
     "output_type": "stream",
     "text": [
      "KF updating (pid=9772): 100%|██████████| 2000/2000 [14:59<00:00,  1.33it/s]\n"
     ]
    },
    {
     "name": "stdout",
     "output_type": "stream",
     "text": [
      "\n",
      "pid=9772 >>> job.da created\n",
      "\n",
      "pid=9772 >>> Saving job.da to: /home/fzhu/SynologyDrive/Dev/Github/sLMR/slmr/LMRt/output/jobs_serial/job_r17.pkl\n",
      "pid=9772 >>> Time used: 15.105982955296835 mins\n",
      "\n",
      "pid=9772 >>> seed=18\n",
      "pid=9772 >>> job.cfg created\n",
      "pid=9772 >>> job.prior created\n",
      "pid=9772 >>> job.prior regridded\n",
      "pid=9772 >>> job.proxy_manager created\n"
     ]
    },
    {
     "name": "stderr",
     "output_type": "stream",
     "text": [
      "KF updating (pid=9772):   0%|          | 1/2000 [00:00<04:28,  7.45it/s]"
     ]
    },
    {
     "name": "stdout",
     "output_type": "stream",
     "text": [
      "pid=9772 >>> job.ye created\n",
      "\n",
      "pid=9772 >>> Recon. period: [0, 2000)\n"
     ]
    },
    {
     "name": "stderr",
     "output_type": "stream",
     "text": [
      "KF updating (pid=9772): 100%|██████████| 2000/2000 [14:49<00:00,  1.29it/s]\n"
     ]
    },
    {
     "name": "stdout",
     "output_type": "stream",
     "text": [
      "\n",
      "pid=9772 >>> job.da created\n",
      "\n",
      "pid=9772 >>> Saving job.da to: /home/fzhu/SynologyDrive/Dev/Github/sLMR/slmr/LMRt/output/jobs_serial/job_r18.pkl\n",
      "pid=9772 >>> Time used: 14.94783761103948 mins\n",
      "\n",
      "pid=9772 >>> seed=19\n",
      "pid=9772 >>> job.cfg created\n",
      "pid=9772 >>> job.prior created\n",
      "pid=9772 >>> job.prior regridded\n",
      "pid=9772 >>> job.proxy_manager created\n"
     ]
    },
    {
     "name": "stderr",
     "output_type": "stream",
     "text": [
      "KF updating (pid=9772):   0%|          | 1/2000 [00:00<04:04,  8.17it/s]"
     ]
    },
    {
     "name": "stdout",
     "output_type": "stream",
     "text": [
      "pid=9772 >>> job.ye created\n",
      "\n",
      "pid=9772 >>> Recon. period: [0, 2000)\n"
     ]
    },
    {
     "name": "stderr",
     "output_type": "stream",
     "text": [
      "KF updating (pid=9772): 100%|██████████| 2000/2000 [15:02<00:00,  1.37it/s]\n"
     ]
    },
    {
     "name": "stdout",
     "output_type": "stream",
     "text": [
      "\n",
      "pid=9772 >>> job.da created\n",
      "\n",
      "pid=9772 >>> Saving job.da to: /home/fzhu/SynologyDrive/Dev/Github/sLMR/slmr/LMRt/output/jobs_serial/job_r19.pkl\n",
      "pid=9772 >>> Time used: 15.157383569081624 mins\n",
      "\n",
      "pid=9772 >>> seed=20\n",
      "pid=9772 >>> job.cfg created\n",
      "pid=9772 >>> job.prior created\n",
      "pid=9772 >>> job.prior regridded\n",
      "pid=9772 >>> job.proxy_manager created\n"
     ]
    },
    {
     "name": "stderr",
     "output_type": "stream",
     "text": [
      "KF updating (pid=9772):   0%|          | 1/2000 [00:00<04:14,  7.86it/s]"
     ]
    },
    {
     "name": "stdout",
     "output_type": "stream",
     "text": [
      "pid=9772 >>> job.ye created\n",
      "\n",
      "pid=9772 >>> Recon. period: [0, 2000)\n"
     ]
    },
    {
     "name": "stderr",
     "output_type": "stream",
     "text": [
      "KF updating (pid=9772): 100%|██████████| 2000/2000 [14:26<00:00,  1.34it/s]\n"
     ]
    },
    {
     "name": "stdout",
     "output_type": "stream",
     "text": [
      "\n",
      "pid=9772 >>> job.da created\n",
      "\n",
      "pid=9772 >>> Saving job.da to: /home/fzhu/SynologyDrive/Dev/Github/sLMR/slmr/LMRt/output/jobs_serial/job_r20.pkl\n",
      "pid=9772 >>> Time used: 14.5614098072052 mins\n",
      "\n",
      "pid=9772 >>> seed=21\n",
      "pid=9772 >>> job.cfg created\n",
      "pid=9772 >>> job.prior created\n",
      "pid=9772 >>> job.prior regridded\n",
      "pid=9772 >>> job.proxy_manager created\n"
     ]
    },
    {
     "name": "stderr",
     "output_type": "stream",
     "text": [
      "KF updating (pid=9772):   0%|          | 1/2000 [00:00<04:04,  8.18it/s]"
     ]
    },
    {
     "name": "stdout",
     "output_type": "stream",
     "text": [
      "pid=9772 >>> job.ye created\n",
      "\n",
      "pid=9772 >>> Recon. period: [0, 2000)\n"
     ]
    },
    {
     "name": "stderr",
     "output_type": "stream",
     "text": [
      "KF updating (pid=9772): 100%|██████████| 2000/2000 [14:37<00:00,  1.32it/s]\n"
     ]
    },
    {
     "name": "stdout",
     "output_type": "stream",
     "text": [
      "\n",
      "pid=9772 >>> job.da created\n",
      "\n",
      "pid=9772 >>> Saving job.da to: /home/fzhu/SynologyDrive/Dev/Github/sLMR/slmr/LMRt/output/jobs_serial/job_r21.pkl\n",
      "pid=9772 >>> Time used: 14.744688884417217 mins\n",
      "\n",
      "pid=9772 >>> seed=22\n",
      "pid=9772 >>> job.cfg created\n",
      "pid=9772 >>> job.prior created\n",
      "pid=9772 >>> job.prior regridded\n",
      "pid=9772 >>> job.proxy_manager created\n"
     ]
    },
    {
     "name": "stderr",
     "output_type": "stream",
     "text": [
      "KF updating (pid=9772):   0%|          | 1/2000 [00:00<04:30,  7.38it/s]"
     ]
    },
    {
     "name": "stdout",
     "output_type": "stream",
     "text": [
      "pid=9772 >>> job.ye created\n",
      "\n",
      "pid=9772 >>> Recon. period: [0, 2000)\n"
     ]
    },
    {
     "name": "stderr",
     "output_type": "stream",
     "text": [
      "KF updating (pid=9772): 100%|██████████| 2000/2000 [15:09<00:00,  1.25it/s]\n"
     ]
    },
    {
     "name": "stdout",
     "output_type": "stream",
     "text": [
      "\n",
      "pid=9772 >>> job.da created\n",
      "\n",
      "pid=9772 >>> Saving job.da to: /home/fzhu/SynologyDrive/Dev/Github/sLMR/slmr/LMRt/output/jobs_serial/job_r22.pkl\n",
      "pid=9772 >>> Time used: 15.273737176259358 mins\n",
      "\n",
      "pid=9772 >>> seed=23\n",
      "pid=9772 >>> job.cfg created\n",
      "pid=9772 >>> job.prior created\n",
      "pid=9772 >>> job.prior regridded\n",
      "pid=9772 >>> job.proxy_manager created\n"
     ]
    },
    {
     "name": "stderr",
     "output_type": "stream",
     "text": [
      "KF updating (pid=9772):   0%|          | 1/2000 [00:00<04:12,  7.92it/s]"
     ]
    },
    {
     "name": "stdout",
     "output_type": "stream",
     "text": [
      "pid=9772 >>> job.ye created\n",
      "\n",
      "pid=9772 >>> Recon. period: [0, 2000)\n"
     ]
    },
    {
     "name": "stderr",
     "output_type": "stream",
     "text": [
      "KF updating (pid=9772): 100%|██████████| 2000/2000 [15:17<00:00,  1.29it/s]\n"
     ]
    },
    {
     "name": "stdout",
     "output_type": "stream",
     "text": [
      "\n",
      "pid=9772 >>> job.da created\n",
      "\n",
      "pid=9772 >>> Saving job.da to: /home/fzhu/SynologyDrive/Dev/Github/sLMR/slmr/LMRt/output/jobs_serial/job_r23.pkl\n",
      "pid=9772 >>> Time used: 15.401605224609375 mins\n",
      "\n",
      "pid=9772 >>> seed=24\n",
      "pid=9772 >>> job.cfg created\n",
      "pid=9772 >>> job.prior created\n",
      "pid=9772 >>> job.prior regridded\n",
      "pid=9772 >>> job.proxy_manager created\n"
     ]
    },
    {
     "name": "stderr",
     "output_type": "stream",
     "text": [
      "KF updating (pid=9772):   0%|          | 1/2000 [00:00<04:28,  7.44it/s]"
     ]
    },
    {
     "name": "stdout",
     "output_type": "stream",
     "text": [
      "pid=9772 >>> job.ye created\n",
      "\n",
      "pid=9772 >>> Recon. period: [0, 2000)\n"
     ]
    },
    {
     "name": "stderr",
     "output_type": "stream",
     "text": [
      "KF updating (pid=9772): 100%|██████████| 2000/2000 [14:39<00:00,  1.32it/s]\n"
     ]
    },
    {
     "name": "stdout",
     "output_type": "stream",
     "text": [
      "\n",
      "pid=9772 >>> job.da created\n",
      "\n",
      "pid=9772 >>> Saving job.da to: /home/fzhu/SynologyDrive/Dev/Github/sLMR/slmr/LMRt/output/jobs_serial/job_r24.pkl\n",
      "pid=9772 >>> Time used: 14.782929340998331 mins\n",
      "\n",
      "pid=9772 >>> seed=25\n",
      "pid=9772 >>> job.cfg created\n",
      "pid=9772 >>> job.prior created\n",
      "pid=9772 >>> job.prior regridded\n",
      "pid=9772 >>> job.proxy_manager created\n"
     ]
    },
    {
     "name": "stderr",
     "output_type": "stream",
     "text": [
      "KF updating (pid=9772):   0%|          | 1/2000 [00:00<04:05,  8.13it/s]"
     ]
    },
    {
     "name": "stdout",
     "output_type": "stream",
     "text": [
      "pid=9772 >>> job.ye created\n",
      "\n",
      "pid=9772 >>> Recon. period: [0, 2000)\n"
     ]
    },
    {
     "name": "stderr",
     "output_type": "stream",
     "text": [
      "KF updating (pid=9772): 100%|██████████| 2000/2000 [15:01<00:00,  1.32it/s]\n"
     ]
    },
    {
     "name": "stdout",
     "output_type": "stream",
     "text": [
      "\n",
      "pid=9772 >>> job.da created\n",
      "\n",
      "pid=9772 >>> Saving job.da to: /home/fzhu/SynologyDrive/Dev/Github/sLMR/slmr/LMRt/output/jobs_serial/job_r25.pkl\n",
      "pid=9772 >>> Time used: 15.143590084711711 mins\n",
      "\n",
      "pid=9772 >>> seed=26\n",
      "pid=9772 >>> job.cfg created\n",
      "pid=9772 >>> job.prior created\n",
      "pid=9772 >>> job.prior regridded\n",
      "pid=9772 >>> job.proxy_manager created\n"
     ]
    },
    {
     "name": "stderr",
     "output_type": "stream",
     "text": [
      "KF updating (pid=9772):   0%|          | 1/2000 [00:00<04:28,  7.44it/s]"
     ]
    },
    {
     "name": "stdout",
     "output_type": "stream",
     "text": [
      "pid=9772 >>> job.ye created\n",
      "\n",
      "pid=9772 >>> Recon. period: [0, 2000)\n"
     ]
    },
    {
     "name": "stderr",
     "output_type": "stream",
     "text": [
      "KF updating (pid=9772): 100%|██████████| 2000/2000 [15:26<00:00,  1.33it/s]\n"
     ]
    },
    {
     "name": "stdout",
     "output_type": "stream",
     "text": [
      "\n",
      "pid=9772 >>> job.da created\n",
      "\n",
      "pid=9772 >>> Saving job.da to: /home/fzhu/SynologyDrive/Dev/Github/sLMR/slmr/LMRt/output/jobs_serial/job_r26.pkl\n",
      "pid=9772 >>> Time used: 15.553154031435648 mins\n",
      "\n",
      "pid=9772 >>> seed=27\n",
      "pid=9772 >>> job.cfg created\n",
      "pid=9772 >>> job.prior created\n",
      "pid=9772 >>> job.prior regridded\n",
      "pid=9772 >>> job.proxy_manager created\n"
     ]
    },
    {
     "name": "stderr",
     "output_type": "stream",
     "text": [
      "KF updating (pid=9772):   0%|          | 1/2000 [00:00<03:48,  8.75it/s]"
     ]
    },
    {
     "name": "stdout",
     "output_type": "stream",
     "text": [
      "pid=9772 >>> job.ye created\n",
      "\n",
      "pid=9772 >>> Recon. period: [0, 2000)\n"
     ]
    },
    {
     "name": "stderr",
     "output_type": "stream",
     "text": [
      "KF updating (pid=9772): 100%|██████████| 2000/2000 [14:59<00:00,  1.28it/s]\n"
     ]
    },
    {
     "name": "stdout",
     "output_type": "stream",
     "text": [
      "\n",
      "pid=9772 >>> job.da created\n",
      "\n",
      "pid=9772 >>> Saving job.da to: /home/fzhu/SynologyDrive/Dev/Github/sLMR/slmr/LMRt/output/jobs_serial/job_r27.pkl\n",
      "pid=9772 >>> Time used: 15.101583846410115 mins\n",
      "\n",
      "pid=9772 >>> seed=28\n",
      "pid=9772 >>> job.cfg created\n",
      "pid=9772 >>> job.prior created\n",
      "pid=9772 >>> job.prior regridded\n",
      "pid=9772 >>> job.proxy_manager created\n"
     ]
    },
    {
     "name": "stderr",
     "output_type": "stream",
     "text": [
      "KF updating (pid=9772):   0%|          | 1/2000 [00:00<04:26,  7.49it/s]"
     ]
    },
    {
     "name": "stdout",
     "output_type": "stream",
     "text": [
      "pid=9772 >>> job.ye created\n",
      "\n",
      "pid=9772 >>> Recon. period: [0, 2000)\n"
     ]
    },
    {
     "name": "stderr",
     "output_type": "stream",
     "text": [
      "KF updating (pid=9772): 100%|██████████| 2000/2000 [15:09<00:00,  1.32it/s]\n"
     ]
    },
    {
     "name": "stdout",
     "output_type": "stream",
     "text": [
      "\n",
      "pid=9772 >>> job.da created\n",
      "\n",
      "pid=9772 >>> Saving job.da to: /home/fzhu/SynologyDrive/Dev/Github/sLMR/slmr/LMRt/output/jobs_serial/job_r28.pkl\n",
      "pid=9772 >>> Time used: 15.280736299355825 mins\n",
      "\n",
      "pid=9772 >>> seed=29\n",
      "pid=9772 >>> job.cfg created\n",
      "pid=9772 >>> job.prior created\n",
      "pid=9772 >>> job.prior regridded\n",
      "pid=9772 >>> job.proxy_manager created\n"
     ]
    },
    {
     "name": "stderr",
     "output_type": "stream",
     "text": [
      "KF updating (pid=9772):   0%|          | 1/2000 [00:00<04:13,  7.90it/s]"
     ]
    },
    {
     "name": "stdout",
     "output_type": "stream",
     "text": [
      "pid=9772 >>> job.ye created\n",
      "\n",
      "pid=9772 >>> Recon. period: [0, 2000)\n"
     ]
    },
    {
     "name": "stderr",
     "output_type": "stream",
     "text": [
      "KF updating (pid=9772): 100%|██████████| 2000/2000 [14:27<00:00,  1.30it/s]\n"
     ]
    },
    {
     "name": "stdout",
     "output_type": "stream",
     "text": [
      "\n",
      "pid=9772 >>> job.da created\n",
      "\n",
      "pid=9772 >>> Saving job.da to: /home/fzhu/SynologyDrive/Dev/Github/sLMR/slmr/LMRt/output/jobs_serial/job_r29.pkl\n",
      "pid=9772 >>> Time used: 14.569250710805257 mins\n",
      "\n",
      "pid=9772 >>> seed=30\n",
      "pid=9772 >>> job.cfg created\n",
      "pid=9772 >>> job.prior created\n",
      "pid=9772 >>> job.prior regridded\n",
      "pid=9772 >>> job.proxy_manager created\n"
     ]
    },
    {
     "name": "stderr",
     "output_type": "stream",
     "text": [
      "KF updating (pid=9772):   0%|          | 1/2000 [00:00<04:14,  7.85it/s]"
     ]
    },
    {
     "name": "stdout",
     "output_type": "stream",
     "text": [
      "pid=9772 >>> job.ye created\n",
      "\n",
      "pid=9772 >>> Recon. period: [0, 2000)\n"
     ]
    },
    {
     "name": "stderr",
     "output_type": "stream",
     "text": [
      "KF updating (pid=9772): 100%|██████████| 2000/2000 [14:41<00:00,  1.33it/s]\n"
     ]
    },
    {
     "name": "stdout",
     "output_type": "stream",
     "text": [
      "\n",
      "pid=9772 >>> job.da created\n",
      "\n",
      "pid=9772 >>> Saving job.da to: /home/fzhu/SynologyDrive/Dev/Github/sLMR/slmr/LMRt/output/jobs_serial/job_r30.pkl\n",
      "pid=9772 >>> Time used: 14.813088234265646 mins\n",
      "\n",
      "pid=9772 >>> seed=31\n",
      "pid=9772 >>> job.cfg created\n",
      "pid=9772 >>> job.prior created\n",
      "pid=9772 >>> job.prior regridded\n",
      "pid=9772 >>> job.proxy_manager created\n"
     ]
    },
    {
     "name": "stderr",
     "output_type": "stream",
     "text": [
      "KF updating (pid=9772):   0%|          | 1/2000 [00:00<04:19,  7.71it/s]"
     ]
    },
    {
     "name": "stdout",
     "output_type": "stream",
     "text": [
      "pid=9772 >>> job.ye created\n",
      "\n",
      "pid=9772 >>> Recon. period: [0, 2000)\n"
     ]
    },
    {
     "name": "stderr",
     "output_type": "stream",
     "text": [
      "KF updating (pid=9772): 100%|██████████| 2000/2000 [15:15<00:00,  1.31it/s]\n"
     ]
    },
    {
     "name": "stdout",
     "output_type": "stream",
     "text": [
      "\n",
      "pid=9772 >>> job.da created\n",
      "\n",
      "pid=9772 >>> Saving job.da to: /home/fzhu/SynologyDrive/Dev/Github/sLMR/slmr/LMRt/output/jobs_serial/job_r31.pkl\n",
      "pid=9772 >>> Time used: 15.367200477917988 mins\n",
      "\n",
      "pid=9772 >>> seed=32\n",
      "pid=9772 >>> job.cfg created\n",
      "pid=9772 >>> job.prior created\n",
      "pid=9772 >>> job.prior regridded\n",
      "pid=9772 >>> job.proxy_manager created\n"
     ]
    },
    {
     "name": "stderr",
     "output_type": "stream",
     "text": [
      "KF updating (pid=9772):   0%|          | 1/2000 [00:00<04:09,  8.01it/s]"
     ]
    },
    {
     "name": "stdout",
     "output_type": "stream",
     "text": [
      "pid=9772 >>> job.ye created\n",
      "\n",
      "pid=9772 >>> Recon. period: [0, 2000)\n"
     ]
    },
    {
     "name": "stderr",
     "output_type": "stream",
     "text": [
      "KF updating (pid=9772): 100%|██████████| 2000/2000 [15:13<00:00,  1.26it/s]\n"
     ]
    },
    {
     "name": "stdout",
     "output_type": "stream",
     "text": [
      "\n",
      "pid=9772 >>> job.da created\n",
      "\n",
      "pid=9772 >>> Saving job.da to: /home/fzhu/SynologyDrive/Dev/Github/sLMR/slmr/LMRt/output/jobs_serial/job_r32.pkl\n",
      "pid=9772 >>> Time used: 15.33260350227356 mins\n",
      "\n",
      "pid=9772 >>> seed=33\n",
      "pid=9772 >>> job.cfg created\n",
      "pid=9772 >>> job.prior created\n",
      "pid=9772 >>> job.prior regridded\n",
      "pid=9772 >>> job.proxy_manager created\n"
     ]
    },
    {
     "name": "stderr",
     "output_type": "stream",
     "text": [
      "KF updating (pid=9772):   0%|          | 1/2000 [00:00<04:18,  7.73it/s]"
     ]
    },
    {
     "name": "stdout",
     "output_type": "stream",
     "text": [
      "pid=9772 >>> job.ye created\n",
      "\n",
      "pid=9772 >>> Recon. period: [0, 2000)\n"
     ]
    },
    {
     "name": "stderr",
     "output_type": "stream",
     "text": [
      "KF updating (pid=9772): 100%|██████████| 2000/2000 [15:10<00:00,  1.33it/s]\n"
     ]
    },
    {
     "name": "stdout",
     "output_type": "stream",
     "text": [
      "\n",
      "pid=9772 >>> job.da created\n",
      "\n",
      "pid=9772 >>> Saving job.da to: /home/fzhu/SynologyDrive/Dev/Github/sLMR/slmr/LMRt/output/jobs_serial/job_r33.pkl\n",
      "pid=9772 >>> Time used: 15.285906636714936 mins\n",
      "\n",
      "pid=9772 >>> seed=34\n",
      "pid=9772 >>> job.cfg created\n",
      "pid=9772 >>> job.prior created\n",
      "pid=9772 >>> job.prior regridded\n",
      "pid=9772 >>> job.proxy_manager created\n"
     ]
    },
    {
     "name": "stderr",
     "output_type": "stream",
     "text": [
      "KF updating (pid=9772):   0%|          | 1/2000 [00:00<04:26,  7.50it/s]"
     ]
    },
    {
     "name": "stdout",
     "output_type": "stream",
     "text": [
      "pid=9772 >>> job.ye created\n",
      "\n",
      "pid=9772 >>> Recon. period: [0, 2000)\n"
     ]
    },
    {
     "name": "stderr",
     "output_type": "stream",
     "text": [
      "KF updating (pid=9772): 100%|██████████| 2000/2000 [15:05<00:00,  1.30it/s]\n"
     ]
    },
    {
     "name": "stdout",
     "output_type": "stream",
     "text": [
      "\n",
      "pid=9772 >>> job.da created\n",
      "\n",
      "pid=9772 >>> Saving job.da to: /home/fzhu/SynologyDrive/Dev/Github/sLMR/slmr/LMRt/output/jobs_serial/job_r34.pkl\n",
      "pid=9772 >>> Time used: 15.203729514280955 mins\n",
      "\n",
      "pid=9772 >>> seed=35\n",
      "pid=9772 >>> job.cfg created\n",
      "pid=9772 >>> job.prior created\n",
      "pid=9772 >>> job.prior regridded\n",
      "pid=9772 >>> job.proxy_manager created\n"
     ]
    },
    {
     "name": "stderr",
     "output_type": "stream",
     "text": [
      "KF updating (pid=9772):   0%|          | 1/2000 [00:00<04:11,  7.95it/s]"
     ]
    },
    {
     "name": "stdout",
     "output_type": "stream",
     "text": [
      "pid=9772 >>> job.ye created\n",
      "\n",
      "pid=9772 >>> Recon. period: [0, 2000)\n"
     ]
    },
    {
     "name": "stderr",
     "output_type": "stream",
     "text": [
      "KF updating (pid=9772): 100%|██████████| 2000/2000 [15:06<00:00,  1.32it/s]\n"
     ]
    },
    {
     "name": "stdout",
     "output_type": "stream",
     "text": [
      "\n",
      "pid=9772 >>> job.da created\n",
      "\n",
      "pid=9772 >>> Saving job.da to: /home/fzhu/SynologyDrive/Dev/Github/sLMR/slmr/LMRt/output/jobs_serial/job_r35.pkl\n",
      "pid=9772 >>> Time used: 15.225137646993002 mins\n",
      "\n",
      "pid=9772 >>> seed=36\n",
      "pid=9772 >>> job.cfg created\n",
      "pid=9772 >>> job.prior created\n",
      "pid=9772 >>> job.prior regridded\n",
      "pid=9772 >>> job.proxy_manager created\n"
     ]
    },
    {
     "name": "stderr",
     "output_type": "stream",
     "text": [
      "KF updating (pid=9772):   0%|          | 1/2000 [00:00<03:56,  8.44it/s]"
     ]
    },
    {
     "name": "stdout",
     "output_type": "stream",
     "text": [
      "pid=9772 >>> job.ye created\n",
      "\n",
      "pid=9772 >>> Recon. period: [0, 2000)\n"
     ]
    },
    {
     "name": "stderr",
     "output_type": "stream",
     "text": [
      "KF updating (pid=9772): 100%|██████████| 2000/2000 [14:43<00:00,  1.32it/s]\n"
     ]
    },
    {
     "name": "stdout",
     "output_type": "stream",
     "text": [
      "\n",
      "pid=9772 >>> job.da created\n",
      "\n",
      "pid=9772 >>> Saving job.da to: /home/fzhu/SynologyDrive/Dev/Github/sLMR/slmr/LMRt/output/jobs_serial/job_r36.pkl\n",
      "pid=9772 >>> Time used: 14.846864410241444 mins\n",
      "\n",
      "pid=9772 >>> seed=37\n",
      "pid=9772 >>> job.cfg created\n",
      "pid=9772 >>> job.prior created\n",
      "pid=9772 >>> job.prior regridded\n",
      "pid=9772 >>> job.proxy_manager created\n"
     ]
    },
    {
     "name": "stderr",
     "output_type": "stream",
     "text": [
      "KF updating (pid=9772):   0%|          | 1/2000 [00:00<04:16,  7.78it/s]"
     ]
    },
    {
     "name": "stdout",
     "output_type": "stream",
     "text": [
      "pid=9772 >>> job.ye created\n",
      "\n",
      "pid=9772 >>> Recon. period: [0, 2000)\n"
     ]
    },
    {
     "name": "stderr",
     "output_type": "stream",
     "text": [
      "KF updating (pid=9772): 100%|██████████| 2000/2000 [14:42<00:00,  1.32it/s]\n"
     ]
    },
    {
     "name": "stdout",
     "output_type": "stream",
     "text": [
      "\n",
      "pid=9772 >>> job.da created\n",
      "\n",
      "pid=9772 >>> Saving job.da to: /home/fzhu/SynologyDrive/Dev/Github/sLMR/slmr/LMRt/output/jobs_serial/job_r37.pkl\n",
      "pid=9772 >>> Time used: 14.825124196211497 mins\n",
      "\n",
      "pid=9772 >>> seed=38\n",
      "pid=9772 >>> job.cfg created\n",
      "pid=9772 >>> job.prior created\n",
      "pid=9772 >>> job.prior regridded\n",
      "pid=9772 >>> job.proxy_manager created\n"
     ]
    },
    {
     "name": "stderr",
     "output_type": "stream",
     "text": [
      "KF updating (pid=9772):   0%|          | 1/2000 [00:00<04:14,  7.84it/s]"
     ]
    },
    {
     "name": "stdout",
     "output_type": "stream",
     "text": [
      "pid=9772 >>> job.ye created\n",
      "\n",
      "pid=9772 >>> Recon. period: [0, 2000)\n"
     ]
    },
    {
     "name": "stderr",
     "output_type": "stream",
     "text": [
      "KF updating (pid=9772): 100%|██████████| 2000/2000 [15:33<00:00,  1.36it/s]\n"
     ]
    },
    {
     "name": "stdout",
     "output_type": "stream",
     "text": [
      "\n",
      "pid=9772 >>> job.da created\n",
      "\n",
      "pid=9772 >>> Saving job.da to: /home/fzhu/SynologyDrive/Dev/Github/sLMR/slmr/LMRt/output/jobs_serial/job_r38.pkl\n",
      "pid=9772 >>> Time used: 15.67261101404826 mins\n",
      "\n",
      "pid=9772 >>> seed=39\n",
      "pid=9772 >>> job.cfg created\n",
      "pid=9772 >>> job.prior created\n",
      "pid=9772 >>> job.prior regridded\n",
      "pid=9772 >>> job.proxy_manager created\n"
     ]
    },
    {
     "name": "stderr",
     "output_type": "stream",
     "text": [
      "KF updating (pid=9772):   0%|          | 1/2000 [00:00<03:56,  8.45it/s]"
     ]
    },
    {
     "name": "stdout",
     "output_type": "stream",
     "text": [
      "pid=9772 >>> job.ye created\n",
      "\n",
      "pid=9772 >>> Recon. period: [0, 2000)\n"
     ]
    },
    {
     "name": "stderr",
     "output_type": "stream",
     "text": [
      "KF updating (pid=9772): 100%|██████████| 2000/2000 [14:48<00:00,  1.29it/s]\n"
     ]
    },
    {
     "name": "stdout",
     "output_type": "stream",
     "text": [
      "\n",
      "pid=9772 >>> job.da created\n",
      "\n",
      "pid=9772 >>> Saving job.da to: /home/fzhu/SynologyDrive/Dev/Github/sLMR/slmr/LMRt/output/jobs_serial/job_r39.pkl\n",
      "pid=9772 >>> Time used: 14.924505686759948 mins\n",
      "\n",
      "pid=9772 >>> seed=40\n",
      "pid=9772 >>> job.cfg created\n",
      "pid=9772 >>> job.prior created\n",
      "pid=9772 >>> job.prior regridded\n",
      "pid=9772 >>> job.proxy_manager created\n"
     ]
    },
    {
     "name": "stderr",
     "output_type": "stream",
     "text": [
      "KF updating (pid=9772):   0%|          | 1/2000 [00:00<04:03,  8.21it/s]"
     ]
    },
    {
     "name": "stdout",
     "output_type": "stream",
     "text": [
      "pid=9772 >>> job.ye created\n",
      "\n",
      "pid=9772 >>> Recon. period: [0, 2000)\n"
     ]
    },
    {
     "name": "stderr",
     "output_type": "stream",
     "text": [
      "KF updating (pid=9772): 100%|██████████| 2000/2000 [14:38<00:00,  1.29it/s]\n"
     ]
    },
    {
     "name": "stdout",
     "output_type": "stream",
     "text": [
      "\n",
      "pid=9772 >>> job.da created\n",
      "\n",
      "pid=9772 >>> Saving job.da to: /home/fzhu/SynologyDrive/Dev/Github/sLMR/slmr/LMRt/output/jobs_serial/job_r40.pkl\n",
      "pid=9772 >>> Time used: 14.760427025953929 mins\n",
      "\n",
      "pid=9772 >>> seed=41\n",
      "pid=9772 >>> job.cfg created\n",
      "pid=9772 >>> job.prior created\n",
      "pid=9772 >>> job.prior regridded\n",
      "pid=9772 >>> job.proxy_manager created\n"
     ]
    },
    {
     "name": "stderr",
     "output_type": "stream",
     "text": [
      "KF updating (pid=9772):   0%|          | 1/2000 [00:00<04:36,  7.24it/s]"
     ]
    },
    {
     "name": "stdout",
     "output_type": "stream",
     "text": [
      "pid=9772 >>> job.ye created\n",
      "\n",
      "pid=9772 >>> Recon. period: [0, 2000)\n"
     ]
    },
    {
     "name": "stderr",
     "output_type": "stream",
     "text": [
      "KF updating (pid=9772): 100%|██████████| 2000/2000 [14:44<00:00,  1.34it/s]\n"
     ]
    },
    {
     "name": "stdout",
     "output_type": "stream",
     "text": [
      "\n",
      "pid=9772 >>> job.da created\n",
      "\n",
      "pid=9772 >>> Saving job.da to: /home/fzhu/SynologyDrive/Dev/Github/sLMR/slmr/LMRt/output/jobs_serial/job_r41.pkl\n",
      "pid=9772 >>> Time used: 14.854312845071156 mins\n",
      "\n",
      "pid=9772 >>> seed=42\n",
      "pid=9772 >>> job.cfg created\n",
      "pid=9772 >>> job.prior created\n",
      "pid=9772 >>> job.prior regridded\n",
      "pid=9772 >>> job.proxy_manager created\n"
     ]
    },
    {
     "name": "stderr",
     "output_type": "stream",
     "text": [
      "KF updating (pid=9772):   0%|          | 1/2000 [00:00<04:16,  7.79it/s]"
     ]
    },
    {
     "name": "stdout",
     "output_type": "stream",
     "text": [
      "pid=9772 >>> job.ye created\n",
      "\n",
      "pid=9772 >>> Recon. period: [0, 2000)\n"
     ]
    },
    {
     "name": "stderr",
     "output_type": "stream",
     "text": [
      "KF updating (pid=9772): 100%|██████████| 2000/2000 [15:05<00:00,  1.34it/s]\n"
     ]
    },
    {
     "name": "stdout",
     "output_type": "stream",
     "text": [
      "\n",
      "pid=9772 >>> job.da created\n",
      "\n",
      "pid=9772 >>> Saving job.da to: /home/fzhu/SynologyDrive/Dev/Github/sLMR/slmr/LMRt/output/jobs_serial/job_r42.pkl\n",
      "pid=9772 >>> Time used: 15.201485145092011 mins\n",
      "\n",
      "pid=9772 >>> seed=43\n",
      "pid=9772 >>> job.cfg created\n",
      "pid=9772 >>> job.prior created\n",
      "pid=9772 >>> job.prior regridded\n",
      "pid=9772 >>> job.proxy_manager created\n"
     ]
    },
    {
     "name": "stderr",
     "output_type": "stream",
     "text": [
      "KF updating (pid=9772):   0%|          | 1/2000 [00:00<04:30,  7.40it/s]"
     ]
    },
    {
     "name": "stdout",
     "output_type": "stream",
     "text": [
      "pid=9772 >>> job.ye created\n",
      "\n",
      "pid=9772 >>> Recon. period: [0, 2000)\n"
     ]
    },
    {
     "name": "stderr",
     "output_type": "stream",
     "text": [
      "KF updating (pid=9772): 100%|██████████| 2000/2000 [14:55<00:00,  1.30it/s]\n"
     ]
    },
    {
     "name": "stdout",
     "output_type": "stream",
     "text": [
      "\n",
      "pid=9772 >>> job.da created\n",
      "\n",
      "pid=9772 >>> Saving job.da to: /home/fzhu/SynologyDrive/Dev/Github/sLMR/slmr/LMRt/output/jobs_serial/job_r43.pkl\n",
      "pid=9772 >>> Time used: 15.038262124856313 mins\n",
      "\n",
      "pid=9772 >>> seed=44\n",
      "pid=9772 >>> job.cfg created\n",
      "pid=9772 >>> job.prior created\n",
      "pid=9772 >>> job.prior regridded\n",
      "pid=9772 >>> job.proxy_manager created\n"
     ]
    },
    {
     "name": "stderr",
     "output_type": "stream",
     "text": [
      "KF updating (pid=9772):   0%|          | 1/2000 [00:00<04:01,  8.29it/s]"
     ]
    },
    {
     "name": "stdout",
     "output_type": "stream",
     "text": [
      "pid=9772 >>> job.ye created\n",
      "\n",
      "pid=9772 >>> Recon. period: [0, 2000)\n"
     ]
    },
    {
     "name": "stderr",
     "output_type": "stream",
     "text": [
      "KF updating (pid=9772): 100%|██████████| 2000/2000 [15:07<00:00,  1.33it/s]\n"
     ]
    },
    {
     "name": "stdout",
     "output_type": "stream",
     "text": [
      "\n",
      "pid=9772 >>> job.da created\n",
      "\n",
      "pid=9772 >>> Saving job.da to: /home/fzhu/SynologyDrive/Dev/Github/sLMR/slmr/LMRt/output/jobs_serial/job_r44.pkl\n",
      "pid=9772 >>> Time used: 15.244796367486318 mins\n",
      "\n",
      "pid=9772 >>> seed=45\n",
      "pid=9772 >>> job.cfg created\n",
      "pid=9772 >>> job.prior created\n",
      "pid=9772 >>> job.prior regridded\n",
      "pid=9772 >>> job.proxy_manager created\n"
     ]
    },
    {
     "name": "stderr",
     "output_type": "stream",
     "text": [
      "KF updating (pid=9772):   0%|          | 1/2000 [00:00<04:11,  7.95it/s]"
     ]
    },
    {
     "name": "stdout",
     "output_type": "stream",
     "text": [
      "pid=9772 >>> job.ye created\n",
      "\n",
      "pid=9772 >>> Recon. period: [0, 2000)\n"
     ]
    },
    {
     "name": "stderr",
     "output_type": "stream",
     "text": [
      "KF updating (pid=9772): 100%|██████████| 2000/2000 [14:50<00:00,  1.30it/s]\n"
     ]
    },
    {
     "name": "stdout",
     "output_type": "stream",
     "text": [
      "\n",
      "pid=9772 >>> job.da created\n",
      "\n",
      "pid=9772 >>> Saving job.da to: /home/fzhu/SynologyDrive/Dev/Github/sLMR/slmr/LMRt/output/jobs_serial/job_r45.pkl\n",
      "pid=9772 >>> Time used: 14.956968462467193 mins\n",
      "\n",
      "pid=9772 >>> seed=46\n",
      "pid=9772 >>> job.cfg created\n",
      "pid=9772 >>> job.prior created\n",
      "pid=9772 >>> job.prior regridded\n",
      "pid=9772 >>> job.proxy_manager created\n"
     ]
    },
    {
     "name": "stderr",
     "output_type": "stream",
     "text": [
      "KF updating (pid=9772):   0%|          | 1/2000 [00:00<04:00,  8.30it/s]"
     ]
    },
    {
     "name": "stdout",
     "output_type": "stream",
     "text": [
      "pid=9772 >>> job.ye created\n",
      "\n",
      "pid=9772 >>> Recon. period: [0, 2000)\n"
     ]
    },
    {
     "name": "stderr",
     "output_type": "stream",
     "text": [
      "KF updating (pid=9772): 100%|██████████| 2000/2000 [15:19<00:00,  1.32it/s]\n"
     ]
    },
    {
     "name": "stdout",
     "output_type": "stream",
     "text": [
      "\n",
      "pid=9772 >>> job.da created\n",
      "\n",
      "pid=9772 >>> Saving job.da to: /home/fzhu/SynologyDrive/Dev/Github/sLMR/slmr/LMRt/output/jobs_serial/job_r46.pkl\n",
      "pid=9772 >>> Time used: 15.449657543500264 mins\n",
      "\n",
      "pid=9772 >>> seed=47\n",
      "pid=9772 >>> job.cfg created\n",
      "pid=9772 >>> job.prior created\n",
      "pid=9772 >>> job.prior regridded\n",
      "pid=9772 >>> job.proxy_manager created\n"
     ]
    },
    {
     "name": "stderr",
     "output_type": "stream",
     "text": [
      "KF updating (pid=9772):   0%|          | 1/2000 [00:00<04:08,  8.03it/s]"
     ]
    },
    {
     "name": "stdout",
     "output_type": "stream",
     "text": [
      "pid=9772 >>> job.ye created\n",
      "\n",
      "pid=9772 >>> Recon. period: [0, 2000)\n"
     ]
    },
    {
     "name": "stderr",
     "output_type": "stream",
     "text": [
      "KF updating (pid=9772): 100%|██████████| 2000/2000 [15:06<00:00,  1.31it/s]\n"
     ]
    },
    {
     "name": "stdout",
     "output_type": "stream",
     "text": [
      "\n",
      "pid=9772 >>> job.da created\n",
      "\n",
      "pid=9772 >>> Saving job.da to: /home/fzhu/SynologyDrive/Dev/Github/sLMR/slmr/LMRt/output/jobs_serial/job_r47.pkl\n",
      "pid=9772 >>> Time used: 15.234991828600565 mins\n",
      "\n",
      "pid=9772 >>> seed=48\n",
      "pid=9772 >>> job.cfg created\n",
      "pid=9772 >>> job.prior created\n",
      "pid=9772 >>> job.prior regridded\n",
      "pid=9772 >>> job.proxy_manager created\n"
     ]
    },
    {
     "name": "stderr",
     "output_type": "stream",
     "text": [
      "KF updating (pid=9772):   0%|          | 1/2000 [00:00<04:13,  7.87it/s]"
     ]
    },
    {
     "name": "stdout",
     "output_type": "stream",
     "text": [
      "pid=9772 >>> job.ye created\n",
      "\n",
      "pid=9772 >>> Recon. period: [0, 2000)\n"
     ]
    },
    {
     "name": "stderr",
     "output_type": "stream",
     "text": [
      "KF updating (pid=9772): 100%|██████████| 2000/2000 [15:19<00:00,  1.35it/s]\n"
     ]
    },
    {
     "name": "stdout",
     "output_type": "stream",
     "text": [
      "\n",
      "pid=9772 >>> job.da created\n",
      "\n",
      "pid=9772 >>> Saving job.da to: /home/fzhu/SynologyDrive/Dev/Github/sLMR/slmr/LMRt/output/jobs_serial/job_r48.pkl\n",
      "pid=9772 >>> Time used: 15.436603689193726 mins\n",
      "\n",
      "pid=9772 >>> seed=49\n",
      "pid=9772 >>> job.cfg created\n",
      "pid=9772 >>> job.prior created\n",
      "pid=9772 >>> job.prior regridded\n",
      "pid=9772 >>> job.proxy_manager created\n"
     ]
    },
    {
     "name": "stderr",
     "output_type": "stream",
     "text": [
      "KF updating (pid=9772):   0%|          | 1/2000 [00:00<04:21,  7.65it/s]"
     ]
    },
    {
     "name": "stdout",
     "output_type": "stream",
     "text": [
      "pid=9772 >>> job.ye created\n",
      "\n",
      "pid=9772 >>> Recon. period: [0, 2000)\n"
     ]
    },
    {
     "name": "stderr",
     "output_type": "stream",
     "text": [
      "KF updating (pid=9772): 100%|██████████| 2000/2000 [14:48<00:00,  1.26it/s]"
     ]
    },
    {
     "name": "stdout",
     "output_type": "stream",
     "text": [
      "\n",
      "pid=9772 >>> job.da created\n",
      "\n",
      "pid=9772 >>> Saving job.da to: /home/fzhu/SynologyDrive/Dev/Github/sLMR/slmr/LMRt/output/jobs_serial/job_r49.pkl\n",
      "pid=9772 >>> Time used: 14.924189535776774 mins\n",
      "\n",
      "CPU times: user 2d 6h 59min 38s, sys: 3d 22h 37min 28s, total: 6d 5h 37min 7s\n",
      "Wall time: 12h 37min 13s\n"
     ]
    },
    {
     "name": "stderr",
     "output_type": "stream",
     "text": [
      "\n"
     ]
    }
   ],
   "source": [
    "%%time\n",
    "\n",
    "seeds = np.arange(50)\n",
    "print(f'Seeds={seeds}')\n",
    "\n",
    "save_dirpath = '/home/fzhu/SynologyDrive/Dev/Github/sLMR/slmr/LMRt/output/jobs_serial'\n",
    "for seed in seeds:\n",
    "    start = time.time()\n",
    "    \n",
    "    print(f'pid={os.getpid()} >>> seed={seed}')\n",
    "    job = LMRt.ReconJob()\n",
    "    job.run(prior_filepath, db_proxies_filepath, db_metadata_filepath,\n",
    "         precalib_filesdict=precalib_filesdict, ye_filesdict=ye_filesdict,\n",
    "         seed=seed, save_dirpath=save_dirpath, mode='normal')\n",
    "        \n",
    "    end = time.time()\n",
    "    time_used = (end-start)/60.0\n",
    "    print(f'pid={os.getpid()} >>> Time used: {time_used} mins\\n')"
   ]
  },
  {
   "cell_type": "markdown",
   "metadata": {},
   "source": [
    "To plot the results, just tell the function `vs.plot_gmt_ts_from_jobs` the path of the directory where we save the results."
   ]
  },
  {
   "cell_type": "code",
   "execution_count": 14,
   "metadata": {},
   "outputs": [
    {
     "data": {
      "image/png": "[encoded data removed]",
      "text/plain": [
       "<matplotlib.figure.Figure at 0x7fe723eaecc0>"
      ]
     },
     "metadata": {},
     "output_type": "display_data"
    }
   ],
   "source": [
    "save_dirpath = '/home/fzhu/SynologyDrive/Dev/Github/sLMR/slmr/LMRt/output/jobs_serial'\n",
    "fig = vs.plot_gmt_ts_from_jobs(save_dirpath)"
   ]
  },
  {
   "cell_type": "markdown",
   "metadata": {},
   "source": [
    "## Summary"
   ]
  },
  {
   "cell_type": "markdown",
   "metadata": {},
   "source": [
    "LMRt aims to provide a packaged version of the LMR framework.\n",
    "It is inspired by LMR_lite.py originated by Greg Hakim (Univ. of Washington).\n",
    "\n",
    "Pros: less code; more flexibility\n",
    "+ No need to specify fixed paths or directory structures; only need to feed the correct files\n",
    "+ Interactive style (Jupyter notebook, ipython shell); keep a clean experiment record when use a Jupyter notebook\n",
    "+ Output whatever you want from the object ReconJob()\n",
    "+ Easy for parallel computing\n",
    "+ For experiments such as pseudoproxy/PSM exps., only need to replace the files to feed (as long as the files follow the pre-defined format)\n",
    "\n",
    "Cons: still in beta\n",
    "+ The current version only keeps the minimal part of code, and it can only handle priors in netCDF format with lat/lon dimensions; other priors with vertical 2-D are not supported yet\n",
    "+ build_ye_files(), which is related to PSMs, is still under development"
   ]
  },
  {
   "cell_type": "code",
   "execution_count": null,
   "metadata": {},
   "outputs": [],
   "source": []
  }
 ],
 "metadata": {
  "kernelspec": {
   "display_name": "Python 3",
   "language": "python",
   "name": "python3"
  },
  "language_info": {
   "codemirror_mode": {
    "name": "ipython",
    "version": 3
   },
   "file_extension": ".py",
   "mimetype": "text/x-python",
   "name": "python",
   "nbconvert_exporter": "python",
   "pygments_lexer": "ipython3",
   "version": "3.6.0"
  }
 },
 "nbformat": 4,
 "nbformat_minor": 2
}
